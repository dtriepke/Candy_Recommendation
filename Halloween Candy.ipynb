{
 "cells": [
  {
   "cell_type": "markdown",
   "metadata": {
    "nbpresent": {
     "id": "bf4b2f87-b60d-43c8-afca-e6adae1c368b"
    }
   },
   "source": [
    "# Expanding candy offering\n",
    "***\n",
    "\n",
    "**Scenario** \n",
    "\n",
    "The ** purchasing group wants to expand our candy offering. These are store brand candies that we sell along the brand offerings. The idea is to create a brand new product. The team is discussing various options at the moment. Some prefer cookie-based sweets while others think that it should be gummies. The Divisional Director responsible for purchasing has decided to use a more data-driven approach. He contracted with a market research group to collect data on products in the market and their characteristics and customer sentiment. \n",
    " \n",
    "The market research data is now available and it is your job to find out which product characteristics drive customer sentiment and subsequently make a recommendation on a new product. \n",
    "\n",
    " \n",
    " \n",
    "**Data**   \n",
    "The data set is located (incl. a short description) here: https://github.com/fivethirtyeight/data/tree/master/candy-power-ranking The data set is provided by FiveThirtyEight under the Creative Commons Attribution 4.0 International license (https://creativecommons.org/licenses/by/4.0/) \n",
    " \n",
    "\n",
    "\n",
    "The data contains the following columns:  \n",
    "- chocolate: Does it contain chocolate?\n",
    "- fruity: Is it fruit flavored?\n",
    "- caramel: Is there caramel in the candy?\n",
    "- peanutalmondy: Does it contain peanuts, peanut butter or almonds?\n",
    "- nougat: Does it contain nougat?\n",
    "- crispedricewafer: Does it contain crisped rice, wafers, or a cookie component?\n",
    "- hard: Is it a hard candy?\n",
    "- bar: Is it a candy bar?\n",
    "- pluribus: Is it one of many candies in a bag or box?\n",
    "- sugarpercent: The percentile of sugar it falls under within the data set.\n",
    "- pricepercent: The unit price percentile compared to the rest of the set.\n",
    "- winpercent: The overall win percentage according to 269,000 matchups.\n",
    "\n",
    "\n",
    "**Data Assumptions:**  \n",
    "The motivation for creating the `candy-data` set was to support the buying decision in the supermarket when it comes to candy selection for Halloween. For that, FiveThirtyEight did an experiment where 8,371 different IP addresses voted on about 269,000 randomly generated matchups.\n",
    "\n",
    "\n",
    "**Limitations**  \n",
    "The data was created online and there is no knowledge about the participants and their preferences. Just the purpose of Halloween is been known. It is, therefore, questioning whether the data is reliable for other markets then the US and if it contains generalisation ability.\n",
    "\n",
    "\n"
   ]
  },
  {
   "cell_type": "markdown",
   "metadata": {
    "nbpresent": {
     "id": "13f658bc-f031-4518-a0f0-3412f2f03a06"
    }
   },
   "source": [
    "## Imports\n",
    "***"
   ]
  },
  {
   "cell_type": "code",
   "execution_count": 79,
   "metadata": {
    "collapsed": false,
    "nbpresent": {
     "id": "90e8a1bb-df84-4b67-80a5-0c7d5d9c5324"
    }
   },
   "outputs": [],
   "source": [
    "import pandas as pd\n",
    "import numpy as np\n",
    "import random\n",
    "\n",
    "import matplotlib.pyplot as plt\n",
    "import seaborn as sns\n",
    "%matplotlib inline\n",
    "\n",
    "sns.set_palette(\"GnBu_d\")\n",
    "sns.set_style('whitegrid')"
   ]
  },
  {
   "cell_type": "markdown",
   "metadata": {
    "nbpresent": {
     "id": "16c23815-5d8d-40ab-8405-b6998e233212"
    }
   },
   "source": [
    "## Load Data and Checkout\n",
    "***\n"
   ]
  },
  {
   "cell_type": "code",
   "execution_count": 80,
   "metadata": {
    "collapsed": false,
    "nbpresent": {
     "id": "7212bec3-ff51-4bd2-a479-ff26a57f03e2"
    }
   },
   "outputs": [
    {
     "data": {
      "text/html": [
       "<div>\n",
       "<style scoped>\n",
       "    .dataframe tbody tr th:only-of-type {\n",
       "        vertical-align: middle;\n",
       "    }\n",
       "\n",
       "    .dataframe tbody tr th {\n",
       "        vertical-align: top;\n",
       "    }\n",
       "\n",
       "    .dataframe thead th {\n",
       "        text-align: right;\n",
       "    }\n",
       "</style>\n",
       "<table border=\"1\" class=\"dataframe\">\n",
       "  <thead>\n",
       "    <tr style=\"text-align: right;\">\n",
       "      <th></th>\n",
       "      <th>competitorname</th>\n",
       "      <th>chocolate</th>\n",
       "      <th>fruity</th>\n",
       "      <th>caramel</th>\n",
       "      <th>peanutyalmondy</th>\n",
       "      <th>nougat</th>\n",
       "      <th>crispedricewafer</th>\n",
       "      <th>hard</th>\n",
       "      <th>bar</th>\n",
       "      <th>pluribus</th>\n",
       "      <th>sugarpercent</th>\n",
       "      <th>pricepercent</th>\n",
       "      <th>winpercent</th>\n",
       "    </tr>\n",
       "  </thead>\n",
       "  <tbody>\n",
       "    <tr>\n",
       "      <td>0</td>\n",
       "      <td>100 Grand</td>\n",
       "      <td>1</td>\n",
       "      <td>0</td>\n",
       "      <td>1</td>\n",
       "      <td>0</td>\n",
       "      <td>0</td>\n",
       "      <td>1</td>\n",
       "      <td>0</td>\n",
       "      <td>1</td>\n",
       "      <td>0</td>\n",
       "      <td>0.732</td>\n",
       "      <td>0.860</td>\n",
       "      <td>66.971725</td>\n",
       "    </tr>\n",
       "    <tr>\n",
       "      <td>1</td>\n",
       "      <td>3 Musketeers</td>\n",
       "      <td>1</td>\n",
       "      <td>0</td>\n",
       "      <td>0</td>\n",
       "      <td>0</td>\n",
       "      <td>1</td>\n",
       "      <td>0</td>\n",
       "      <td>0</td>\n",
       "      <td>1</td>\n",
       "      <td>0</td>\n",
       "      <td>0.604</td>\n",
       "      <td>0.511</td>\n",
       "      <td>67.602936</td>\n",
       "    </tr>\n",
       "    <tr>\n",
       "      <td>2</td>\n",
       "      <td>One dime</td>\n",
       "      <td>0</td>\n",
       "      <td>0</td>\n",
       "      <td>0</td>\n",
       "      <td>0</td>\n",
       "      <td>0</td>\n",
       "      <td>0</td>\n",
       "      <td>0</td>\n",
       "      <td>0</td>\n",
       "      <td>0</td>\n",
       "      <td>0.011</td>\n",
       "      <td>0.116</td>\n",
       "      <td>32.261086</td>\n",
       "    </tr>\n",
       "    <tr>\n",
       "      <td>3</td>\n",
       "      <td>One quarter</td>\n",
       "      <td>0</td>\n",
       "      <td>0</td>\n",
       "      <td>0</td>\n",
       "      <td>0</td>\n",
       "      <td>0</td>\n",
       "      <td>0</td>\n",
       "      <td>0</td>\n",
       "      <td>0</td>\n",
       "      <td>0</td>\n",
       "      <td>0.011</td>\n",
       "      <td>0.511</td>\n",
       "      <td>46.116505</td>\n",
       "    </tr>\n",
       "    <tr>\n",
       "      <td>4</td>\n",
       "      <td>Air Heads</td>\n",
       "      <td>0</td>\n",
       "      <td>1</td>\n",
       "      <td>0</td>\n",
       "      <td>0</td>\n",
       "      <td>0</td>\n",
       "      <td>0</td>\n",
       "      <td>0</td>\n",
       "      <td>0</td>\n",
       "      <td>0</td>\n",
       "      <td>0.906</td>\n",
       "      <td>0.511</td>\n",
       "      <td>52.341465</td>\n",
       "    </tr>\n",
       "  </tbody>\n",
       "</table>\n",
       "</div>"
      ],
      "text/plain": [
       "  competitorname  chocolate  fruity  caramel  peanutyalmondy  nougat  \\\n",
       "0      100 Grand          1       0        1               0       0   \n",
       "1   3 Musketeers          1       0        0               0       1   \n",
       "2       One dime          0       0        0               0       0   \n",
       "3    One quarter          0       0        0               0       0   \n",
       "4      Air Heads          0       1        0               0       0   \n",
       "\n",
       "   crispedricewafer  hard  bar  pluribus  sugarpercent  pricepercent  \\\n",
       "0                 1     0    1         0         0.732         0.860   \n",
       "1                 0     0    1         0         0.604         0.511   \n",
       "2                 0     0    0         0         0.011         0.116   \n",
       "3                 0     0    0         0         0.011         0.511   \n",
       "4                 0     0    0         0         0.906         0.511   \n",
       "\n",
       "   winpercent  \n",
       "0   66.971725  \n",
       "1   67.602936  \n",
       "2   32.261086  \n",
       "3   46.116505  \n",
       "4   52.341465  "
      ]
     },
     "execution_count": 80,
     "metadata": {},
     "output_type": "execute_result"
    }
   ],
   "source": [
    "FILE = \"data/candy-data.csv\"\n",
    "data = pd.read_csv(FILE, sep =\",\", encoding='latin-1')\n",
    "data.head()"
   ]
  },
  {
   "cell_type": "code",
   "execution_count": 81,
   "metadata": {
    "collapsed": false,
    "nbpresent": {
     "id": "a91b8626-eecc-47af-b0b4-615a3c319f86"
    }
   },
   "outputs": [
    {
     "data": {
      "text/html": [
       "<div>\n",
       "<style scoped>\n",
       "    .dataframe tbody tr th:only-of-type {\n",
       "        vertical-align: middle;\n",
       "    }\n",
       "\n",
       "    .dataframe tbody tr th {\n",
       "        vertical-align: top;\n",
       "    }\n",
       "\n",
       "    .dataframe thead th {\n",
       "        text-align: right;\n",
       "    }\n",
       "</style>\n",
       "<table border=\"1\" class=\"dataframe\">\n",
       "  <thead>\n",
       "    <tr style=\"text-align: right;\">\n",
       "      <th></th>\n",
       "      <th>chocolate</th>\n",
       "      <th>fruity</th>\n",
       "      <th>caramel</th>\n",
       "      <th>peanutyalmondy</th>\n",
       "      <th>nougat</th>\n",
       "      <th>crispedricewafer</th>\n",
       "      <th>hard</th>\n",
       "      <th>bar</th>\n",
       "      <th>pluribus</th>\n",
       "      <th>sugarpercent</th>\n",
       "      <th>pricepercent</th>\n",
       "      <th>winpercent</th>\n",
       "    </tr>\n",
       "  </thead>\n",
       "  <tbody>\n",
       "    <tr>\n",
       "      <td>count</td>\n",
       "      <td>85.000000</td>\n",
       "      <td>85.000000</td>\n",
       "      <td>85.000000</td>\n",
       "      <td>85.000000</td>\n",
       "      <td>85.000000</td>\n",
       "      <td>85.000000</td>\n",
       "      <td>85.000000</td>\n",
       "      <td>85.000000</td>\n",
       "      <td>85.000000</td>\n",
       "      <td>85.000000</td>\n",
       "      <td>85.000000</td>\n",
       "      <td>85.000000</td>\n",
       "    </tr>\n",
       "    <tr>\n",
       "      <td>mean</td>\n",
       "      <td>0.435294</td>\n",
       "      <td>0.447059</td>\n",
       "      <td>0.164706</td>\n",
       "      <td>0.164706</td>\n",
       "      <td>0.082353</td>\n",
       "      <td>0.082353</td>\n",
       "      <td>0.176471</td>\n",
       "      <td>0.247059</td>\n",
       "      <td>0.517647</td>\n",
       "      <td>0.478647</td>\n",
       "      <td>0.468882</td>\n",
       "      <td>50.316764</td>\n",
       "    </tr>\n",
       "    <tr>\n",
       "      <td>std</td>\n",
       "      <td>0.498738</td>\n",
       "      <td>0.500140</td>\n",
       "      <td>0.373116</td>\n",
       "      <td>0.373116</td>\n",
       "      <td>0.276533</td>\n",
       "      <td>0.276533</td>\n",
       "      <td>0.383482</td>\n",
       "      <td>0.433861</td>\n",
       "      <td>0.502654</td>\n",
       "      <td>0.282778</td>\n",
       "      <td>0.285740</td>\n",
       "      <td>14.714357</td>\n",
       "    </tr>\n",
       "    <tr>\n",
       "      <td>min</td>\n",
       "      <td>0.000000</td>\n",
       "      <td>0.000000</td>\n",
       "      <td>0.000000</td>\n",
       "      <td>0.000000</td>\n",
       "      <td>0.000000</td>\n",
       "      <td>0.000000</td>\n",
       "      <td>0.000000</td>\n",
       "      <td>0.000000</td>\n",
       "      <td>0.000000</td>\n",
       "      <td>0.011000</td>\n",
       "      <td>0.011000</td>\n",
       "      <td>22.445341</td>\n",
       "    </tr>\n",
       "    <tr>\n",
       "      <td>25%</td>\n",
       "      <td>0.000000</td>\n",
       "      <td>0.000000</td>\n",
       "      <td>0.000000</td>\n",
       "      <td>0.000000</td>\n",
       "      <td>0.000000</td>\n",
       "      <td>0.000000</td>\n",
       "      <td>0.000000</td>\n",
       "      <td>0.000000</td>\n",
       "      <td>0.000000</td>\n",
       "      <td>0.220000</td>\n",
       "      <td>0.255000</td>\n",
       "      <td>39.141056</td>\n",
       "    </tr>\n",
       "    <tr>\n",
       "      <td>50%</td>\n",
       "      <td>0.000000</td>\n",
       "      <td>0.000000</td>\n",
       "      <td>0.000000</td>\n",
       "      <td>0.000000</td>\n",
       "      <td>0.000000</td>\n",
       "      <td>0.000000</td>\n",
       "      <td>0.000000</td>\n",
       "      <td>0.000000</td>\n",
       "      <td>1.000000</td>\n",
       "      <td>0.465000</td>\n",
       "      <td>0.465000</td>\n",
       "      <td>47.829754</td>\n",
       "    </tr>\n",
       "    <tr>\n",
       "      <td>75%</td>\n",
       "      <td>1.000000</td>\n",
       "      <td>1.000000</td>\n",
       "      <td>0.000000</td>\n",
       "      <td>0.000000</td>\n",
       "      <td>0.000000</td>\n",
       "      <td>0.000000</td>\n",
       "      <td>0.000000</td>\n",
       "      <td>0.000000</td>\n",
       "      <td>1.000000</td>\n",
       "      <td>0.732000</td>\n",
       "      <td>0.651000</td>\n",
       "      <td>59.863998</td>\n",
       "    </tr>\n",
       "    <tr>\n",
       "      <td>max</td>\n",
       "      <td>1.000000</td>\n",
       "      <td>1.000000</td>\n",
       "      <td>1.000000</td>\n",
       "      <td>1.000000</td>\n",
       "      <td>1.000000</td>\n",
       "      <td>1.000000</td>\n",
       "      <td>1.000000</td>\n",
       "      <td>1.000000</td>\n",
       "      <td>1.000000</td>\n",
       "      <td>0.988000</td>\n",
       "      <td>0.976000</td>\n",
       "      <td>84.180290</td>\n",
       "    </tr>\n",
       "  </tbody>\n",
       "</table>\n",
       "</div>"
      ],
      "text/plain": [
       "       chocolate     fruity    caramel  peanutyalmondy     nougat  \\\n",
       "count  85.000000  85.000000  85.000000       85.000000  85.000000   \n",
       "mean    0.435294   0.447059   0.164706        0.164706   0.082353   \n",
       "std     0.498738   0.500140   0.373116        0.373116   0.276533   \n",
       "min     0.000000   0.000000   0.000000        0.000000   0.000000   \n",
       "25%     0.000000   0.000000   0.000000        0.000000   0.000000   \n",
       "50%     0.000000   0.000000   0.000000        0.000000   0.000000   \n",
       "75%     1.000000   1.000000   0.000000        0.000000   0.000000   \n",
       "max     1.000000   1.000000   1.000000        1.000000   1.000000   \n",
       "\n",
       "       crispedricewafer       hard        bar   pluribus  sugarpercent  \\\n",
       "count         85.000000  85.000000  85.000000  85.000000     85.000000   \n",
       "mean           0.082353   0.176471   0.247059   0.517647      0.478647   \n",
       "std            0.276533   0.383482   0.433861   0.502654      0.282778   \n",
       "min            0.000000   0.000000   0.000000   0.000000      0.011000   \n",
       "25%            0.000000   0.000000   0.000000   0.000000      0.220000   \n",
       "50%            0.000000   0.000000   0.000000   1.000000      0.465000   \n",
       "75%            0.000000   0.000000   0.000000   1.000000      0.732000   \n",
       "max            1.000000   1.000000   1.000000   1.000000      0.988000   \n",
       "\n",
       "       pricepercent  winpercent  \n",
       "count     85.000000   85.000000  \n",
       "mean       0.468882   50.316764  \n",
       "std        0.285740   14.714357  \n",
       "min        0.011000   22.445341  \n",
       "25%        0.255000   39.141056  \n",
       "50%        0.465000   47.829754  \n",
       "75%        0.651000   59.863998  \n",
       "max        0.976000   84.180290  "
      ]
     },
     "execution_count": 81,
     "metadata": {},
     "output_type": "execute_result"
    }
   ],
   "source": [
    "data.describe()"
   ]
  },
  {
   "cell_type": "markdown",
   "metadata": {
    "nbpresent": {
     "id": "7037181e-0533-4f4e-b7e1-683876ff739a"
    }
   },
   "source": [
    "# Descriptive Analysis\n",
    "****\n",
    "\n",
    "## Win percentage distribution\n"
   ]
  },
  {
   "cell_type": "code",
   "execution_count": 82,
   "metadata": {
    "collapsed": false,
    "nbpresent": {
     "id": "951b06db-5973-4896-9f57-0b0135406666"
    },
    "scrolled": true
   },
   "outputs": [
    {
     "data": {
      "text/plain": [
       "count    85.000000\n",
       "mean     50.316764\n",
       "std      14.714357\n",
       "min      22.445341\n",
       "25%      39.141056\n",
       "50%      47.829754\n",
       "75%      59.863998\n",
       "max      84.180290\n",
       "Name: winpercent, dtype: float64"
      ]
     },
     "execution_count": 82,
     "metadata": {},
     "output_type": "execute_result"
    },
    {
     "data": {
      "image/png": "[encoded data removed]",
      "text/plain": [
       "<Figure size 432x288 with 1 Axes>"
      ]
     },
     "metadata": {},
     "output_type": "display_data"
    }
   ],
   "source": [
    "sns.distplot(data['winpercent'], kde=True, bins=15)\n",
    "data['winpercent'].describe()"
   ]
  },
  {
   "cell_type": "markdown",
   "metadata": {
    "nbpresent": {
     "id": "8442ac19-7038-4a69-ad63-5b826c28af09"
    }
   },
   "source": [
    "## Top 10 competitor / brands"
   ]
  },
  {
   "cell_type": "code",
   "execution_count": 83,
   "metadata": {
    "collapsed": false,
    "nbpresent": {
     "id": "fbb11143-89b6-482a-a40c-23120130b6e0"
    },
    "scrolled": true
   },
   "outputs": [
    {
     "data": {
      "text/html": [
       "<div>\n",
       "<style scoped>\n",
       "    .dataframe tbody tr th:only-of-type {\n",
       "        vertical-align: middle;\n",
       "    }\n",
       "\n",
       "    .dataframe tbody tr th {\n",
       "        vertical-align: top;\n",
       "    }\n",
       "\n",
       "    .dataframe thead th {\n",
       "        text-align: right;\n",
       "    }\n",
       "</style>\n",
       "<table border=\"1\" class=\"dataframe\">\n",
       "  <thead>\n",
       "    <tr style=\"text-align: right;\">\n",
       "      <th></th>\n",
       "      <th>competitorname</th>\n",
       "      <th>winpercent</th>\n",
       "    </tr>\n",
       "  </thead>\n",
       "  <tbody>\n",
       "    <tr>\n",
       "      <td>0</td>\n",
       "      <td>Reese's Peanut Butter cup</td>\n",
       "      <td>84.180290</td>\n",
       "    </tr>\n",
       "    <tr>\n",
       "      <td>1</td>\n",
       "      <td>Reese's Miniatures</td>\n",
       "      <td>81.866257</td>\n",
       "    </tr>\n",
       "    <tr>\n",
       "      <td>2</td>\n",
       "      <td>Twix</td>\n",
       "      <td>81.642914</td>\n",
       "    </tr>\n",
       "    <tr>\n",
       "      <td>3</td>\n",
       "      <td>Kit Kat</td>\n",
       "      <td>76.768600</td>\n",
       "    </tr>\n",
       "    <tr>\n",
       "      <td>4</td>\n",
       "      <td>Snickers</td>\n",
       "      <td>76.673782</td>\n",
       "    </tr>\n",
       "    <tr>\n",
       "      <td>5</td>\n",
       "      <td>Reese's pieces</td>\n",
       "      <td>73.434990</td>\n",
       "    </tr>\n",
       "    <tr>\n",
       "      <td>6</td>\n",
       "      <td>Milky Way</td>\n",
       "      <td>73.099556</td>\n",
       "    </tr>\n",
       "    <tr>\n",
       "      <td>7</td>\n",
       "      <td>Reese's stuffed with pieces</td>\n",
       "      <td>72.887901</td>\n",
       "    </tr>\n",
       "    <tr>\n",
       "      <td>8</td>\n",
       "      <td>Peanut butter M&amp;M's</td>\n",
       "      <td>71.465050</td>\n",
       "    </tr>\n",
       "    <tr>\n",
       "      <td>9</td>\n",
       "      <td>Nestle Butterfinger</td>\n",
       "      <td>70.735641</td>\n",
       "    </tr>\n",
       "  </tbody>\n",
       "</table>\n",
       "</div>"
      ],
      "text/plain": [
       "                competitorname  winpercent\n",
       "0    Reese's Peanut Butter cup   84.180290\n",
       "1           Reese's Miniatures   81.866257\n",
       "2                         Twix   81.642914\n",
       "3                      Kit Kat   76.768600\n",
       "4                     Snickers   76.673782\n",
       "5               Reese's pieces   73.434990\n",
       "6                    Milky Way   73.099556\n",
       "7  Reese's stuffed with pieces   72.887901\n",
       "8          Peanut butter M&M's   71.465050\n",
       "9          Nestle Butterfinger   70.735641"
      ]
     },
     "execution_count": 83,
     "metadata": {},
     "output_type": "execute_result"
    }
   ],
   "source": [
    "# Top 10 candies\n",
    "data_sort = data.sort_values(by=\"winpercent\", ascending=False)[[\"competitorname\", \"winpercent\"]] \\\n",
    "    .reset_index().drop(\"index\", axis = 1)\n",
    "data_sort.head(10)"
   ]
  },
  {
   "cell_type": "markdown",
   "metadata": {
    "nbpresent": {
     "id": "bb006623-2315-4697-ab2b-77c16eb48813"
    }
   },
   "source": [
    "Investigating the top 10 spots shows that Reese's has 4 candy types with a top 10 matchup win rate.\n",
    "That is very significant but accordingly to FiveThirtyEight is this not surprisingly as this type of candy is quite associated with Halloween. \n",
    "\n",
    "## Candy Attributes"
   ]
  },
  {
   "cell_type": "code",
   "execution_count": 84,
   "metadata": {
    "collapsed": false,
    "nbpresent": {
     "id": "7bd53c1a-6f27-4dfd-bcbd-dd8b1136b41e"
    }
   },
   "outputs": [
    {
     "data": {
      "text/html": [
       "<div>\n",
       "<style scoped>\n",
       "    .dataframe tbody tr th:only-of-type {\n",
       "        vertical-align: middle;\n",
       "    }\n",
       "\n",
       "    .dataframe tbody tr th {\n",
       "        vertical-align: top;\n",
       "    }\n",
       "\n",
       "    .dataframe thead th {\n",
       "        text-align: right;\n",
       "    }\n",
       "</style>\n",
       "<table border=\"1\" class=\"dataframe\">\n",
       "  <thead>\n",
       "    <tr style=\"text-align: right;\">\n",
       "      <th></th>\n",
       "      <th>median</th>\n",
       "    </tr>\n",
       "    <tr>\n",
       "      <th>chocolate</th>\n",
       "      <th></th>\n",
       "    </tr>\n",
       "  </thead>\n",
       "  <tbody>\n",
       "    <tr>\n",
       "      <td>0</td>\n",
       "      <td>41.646933</td>\n",
       "    </tr>\n",
       "    <tr>\n",
       "      <td>1</td>\n",
       "      <td>60.800701</td>\n",
       "    </tr>\n",
       "  </tbody>\n",
       "</table>\n",
       "</div>"
      ],
      "text/plain": [
       "              median\n",
       "chocolate           \n",
       "0          41.646933\n",
       "1          60.800701"
      ]
     },
     "execution_count": 84,
     "metadata": {},
     "output_type": "execute_result"
    },
    {
     "data": {
      "image/png": "[encoded data removed]",
      "text/plain": [
       "<Figure size 432x288 with 1 Axes>"
      ]
     },
     "metadata": {},
     "output_type": "display_data"
    }
   ],
   "source": [
    "# chocolate\n",
    "sns.boxplot(x = \"chocolate\", y = \"winpercent\", data=data)\n",
    "data.groupby(\"chocolate\")[\"winpercent\"].agg({np.median})"
   ]
  },
  {
   "cell_type": "code",
   "execution_count": 85,
   "metadata": {
    "collapsed": false,
    "nbpresent": {
     "id": "3bfbfb06-426c-4416-860e-8e4e23b89016"
    },
    "scrolled": false
   },
   "outputs": [
    {
     "data": {
      "text/html": [
       "<div>\n",
       "<style scoped>\n",
       "    .dataframe tbody tr th:only-of-type {\n",
       "        vertical-align: middle;\n",
       "    }\n",
       "\n",
       "    .dataframe tbody tr th {\n",
       "        vertical-align: top;\n",
       "    }\n",
       "\n",
       "    .dataframe thead th {\n",
       "        text-align: right;\n",
       "    }\n",
       "</style>\n",
       "<table border=\"1\" class=\"dataframe\">\n",
       "  <thead>\n",
       "    <tr style=\"text-align: right;\">\n",
       "      <th></th>\n",
       "      <th>mean</th>\n",
       "    </tr>\n",
       "    <tr>\n",
       "      <th>fruity</th>\n",
       "      <th></th>\n",
       "    </tr>\n",
       "  </thead>\n",
       "  <tbody>\n",
       "    <tr>\n",
       "      <td>0</td>\n",
       "      <td>55.327122</td>\n",
       "    </tr>\n",
       "    <tr>\n",
       "      <td>1</td>\n",
       "      <td>44.119741</td>\n",
       "    </tr>\n",
       "  </tbody>\n",
       "</table>\n",
       "</div>"
      ],
      "text/plain": [
       "             mean\n",
       "fruity           \n",
       "0       55.327122\n",
       "1       44.119741"
      ]
     },
     "execution_count": 85,
     "metadata": {},
     "output_type": "execute_result"
    },
    {
     "data": {
      "image/png": "[encoded data removed]",
      "text/plain": [
       "<Figure size 432x288 with 1 Axes>"
      ]
     },
     "metadata": {},
     "output_type": "display_data"
    }
   ],
   "source": [
    "# fruity\n",
    "sns.boxplot(x = \"fruity\", y = \"winpercent\", data=data)\n",
    "data.groupby(\"fruity\")[\"winpercent\"].agg({np.mean})"
   ]
  },
  {
   "cell_type": "code",
   "execution_count": 86,
   "metadata": {
    "collapsed": false,
    "nbpresent": {
     "id": "3269e930-5140-4c7e-ae03-9308ec35757e"
    },
    "scrolled": true
   },
   "outputs": [
    {
     "data": {
      "text/html": [
       "<div>\n",
       "<style scoped>\n",
       "    .dataframe tbody tr th:only-of-type {\n",
       "        vertical-align: middle;\n",
       "    }\n",
       "\n",
       "    .dataframe tbody tr th {\n",
       "        vertical-align: top;\n",
       "    }\n",
       "\n",
       "    .dataframe thead th {\n",
       "        text-align: right;\n",
       "    }\n",
       "</style>\n",
       "<table border=\"1\" class=\"dataframe\">\n",
       "  <thead>\n",
       "    <tr style=\"text-align: right;\">\n",
       "      <th></th>\n",
       "      <th>mean</th>\n",
       "    </tr>\n",
       "    <tr>\n",
       "      <th>caramel</th>\n",
       "      <th></th>\n",
       "    </tr>\n",
       "  </thead>\n",
       "  <tbody>\n",
       "    <tr>\n",
       "      <td>0</td>\n",
       "      <td>48.930538</td>\n",
       "    </tr>\n",
       "    <tr>\n",
       "      <td>1</td>\n",
       "      <td>57.346908</td>\n",
       "    </tr>\n",
       "  </tbody>\n",
       "</table>\n",
       "</div>"
      ],
      "text/plain": [
       "              mean\n",
       "caramel           \n",
       "0        48.930538\n",
       "1        57.346908"
      ]
     },
     "execution_count": 86,
     "metadata": {},
     "output_type": "execute_result"
    },
    {
     "data": {
      "image/png": "[encoded data removed]",
      "text/plain": [
       "<Figure size 432x288 with 1 Axes>"
      ]
     },
     "metadata": {},
     "output_type": "display_data"
    }
   ],
   "source": [
    "# caramel\n",
    "sns.boxplot(x = \"caramel\", y = \"winpercent\", data=data)\n",
    "data.groupby(\"caramel\")[\"winpercent\"].agg({np.mean})"
   ]
  },
  {
   "cell_type": "code",
   "execution_count": 87,
   "metadata": {
    "collapsed": false,
    "nbpresent": {
     "id": "b49ea354-8394-45be-a14c-77b793fe6738"
    }
   },
   "outputs": [
    {
     "data": {
      "text/html": [
       "<div>\n",
       "<style scoped>\n",
       "    .dataframe tbody tr th:only-of-type {\n",
       "        vertical-align: middle;\n",
       "    }\n",
       "\n",
       "    .dataframe tbody tr th {\n",
       "        vertical-align: top;\n",
       "    }\n",
       "\n",
       "    .dataframe thead th {\n",
       "        text-align: right;\n",
       "    }\n",
       "</style>\n",
       "<table border=\"1\" class=\"dataframe\">\n",
       "  <thead>\n",
       "    <tr style=\"text-align: right;\">\n",
       "      <th></th>\n",
       "      <th>median</th>\n",
       "    </tr>\n",
       "    <tr>\n",
       "      <th>peanutyalmondy</th>\n",
       "      <th></th>\n",
       "    </tr>\n",
       "  </thead>\n",
       "  <tbody>\n",
       "    <tr>\n",
       "      <td>0</td>\n",
       "      <td>45.995827</td>\n",
       "    </tr>\n",
       "    <tr>\n",
       "      <td>1</td>\n",
       "      <td>70.109714</td>\n",
       "    </tr>\n",
       "  </tbody>\n",
       "</table>\n",
       "</div>"
      ],
      "text/plain": [
       "                   median\n",
       "peanutyalmondy           \n",
       "0               45.995827\n",
       "1               70.109714"
      ]
     },
     "execution_count": 87,
     "metadata": {},
     "output_type": "execute_result"
    },
    {
     "data": {
      "image/png": "[encoded data removed]",
      "text/plain": [
       "<Figure size 432x288 with 1 Axes>"
      ]
     },
     "metadata": {},
     "output_type": "display_data"
    }
   ],
   "source": [
    "# peanutyalmondy\n",
    "sns.boxplot(x = \"peanutyalmondy\", y = \"winpercent\", data=data)\n",
    "data.groupby(\"peanutyalmondy\")[\"winpercent\"].agg({np.median})"
   ]
  },
  {
   "cell_type": "code",
   "execution_count": 88,
   "metadata": {
    "collapsed": false,
    "nbpresent": {
     "id": "785ebb2b-1422-4c9d-8086-940e42391db2"
    }
   },
   "outputs": [
    {
     "data": {
      "text/plain": [
       "<matplotlib.axes._subplots.AxesSubplot at 0x2af0f873b38>"
      ]
     },
     "execution_count": 88,
     "metadata": {},
     "output_type": "execute_result"
    },
    {
     "data": {
      "image/png": "[encoded data removed]",
      "text/plain": [
       "<Figure size 432x288 with 1 Axes>"
      ]
     },
     "metadata": {},
     "output_type": "display_data"
    }
   ],
   "source": [
    "# nougat\n",
    "sns.boxplot(x = \"nougat\", y = \"winpercent\", data=data)"
   ]
  },
  {
   "cell_type": "code",
   "execution_count": 89,
   "metadata": {
    "collapsed": false,
    "nbpresent": {
     "id": "b042bbdd-a083-464c-adbb-93039b30cdc0"
    }
   },
   "outputs": [
    {
     "data": {
      "text/plain": [
       "<matplotlib.axes._subplots.AxesSubplot at 0x2af0f8b6e10>"
      ]
     },
     "execution_count": 89,
     "metadata": {},
     "output_type": "execute_result"
    },
    {
     "data": {
      "image/png": "[encoded data removed]",
      "text/plain": [
       "<Figure size 432x288 with 1 Axes>"
      ]
     },
     "metadata": {},
     "output_type": "display_data"
    }
   ],
   "source": [
    "# crispedricewafer\n",
    "sns.boxplot(x = \"crispedricewafer\", y = \"winpercent\", data=data)"
   ]
  },
  {
   "cell_type": "code",
   "execution_count": 90,
   "metadata": {
    "collapsed": false,
    "nbpresent": {
     "id": "901642b8-13c7-49c1-8450-e19da784d99b"
    }
   },
   "outputs": [
    {
     "data": {
      "text/plain": [
       "<matplotlib.axes._subplots.AxesSubplot at 0x2af0f910898>"
      ]
     },
     "execution_count": 90,
     "metadata": {},
     "output_type": "execute_result"
    },
    {
     "data": {
      "image/png": "[encoded data removed]",
      "text/plain": [
       "<Figure size 432x288 with 1 Axes>"
      ]
     },
     "metadata": {},
     "output_type": "display_data"
    }
   ],
   "source": [
    "# hard\n",
    "sns.boxplot(x = \"hard\", y = \"winpercent\", data=data)"
   ]
  },
  {
   "cell_type": "code",
   "execution_count": 91,
   "metadata": {
    "collapsed": false,
    "nbpresent": {
     "id": "bd66c4f8-d30a-4f6e-b151-81c27f107a84"
    }
   },
   "outputs": [
    {
     "data": {
      "text/plain": [
       "<matplotlib.axes._subplots.AxesSubplot at 0x2af0f965048>"
      ]
     },
     "execution_count": 91,
     "metadata": {},
     "output_type": "execute_result"
    },
    {
     "data": {
      "image/png": "[encoded data removed]",
      "text/plain": [
       "<Figure size 432x288 with 1 Axes>"
      ]
     },
     "metadata": {},
     "output_type": "display_data"
    }
   ],
   "source": [
    "# bar\n",
    "sns.boxplot(x = \"bar\", y = \"winpercent\", data=data)"
   ]
  },
  {
   "cell_type": "code",
   "execution_count": 92,
   "metadata": {
    "collapsed": false,
    "nbpresent": {
     "id": "82a691b5-2268-4782-90ab-5b369247a243"
    }
   },
   "outputs": [
    {
     "data": {
      "text/plain": [
       "<matplotlib.axes._subplots.AxesSubplot at 0x2af0f9b2e48>"
      ]
     },
     "execution_count": 92,
     "metadata": {},
     "output_type": "execute_result"
    },
    {
     "data": {
      "image/png": "[encoded data removed]",
      "text/plain": [
       "<Figure size 432x288 with 1 Axes>"
      ]
     },
     "metadata": {},
     "output_type": "display_data"
    }
   ],
   "source": [
    "# pluribus\n",
    "sns.boxplot(x = \"pluribus\", y = \"winpercent\", data=data)"
   ]
  },
  {
   "cell_type": "markdown",
   "metadata": {
    "nbpresent": {
     "id": "f1d2c0a2-2e02-48e1-9c37-57ea1db4d19b"
    }
   },
   "source": [
    "## Top 10 candy type combinations\n",
    "Regardless of the actual brand, what are the candy type combinations that drive the decision?   "
   ]
  },
  {
   "cell_type": "code",
   "execution_count": 94,
   "metadata": {
    "collapsed": false,
    "nbpresent": {
     "id": "9ae1a823-a109-4026-a3ef-d579bcdfa01b"
    }
   },
   "outputs": [
    {
     "name": "stderr",
     "output_type": "stream",
     "text": [
      "C:\\Users\\dtrie\\Anaconda3\\envs\\tfEnv\\lib\\site-packages\\ipykernel\\__main__.py:29: FutureWarning: using a dict on a Series for aggregation\n",
      "is deprecated and will be removed in a future version. Use                 named aggregation instead.\n",
      "\n",
      "    >>> grouper.agg(name_1=func_1, name_2=func_2)\n",
      "\n"
     ]
    },
    {
     "data": {
      "text/html": [
       "<div>\n",
       "<style scoped>\n",
       "    .dataframe tbody tr th:only-of-type {\n",
       "        vertical-align: middle;\n",
       "    }\n",
       "\n",
       "    .dataframe tbody tr th {\n",
       "        vertical-align: top;\n",
       "    }\n",
       "\n",
       "    .dataframe thead th {\n",
       "        text-align: right;\n",
       "    }\n",
       "</style>\n",
       "<table border=\"1\" class=\"dataframe\">\n",
       "  <thead>\n",
       "    <tr style=\"text-align: right;\">\n",
       "      <th></th>\n",
       "      <th>candy_type_combind</th>\n",
       "      <th>mean</th>\n",
       "      <th>count</th>\n",
       "      <th>brands</th>\n",
       "      <th>num_att</th>\n",
       "    </tr>\n",
       "  </thead>\n",
       "  <tbody>\n",
       "    <tr>\n",
       "      <td>0</td>\n",
       "      <td>_chocolate_peanutyalmondy</td>\n",
       "      <td>79.644816</td>\n",
       "      <td>3</td>\n",
       "      <td>[Reese's Miniatures, Reese's Peanut Butter cup, Reese's stuffed with pieces]</td>\n",
       "      <td>2</td>\n",
       "    </tr>\n",
       "    <tr>\n",
       "      <td>1</td>\n",
       "      <td>_chocolate_caramel_crispedricewafer_bar</td>\n",
       "      <td>74.307320</td>\n",
       "      <td>2</td>\n",
       "      <td>[100 Grand, Twix]</td>\n",
       "      <td>4</td>\n",
       "    </tr>\n",
       "    <tr>\n",
       "      <td>2</td>\n",
       "      <td>_chocolate_peanutyalmondy_pluribus</td>\n",
       "      <td>71.461276</td>\n",
       "      <td>3</td>\n",
       "      <td>[Peanut butter M&amp;M's, Peanut M&amp;Ms, Reese's pieces]</td>\n",
       "      <td>3</td>\n",
       "    </tr>\n",
       "    <tr>\n",
       "      <td>3</td>\n",
       "      <td>_chocolate_crispedricewafer_bar</td>\n",
       "      <td>68.507920</td>\n",
       "      <td>3</td>\n",
       "      <td>[Hershey's Krackel, Kit Kat, Nestle Crunch]</td>\n",
       "      <td>3</td>\n",
       "    </tr>\n",
       "    <tr>\n",
       "      <td>4</td>\n",
       "      <td>_chocolate_caramel_nougat_bar</td>\n",
       "      <td>66.950129</td>\n",
       "      <td>2</td>\n",
       "      <td>[Milky Way, Milky Way Midnight]</td>\n",
       "      <td>4</td>\n",
       "    </tr>\n",
       "    <tr>\n",
       "      <td>5</td>\n",
       "      <td>_chocolate_caramel_peanutyalmondy_nougat_bar</td>\n",
       "      <td>66.794164</td>\n",
       "      <td>2</td>\n",
       "      <td>[Baby Ruth, Snickers]</td>\n",
       "      <td>5</td>\n",
       "    </tr>\n",
       "    <tr>\n",
       "      <td>6</td>\n",
       "      <td>_chocolate_caramel_bar</td>\n",
       "      <td>64.353340</td>\n",
       "      <td>1</td>\n",
       "      <td>[Milky Way Simply Caramel]</td>\n",
       "      <td>3</td>\n",
       "    </tr>\n",
       "    <tr>\n",
       "      <td>7</td>\n",
       "      <td>_chocolate_caramel_pluribus</td>\n",
       "      <td>60.390179</td>\n",
       "      <td>2</td>\n",
       "      <td>[Milk Duds, Rolo]</td>\n",
       "      <td>3</td>\n",
       "    </tr>\n",
       "    <tr>\n",
       "      <td>8</td>\n",
       "      <td>_chocolate_caramel_peanutyalmondy_crispedricewafer_bar</td>\n",
       "      <td>59.529251</td>\n",
       "      <td>1</td>\n",
       "      <td>[Snickers Crisper]</td>\n",
       "      <td>5</td>\n",
       "    </tr>\n",
       "    <tr>\n",
       "      <td>9</td>\n",
       "      <td>_chocolate_peanutyalmondy_bar</td>\n",
       "      <td>58.536546</td>\n",
       "      <td>3</td>\n",
       "      <td>[Almond Joy, Mr Good Bar, Nestle Butterfinger]</td>\n",
       "      <td>3</td>\n",
       "    </tr>\n",
       "  </tbody>\n",
       "</table>\n",
       "</div>"
      ],
      "text/plain": [
       "                                       candy_type_combind       mean  count  \\\n",
       "0                               _chocolate_peanutyalmondy  79.644816      3   \n",
       "1                 _chocolate_caramel_crispedricewafer_bar  74.307320      2   \n",
       "2                      _chocolate_peanutyalmondy_pluribus  71.461276      3   \n",
       "3                         _chocolate_crispedricewafer_bar  68.507920      3   \n",
       "4                           _chocolate_caramel_nougat_bar  66.950129      2   \n",
       "5            _chocolate_caramel_peanutyalmondy_nougat_bar  66.794164      2   \n",
       "6                                  _chocolate_caramel_bar  64.353340      1   \n",
       "7                             _chocolate_caramel_pluribus  60.390179      2   \n",
       "8  _chocolate_caramel_peanutyalmondy_crispedricewafer_bar  59.529251      1   \n",
       "9                           _chocolate_peanutyalmondy_bar  58.536546      3   \n",
       "\n",
       "                                                                         brands  \\\n",
       "0  [Reese's Miniatures, Reese's Peanut Butter cup, Reese's stuffed with pieces]   \n",
       "1                                                             [100 Grand, Twix]   \n",
       "2                            [Peanut butter M&M's, Peanut M&Ms, Reese's pieces]   \n",
       "3                                   [Hershey's Krackel, Kit Kat, Nestle Crunch]   \n",
       "4                                               [Milky Way, Milky Way Midnight]   \n",
       "5                                                         [Baby Ruth, Snickers]   \n",
       "6                                                    [Milky Way Simply Caramel]   \n",
       "7                                                             [Milk Duds, Rolo]   \n",
       "8                                                            [Snickers Crisper]   \n",
       "9                                [Almond Joy, Mr Good Bar, Nestle Butterfinger]   \n",
       "\n",
       "   num_att  \n",
       "0        2  \n",
       "1        4  \n",
       "2        3  \n",
       "3        3  \n",
       "4        4  \n",
       "5        5  \n",
       "6        3  \n",
       "7        3  \n",
       "8        5  \n",
       "9        3  "
      ]
     },
     "execution_count": 94,
     "metadata": {},
     "output_type": "execute_result"
    }
   ],
   "source": [
    "# Get all combinations of the candy types\n",
    "columns = [\n",
    "        \"chocolate\"\n",
    "        ,\"fruity\"\n",
    "        ,\"caramel\"\n",
    "        ,\"peanutyalmondy\"\n",
    "        ,\"nougat\"\n",
    "        ,\"crispedricewafer\"\n",
    "        ,\"hard\"\n",
    "        ,\"bar\"\n",
    "        ,\"pluribus\"\n",
    "       ]\n",
    "\n",
    "candy_type_combind = []\n",
    "\n",
    "for idx, row in data.iterrows():\n",
    "    name_combind = \"\"\n",
    "\n",
    "    for col in columns:\n",
    "        if row[col] == 1:\n",
    "            name_combind = name_combind + \"_\" + col \n",
    "    candy_type_combind.append(name_combind)\n",
    "    \n",
    "    \n",
    "# Add combinations to data and filter by top10 avg win rate        \n",
    "data[\"candy_type_combind\"] = candy_type_combind\n",
    "data_top10_combindation = data.groupby([\"candy_type_combind\"], as_index=True)['winpercent'] \\\n",
    "    .agg({\"mean\": np.mean,\n",
    "          \"count\" : \"count\"}) \\\n",
    "    .sort_values(by=\"mean\", ascending=False).reset_index().head(10)\n",
    "    \n",
    "\n",
    "# Add the brands to the top10 combination\n",
    "candy_type_lookup = data.groupby([\"candy_type_combind\"]).groups\n",
    "brand_decoder = {}\n",
    "\n",
    "for idx, row in data.iterrows():\n",
    "    brand_decoder[idx] = row[\"competitorname\"] \n",
    "\n",
    "brand_list_top_10 = []\n",
    "for idx, row in data_top10_combindation.iterrows():\n",
    "    \n",
    "    combination = str(row[\"candy_type_combind\"])\n",
    "    brand_list = []\n",
    "    \n",
    "    for brand in candy_type_lookup.get(combination):\n",
    "        brand_list.append(brand_decoder.get(brand))\n",
    "    \n",
    "    brand_list_top_10.append(brand_list)\n",
    "    \n",
    "data_top10_combindation[\"brands\"] = brand_list_top_10\n",
    "\n",
    "# Add number of attributes\n",
    "data_top10_combindation[\"num_att\"] = data_top10_combindation[\"candy_type_combind\"].apply(lambda x: len(x.split(\"_\"))-1)\n",
    "\n",
    "\n",
    "pd.set_option('max_colwidth', 80)\n",
    "data_top10_combindation"
   ]
  },
  {
   "cell_type": "code",
   "execution_count": 22,
   "metadata": {
    "collapsed": false,
    "nbpresent": {
     "id": "13362ebc-13fc-42f3-95dc-68108329f623"
    }
   },
   "outputs": [
    {
     "data": {
      "text/html": [
       "<div>\n",
       "<style scoped>\n",
       "    .dataframe tbody tr th:only-of-type {\n",
       "        vertical-align: middle;\n",
       "    }\n",
       "\n",
       "    .dataframe tbody tr th {\n",
       "        vertical-align: top;\n",
       "    }\n",
       "\n",
       "    .dataframe thead th {\n",
       "        text-align: right;\n",
       "    }\n",
       "</style>\n",
       "<table border=\"1\" class=\"dataframe\">\n",
       "  <thead>\n",
       "    <tr style=\"text-align: right;\">\n",
       "      <th></th>\n",
       "      <th></th>\n",
       "      <th>mean</th>\n",
       "    </tr>\n",
       "    <tr>\n",
       "      <th>chocolate</th>\n",
       "      <th>caramel</th>\n",
       "      <th></th>\n",
       "    </tr>\n",
       "  </thead>\n",
       "  <tbody>\n",
       "    <tr>\n",
       "      <td rowspan=\"2\" valign=\"top\">0</td>\n",
       "      <td>0</td>\n",
       "      <td>42.744041</td>\n",
       "    </tr>\n",
       "    <tr>\n",
       "      <td>1</td>\n",
       "      <td>35.522633</td>\n",
       "    </tr>\n",
       "    <tr>\n",
       "      <td rowspan=\"2\" valign=\"top\">1</td>\n",
       "      <td>0</td>\n",
       "      <td>59.012238</td>\n",
       "    </tr>\n",
       "    <tr>\n",
       "      <td>1</td>\n",
       "      <td>66.076617</td>\n",
       "    </tr>\n",
       "  </tbody>\n",
       "</table>\n",
       "</div>"
      ],
      "text/plain": [
       "                        mean\n",
       "chocolate caramel           \n",
       "0         0        42.744041\n",
       "          1        35.522633\n",
       "1         0        59.012238\n",
       "          1        66.076617"
      ]
     },
     "execution_count": 22,
     "metadata": {},
     "output_type": "execute_result"
    }
   ],
   "source": [
    "# sns.boxplot(x = \"caramel\", y = \"winpercent\", data=data)\n",
    "data.groupby([\"chocolate\", \"caramel\"])[\"winpercent\"].agg({np.mean})"
   ]
  },
  {
   "cell_type": "markdown",
   "metadata": {
    "nbpresent": {
     "id": "c8ffa3ce-1b67-4c74-9426-022dbfeefa41"
    }
   },
   "source": [
    "Now the picture is already slightly different and gives us a good hint of which candy property drives the matchup win likelihood.\n",
    "\n",
    "Interpreting the result:  \n",
    "\n",
    "- The property that all top10 combinations have in common is chocolate followed by caramel. \n",
    "- All top10 brands are represented and 11 more none top10 brand.\n",
    "- The best combination (chocolate and peanutyalmondy)  is just represented in the data by Resee's and it is hard to infer wheater the brand drives the decision here. \n",
    "- The second-best combination shows a top10 brand (Twix: 3) and a non top10 brand (100 Grand: 14).  \n",
    "\n",
    "\n",
    "\n",
    "## Sugare and Price\n",
    "\n",
    "As chocolate and caramel mix seems to have a reasonable impact winning a matchup. Let's see how much the sugur and price are related to the win percentage."
   ]
  },
  {
   "cell_type": "code",
   "execution_count": 98,
   "metadata": {
    "collapsed": false,
    "nbpresent": {
     "id": "a794434c-9cc1-4139-ae4b-86caa341451c"
    }
   },
   "outputs": [
    {
     "data": {
      "text/plain": [
       "<seaborn.axisgrid.PairGrid at 0x21ab5f0cb38>"
      ]
     },
     "execution_count": 98,
     "metadata": {},
     "output_type": "execute_result"
    },
    {
     "data": {
      "image/png": "[encoded data removed]",
      "text/plain": [
       "<Figure size 540x540 with 12 Axes>"
      ]
     },
     "metadata": {},
     "output_type": "display_data"
    }
   ],
   "source": [
    "sns.pairplot(data[['winpercent','pricepercent', 'sugarpercent']])"
   ]
  },
  {
   "cell_type": "code",
   "execution_count": 110,
   "metadata": {
    "collapsed": false,
    "nbpresent": {
     "id": "860e75f8-06cf-4132-9e43-5291935e350e"
    },
    "scrolled": true
   },
   "outputs": [
    {
     "data": {
      "text/plain": [
       "<matplotlib.axes._subplots.AxesSubplot at 0x2bb433949b0>"
      ]
     },
     "execution_count": 110,
     "metadata": {},
     "output_type": "execute_result"
    },
    {
     "data": {
      "image/png": "[encoded data removed]",
      "text/plain": [
       "<Figure size 432x288 with 2 Axes>"
      ]
     },
     "metadata": {
      "needs_background": "light"
     },
     "output_type": "display_data"
    }
   ],
   "source": [
    "sns.heatmap(data[['winpercent','pricepercent', 'sugarpercent']].corr(), annot=True)"
   ]
  },
  {
   "cell_type": "code",
   "execution_count": 112,
   "metadata": {
    "collapsed": false,
    "nbpresent": {
     "id": "59f8c865-3a38-4ea8-b8ef-97f6932093c7"
    },
    "scrolled": true
   },
   "outputs": [
    {
     "data": {
      "text/plain": [
       "<seaborn.axisgrid.FacetGrid at 0x21ab915f8d0>"
      ]
     },
     "execution_count": 112,
     "metadata": {},
     "output_type": "execute_result"
    },
    {
     "data": {
      "image/png": "[encoded data removed]",
      "text/plain": [
       "<Figure size 360x360 with 1 Axes>"
      ]
     },
     "metadata": {},
     "output_type": "display_data"
    }
   ],
   "source": [
    "sns.lmplot(x='pricepercent',y='winpercent',data=data)"
   ]
  },
  {
   "cell_type": "code",
   "execution_count": 113,
   "metadata": {
    "collapsed": false,
    "nbpresent": {
     "id": "2776384d-94e5-467a-bb12-e33d3319448a"
    }
   },
   "outputs": [
    {
     "data": {
      "text/plain": [
       "<seaborn.axisgrid.FacetGrid at 0x21ab9174a90>"
      ]
     },
     "execution_count": 113,
     "metadata": {},
     "output_type": "execute_result"
    },
    {
     "data": {
      "image/png": "[encoded data removed]",
      "text/plain": [
       "<Figure size 360x360 with 1 Axes>"
      ]
     },
     "metadata": {},
     "output_type": "display_data"
    }
   ],
   "source": [
    "sns.lmplot(x='sugarpercent',y='winpercent',data=data)"
   ]
  },
  {
   "cell_type": "markdown",
   "metadata": {
    "nbpresent": {
     "id": "feed1233-9678-48ca-bd8b-ae42888f76bf"
    }
   },
   "source": [
    "Interpreting the result: \n",
    "- The impact of sugar and price on the matchup win is positive but low.     \n",
    "- We can exclude them from the list of potential driving factors \n",
    "- The price however can be later used for the pricing process of the new store brand candies\n",
    "\n",
    "# Linear Regression Model\n",
    "***\n",
    "\n",
    "**Import Functions**"
   ]
  },
  {
   "cell_type": "code",
   "execution_count": 123,
   "metadata": {
    "collapsed": true,
    "nbpresent": {
     "id": "a42c18d9-a7c0-4611-89ef-613ffa3fc2d1"
    }
   },
   "outputs": [],
   "source": [
    "from sklearn.linear_model import LinearRegression"
   ]
  },
  {
   "cell_type": "markdown",
   "metadata": {
    "nbpresent": {
     "id": "f1c04149-c30a-45f2-b4f5-0f4050c0e061"
    }
   },
   "source": [
    "**Split the data**"
   ]
  },
  {
   "cell_type": "code",
   "execution_count": 170,
   "metadata": {
    "collapsed": false,
    "nbpresent": {
     "id": "61e79922-544e-4fd6-877d-ed42048adc6b"
    }
   },
   "outputs": [],
   "source": [
    "columns = [\n",
    "        \"chocolate\"\n",
    "        ,\"fruity\"\n",
    "        ,\"caramel\"\n",
    "        ,\"peanutyalmondy\"\n",
    "        ,\"nougat\"\n",
    "        ,\"crispedricewafer\"\n",
    "        ,\"hard\"\n",
    "        ,\"bar\"\n",
    "        ,\"pluribus\"\n",
    "       ]\n",
    "\n",
    "\n",
    "X = data[columns]\n",
    "y = data['winpercent']\n"
   ]
  },
  {
   "cell_type": "markdown",
   "metadata": {
    "nbpresent": {
     "id": "2081d5b8-0954-4bc0-a1c7-8785558c83e0"
    }
   },
   "source": [
    "**Train Model**"
   ]
  },
  {
   "cell_type": "code",
   "execution_count": 171,
   "metadata": {
    "collapsed": false,
    "nbpresent": {
     "id": "7aae6130-3cf5-4ad0-934f-4a26930f2597"
    }
   },
   "outputs": [
    {
     "data": {
      "text/plain": [
       "LinearRegression(copy_X=True, fit_intercept=True, n_jobs=None, normalize=False)"
      ]
     },
     "execution_count": 171,
     "metadata": {},
     "output_type": "execute_result"
    }
   ],
   "source": [
    "lm = LinearRegression()\n",
    "lm.fit(X,y)"
   ]
  },
  {
   "cell_type": "markdown",
   "metadata": {
    "nbpresent": {
     "id": "4fcb8a6e-a895-480b-93b5-5f3af3fa818e"
    }
   },
   "source": [
    "**Model Evaluation** \n",
    "\n",
    "- No prediction and residual analysis, to less data "
   ]
  },
  {
   "cell_type": "code",
   "execution_count": 172,
   "metadata": {
    "collapsed": false,
    "nbpresent": {
     "id": "e49af0b4-9b62-4144-bbea-a5550edc2620"
    }
   },
   "outputs": [
    {
     "name": "stdout",
     "output_type": "stream",
     "text": [
      "R² : 0.5148097061389147\n"
     ]
    }
   ],
   "source": [
    "print(\"R² :\", lm.score(X,y) )"
   ]
  },
  {
   "cell_type": "code",
   "execution_count": 173,
   "metadata": {
    "collapsed": false,
    "nbpresent": {
     "id": "04daf8bb-5d33-4ec6-b2f0-921dd4d2f965"
    }
   },
   "outputs": [
    {
     "name": "stdout",
     "output_type": "stream",
     "text": [
      "35.015458741530004\n"
     ]
    }
   ],
   "source": [
    "# print the intercept\n",
    "print(lm.intercept_)"
   ]
  },
  {
   "cell_type": "code",
   "execution_count": 183,
   "metadata": {
    "collapsed": false,
    "nbpresent": {
     "id": "f5359bcc-334b-4b60-8a47-a04a444b9b67"
    },
    "scrolled": true
   },
   "outputs": [
    {
     "data": {
      "text/html": [
       "<div>\n",
       "<style scoped>\n",
       "    .dataframe tbody tr th:only-of-type {\n",
       "        vertical-align: middle;\n",
       "    }\n",
       "\n",
       "    .dataframe tbody tr th {\n",
       "        vertical-align: top;\n",
       "    }\n",
       "\n",
       "    .dataframe thead th {\n",
       "        text-align: right;\n",
       "    }\n",
       "</style>\n",
       "<table border=\"1\" class=\"dataframe\">\n",
       "  <thead>\n",
       "    <tr style=\"text-align: right;\">\n",
       "      <th></th>\n",
       "      <th>Coefficient</th>\n",
       "    </tr>\n",
       "  </thead>\n",
       "  <tbody>\n",
       "    <tr>\n",
       "      <th>chocolate</th>\n",
       "      <td>19.905795</td>\n",
       "    </tr>\n",
       "    <tr>\n",
       "      <th>fruity</th>\n",
       "      <td>10.267732</td>\n",
       "    </tr>\n",
       "    <tr>\n",
       "      <th>peanutyalmondy</th>\n",
       "      <td>10.141017</td>\n",
       "    </tr>\n",
       "    <tr>\n",
       "      <th>crispedricewafer</th>\n",
       "      <td>8.991549</td>\n",
       "    </tr>\n",
       "    <tr>\n",
       "      <th>caramel</th>\n",
       "      <td>3.384282</td>\n",
       "    </tr>\n",
       "    <tr>\n",
       "      <th>nougat</th>\n",
       "      <td>2.416252</td>\n",
       "    </tr>\n",
       "    <tr>\n",
       "      <th>pluribus</th>\n",
       "      <td>-0.159917</td>\n",
       "    </tr>\n",
       "    <tr>\n",
       "      <th>bar</th>\n",
       "      <td>-0.721966</td>\n",
       "    </tr>\n",
       "    <tr>\n",
       "      <th>hard</th>\n",
       "      <td>-4.872560</td>\n",
       "    </tr>\n",
       "  </tbody>\n",
       "</table>\n",
       "</div>"
      ],
      "text/plain": [
       "                  Coefficient\n",
       "chocolate           19.905795\n",
       "fruity              10.267732\n",
       "peanutyalmondy      10.141017\n",
       "crispedricewafer     8.991549\n",
       "caramel              3.384282\n",
       "nougat               2.416252\n",
       "pluribus            -0.159917\n",
       "bar                 -0.721966\n",
       "hard                -4.872560"
      ]
     },
     "execution_count": 183,
     "metadata": {},
     "output_type": "execute_result"
    }
   ],
   "source": [
    "coeff_df = pd.DataFrame(lm.coef_, X.columns, columns=['Coefficient'])\n",
    "coeff_df.sort_values(\"Coefficient\",ascending=False )"
   ]
  },
  {
   "cell_type": "markdown",
   "metadata": {
    "nbpresent": {
     "id": "bc442482-96fb-44b2-bbab-aae66f257e0d"
    }
   },
   "source": [
    "Interpreting the result: \n",
    "\n",
    "- The model can explain around 51% of the variance of the winpercentage can be expalined by the candy properties\n",
    "- A candy with none of the 9 properties has a matchup win percentage of 35%  \n",
    "- **Chocolate** has the highest expected win rate add about 20%  \n",
    "- Add a **fruity** component or **peanuty or almondy** let the expectation increase by 10%  \n",
    "- If it contain **crisped rice, wafers or a cookie** component let the win expectation increase by 9%  \n",
    "- **Caramel** add just 3% and **nougat** 2%  \n",
    "- **Bar** candies let win chance drop by 0.7% and if its **hard** let them drop by 5%\n",
    "- If its in a **bag or box** decreases the excpected win rate by 0.15%\n",
    "\n",
    "\n",
    "## Business Recommendation for a new store candy\n",
    "\n",
    "According to the data, there are we can simplify and decide two things:\n",
    "    1. Which ingredients should the new candy have? \n",
    "    2. Which form and packing should it have? \n",
    "\n",
    "\n",
    "**Ingredients**  \n",
    "For the ingredient combination, we should start with **chocolate** and mix some **caramel** in. Chocolate is included in each entry of the top10 combination list and it has the highest win expectation growth. Whereby caramel is given in 6 out of 10 most liked combinations. The costomer will\n",
    "Next, we can add some **peanuts, peanut butter or almonds** and it must possess **crisped rice, wafers, or a cookie** components.  \n",
    "We should **avoid fruity** candy. Eventhough it has an add of 10% win percentage it also has an relatively low win expectation against non fruity candies and it is not involved in the top10 combination list.   \n",
    "The sugar does not weight to much into the actual decision and the price seems also not main value driver. Never the less at least the price must be aligned with the store pricing strategy in order to avoid cannibalisation of other similar brands in the store.\n",
    "\n",
    "**Form and packing**  \n",
    "The new candy supposed to be a **not hard bar** and it is **not** one of many candies in a **bag or box**."
   ]
  },
  {
   "cell_type": "markdown",
   "metadata": {
    "nbpresent": {
     "id": "6cfe9f59-09f5-486f-a054-ff9ccb58698f"
    }
   },
   "source": [
    "# Recommender Model\n",
    "***\n",
    "\n",
    "The model classifies the win percentage in 10  equaly sized classes: 1 for (0 to 10%); 2 for [10% to 20%) and so on.\n",
    "\n",
    "\n",
    "\n",
    "columns = [\n",
    "        \"chocolate\"\n",
    "        ,\"fruity\"\n",
    "        ,\"caramel\"\n",
    "        ,\"peanutyalmondy\"\n",
    "        ,\"nougat\"\n",
    "        ,\"crispedricewafer\"\n",
    "        ,\"hard\"\n",
    "        ,\"bar\"\n",
    "        ,\"pluribus\"\n",
    "       ]\n"
   ]
  },
  {
   "cell_type": "code",
   "execution_count": 1,
   "metadata": {
    "collapsed": false,
    "nbpresent": {
     "id": "190f09cd-29db-49f6-a01d-9d3aed87594a"
    }
   },
   "outputs": [
    {
     "name": "stderr",
     "output_type": "stream",
     "text": [
      "Using TensorFlow backend.\n"
     ]
    },
    {
     "name": "stdout",
     "output_type": "stream",
     "text": [
      "load modle from:  data/model/\n",
      "WARNING:tensorflow:From C:\\Users\\dtrie\\Anaconda3\\envs\\tfEnv\\lib\\site-packages\\tensorflow\\python\\ops\\resource_variable_ops.py:435: colocate_with (from tensorflow.python.framework.ops) is deprecated and will be removed in a future version.\n",
      "Instructions for updating:\n",
      "Colocations handled automatically by placer.\n",
      "WARNING:tensorflow:From C:\\Users\\dtrie\\Anaconda3\\envs\\tfEnv\\lib\\site-packages\\tensorflow\\python\\ops\\math_ops.py:3066: to_int32 (from tensorflow.python.ops.math_ops) is deprecated and will be removed in a future version.\n",
      "Instructions for updating:\n",
      "Use tf.cast instead.\n"
     ]
    }
   ],
   "source": [
    "from candy_recommender import RecommanderModel\n",
    "candy_model = RecommanderModel()"
   ]
  },
  {
   "cell_type": "markdown",
   "metadata": {},
   "source": [
    "**Compair regression result with self designed**"
   ]
  },
  {
   "cell_type": "code",
   "execution_count": 8,
   "metadata": {
    "collapsed": false,
    "nbpresent": {
     "id": "aa8f84ec-25d8-4426-809b-56fdff68d6df"
    }
   },
   "outputs": [
    {
     "name": "stdout",
     "output_type": "stream",
     "text": [
      "X_vec =  [[1. 0. 1. 1. 0. 1. 0. 1. 0.]]\n",
      "Matchup win expectation between: 50% and 60% .\n"
     ]
    },
    {
     "data": {
      "text/plain": [
       "[50, 60]"
      ]
     },
     "execution_count": 8,
     "metadata": {},
     "output_type": "execute_result"
    }
   ],
   "source": [
    "# Candy from regression\n",
    "new_candy = ['chocolate', 'caramel', 'peanutyalmondy', 'crispedricewafer', 'bar']\n",
    "candy_model.recommend(new_candy)"
   ]
  },
  {
   "cell_type": "code",
   "execution_count": 7,
   "metadata": {
    "collapsed": false,
    "nbpresent": {
     "id": "036a88ec-2e92-4e52-87c9-ba3b14be5421"
    },
    "scrolled": true
   },
   "outputs": [
    {
     "name": "stdout",
     "output_type": "stream",
     "text": [
      "X_vec =  [[1. 1. 0. 1. 0. 0. 0. 0. 0.]]\n",
      "Matchup win expectation between: 70% and 80% .\n"
     ]
    },
    {
     "data": {
      "text/plain": [
       "[70, 80]"
      ]
     },
     "execution_count": 7,
     "metadata": {},
     "output_type": "execute_result"
    }
   ],
   "source": [
    "# New idea_ add fruity\n",
    "new_candy = ['chocolate'\n",
    "             , 'fruity'\n",
    "             , 'peanutyalmondy'\n",
    "#              , 'pluribus'\n",
    "#              , 'bar'\n",
    "#              , 'crispedricewafer'\n",
    "#              , 'hard'\n",
    "            ]\n",
    "candy_model.recommend(new_candy)"
   ]
  },
  {
   "cell_type": "markdown",
   "metadata": {},
   "source": [
    "Playing with the input variables yields to an increased win percentage expectation already\n",
    "\n",
    "**Sear among all possible instances**  \n",
    "With a prediction and search among all instacnes, the beste combination can be figuired out by simply take the highets result."
   ]
  },
  {
   "cell_type": "code",
   "execution_count": 97,
   "metadata": {
    "collapsed": true,
    "nbpresent": {
     "id": "022826a1-119e-4dc2-976f-260c0be6a6e1"
    }
   },
   "outputs": [
    {
     "name": "stdout",
     "output_type": "stream",
     "text": [
      "Run for combination :  ()\n",
      "X_vec =  [[0. 0. 0. 0. 0. 0. 0. 0. 0.]]\n",
      "Matchup win expectation between: 30% and 40% .\n",
      "\n",
      "Run for combination :  ('chocolate',)\n",
      "X_vec =  [[1. 0. 0. 0. 0. 0. 0. 0. 0.]]\n",
      "Matchup win expectation between: 40% and 50% .\n",
      "\n",
      "Run for combination :  ('fruity',)\n",
      "X_vec =  [[0. 1. 0. 0. 0. 0. 0. 0. 0.]]\n",
      "Matchup win expectation between: 50% and 60% .\n",
      "\n",
      "Run for combination :  ('peanutyalmondy',)\n",
      "X_vec =  [[0. 0. 0. 1. 0. 0. 0. 0. 0.]]\n",
      "Matchup win expectation between: 40% and 50% .\n",
      "\n",
      "Run for combination :  ('pluribus',)\n",
      "X_vec =  [[0. 0. 0. 0. 0. 0. 0. 0. 1.]]\n",
      "Matchup win expectation between: 30% and 40% .\n",
      "\n",
      "Run for combination :  ('bar',)\n",
      "X_vec =  [[0. 0. 0. 0. 0. 0. 0. 1. 0.]]\n",
      "Matchup win expectation between: 30% and 40% .\n",
      "\n",
      "Run for combination :  ('crispedricewafer',)\n",
      "X_vec =  [[0. 0. 0. 0. 0. 1. 0. 0. 0.]]\n",
      "Matchup win expectation between: 30% and 40% .\n",
      "\n",
      "Run for combination :  ('hard',)\n",
      "X_vec =  [[0. 0. 0. 0. 0. 0. 1. 0. 0.]]\n",
      "Matchup win expectation between: 30% and 40% .\n",
      "\n",
      "Run for combination :  ('chocolate', 'fruity')\n",
      "X_vec =  [[1. 1. 0. 0. 0. 0. 0. 0. 0.]]\n",
      "Matchup win expectation between: 70% and 80% .\n",
      "\n",
      "Run for combination :  ('chocolate', 'peanutyalmondy')\n",
      "X_vec =  [[1. 0. 0. 1. 0. 0. 0. 0. 0.]]\n",
      "Matchup win expectation between: 80% and 90% .\n",
      "\n",
      "Run for combination :  ('chocolate', 'pluribus')\n",
      "X_vec =  [[1. 0. 0. 0. 0. 0. 0. 0. 1.]]\n",
      "Matchup win expectation between: 40% and 50% .\n",
      "\n",
      "Run for combination :  ('chocolate', 'bar')\n",
      "X_vec =  [[1. 0. 0. 0. 0. 0. 0. 1. 0.]]\n",
      "Matchup win expectation between: 40% and 50% .\n",
      "\n",
      "Run for combination :  ('chocolate', 'crispedricewafer')\n",
      "X_vec =  [[1. 0. 0. 0. 0. 1. 0. 0. 0.]]\n",
      "Matchup win expectation between: 60% and 70% .\n",
      "\n",
      "Run for combination :  ('chocolate', 'hard')\n",
      "X_vec =  [[1. 0. 0. 0. 0. 0. 1. 0. 0.]]\n",
      "Matchup win expectation between: 40% and 50% .\n",
      "\n",
      "Run for combination :  ('fruity', 'peanutyalmondy')\n",
      "X_vec =  [[0. 1. 0. 1. 0. 0. 0. 0. 0.]]\n",
      "Matchup win expectation between: 50% and 60% .\n",
      "\n",
      "Run for combination :  ('fruity', 'pluribus')\n",
      "X_vec =  [[0. 1. 0. 0. 0. 0. 0. 0. 1.]]\n",
      "Matchup win expectation between: 40% and 50% .\n",
      "\n",
      "Run for combination :  ('fruity', 'bar')\n",
      "X_vec =  [[0. 1. 0. 0. 0. 0. 0. 1. 0.]]\n",
      "Matchup win expectation between: 40% and 50% .\n",
      "\n",
      "Run for combination :  ('fruity', 'crispedricewafer')\n",
      "X_vec =  [[0. 1. 0. 0. 0. 1. 0. 0. 0.]]\n",
      "Matchup win expectation between: 60% and 70% .\n",
      "\n",
      "Run for combination :  ('fruity', 'hard')\n",
      "X_vec =  [[0. 1. 0. 0. 0. 0. 1. 0. 0.]]\n",
      "Matchup win expectation between: 30% and 40% .\n",
      "\n",
      "Run for combination :  ('peanutyalmondy', 'pluribus')\n",
      "X_vec =  [[0. 0. 0. 1. 0. 0. 0. 0. 1.]]\n",
      "Matchup win expectation between: 20% and 30% .\n",
      "\n",
      "Run for combination :  ('peanutyalmondy', 'bar')\n",
      "X_vec =  [[0. 0. 0. 1. 0. 0. 0. 1. 0.]]\n",
      "Matchup win expectation between: 40% and 50% .\n",
      "\n",
      "Run for combination :  ('peanutyalmondy', 'crispedricewafer')\n",
      "X_vec =  [[0. 0. 0. 1. 0. 1. 0. 0. 0.]]\n",
      "Matchup win expectation between: 60% and 70% .\n",
      "\n",
      "Run for combination :  ('peanutyalmondy', 'hard')\n",
      "X_vec =  [[0. 0. 0. 1. 0. 0. 1. 0. 0.]]\n",
      "Matchup win expectation between: 40% and 50% .\n",
      "\n",
      "Run for combination :  ('pluribus', 'bar')\n",
      "X_vec =  [[0. 0. 0. 0. 0. 0. 0. 1. 1.]]\n",
      "Matchup win expectation between: 30% and 40% .\n",
      "\n",
      "Run for combination :  ('pluribus', 'crispedricewafer')\n",
      "X_vec =  [[0. 0. 0. 0. 0. 1. 0. 0. 1.]]\n",
      "Matchup win expectation between: 30% and 40% .\n",
      "\n",
      "Run for combination :  ('pluribus', 'hard')\n",
      "X_vec =  [[0. 0. 0. 0. 0. 0. 1. 0. 1.]]\n",
      "Matchup win expectation between: 30% and 40% .\n",
      "\n",
      "Run for combination :  ('bar', 'crispedricewafer')\n",
      "X_vec =  [[0. 0. 0. 0. 0. 1. 0. 1. 0.]]\n",
      "Matchup win expectation between: 60% and 70% .\n",
      "\n",
      "Run for combination :  ('bar', 'hard')\n",
      "X_vec =  [[0. 0. 0. 0. 0. 0. 1. 1. 0.]]\n",
      "Matchup win expectation between: 30% and 40% .\n",
      "\n",
      "Run for combination :  ('crispedricewafer', 'hard')\n",
      "X_vec =  [[0. 0. 0. 0. 0. 1. 1. 0. 0.]]\n",
      "Matchup win expectation between: 30% and 40% .\n",
      "\n",
      "Run for combination :  ('chocolate', 'fruity', 'peanutyalmondy')\n",
      "X_vec =  [[1. 1. 0. 1. 0. 0. 0. 0. 0.]]\n",
      "Matchup win expectation between: 70% and 80% .\n",
      "\n",
      "Run for combination :  ('chocolate', 'fruity', 'pluribus')\n",
      "X_vec =  [[1. 1. 0. 0. 0. 0. 0. 0. 1.]]\n",
      "Matchup win expectation between: 60% and 70% .\n",
      "\n",
      "Run for combination :  ('chocolate', 'fruity', 'bar')\n",
      "X_vec =  [[1. 1. 0. 0. 0. 0. 0. 1. 0.]]\n",
      "Matchup win expectation between: 50% and 60% .\n",
      "\n",
      "Run for combination :  ('chocolate', 'fruity', 'crispedricewafer')\n",
      "X_vec =  [[1. 1. 0. 0. 0. 1. 0. 0. 0.]]\n",
      "Matchup win expectation between: 70% and 80% .\n",
      "\n",
      "Run for combination :  ('chocolate', 'fruity', 'hard')\n",
      "X_vec =  [[1. 1. 0. 0. 0. 0. 1. 0. 0.]]\n",
      "Matchup win expectation between: 40% and 50% .\n",
      "\n",
      "Run for combination :  ('chocolate', 'peanutyalmondy', 'pluribus')\n",
      "X_vec =  [[1. 0. 0. 1. 0. 0. 0. 0. 1.]]\n",
      "Matchup win expectation between: 60% and 70% .\n",
      "\n",
      "Run for combination :  ('chocolate', 'peanutyalmondy', 'bar')\n",
      "X_vec =  [[1. 0. 0. 1. 0. 0. 0. 1. 0.]]\n",
      "Matchup win expectation between: 50% and 60% .\n",
      "\n",
      "Run for combination :  ('chocolate', 'peanutyalmondy', 'crispedricewafer')\n",
      "X_vec =  [[1. 0. 0. 1. 0. 1. 0. 0. 0.]]\n",
      "Matchup win expectation between: 70% and 80% .\n",
      "\n",
      "Run for combination :  ('chocolate', 'peanutyalmondy', 'hard')\n",
      "X_vec =  [[1. 0. 0. 1. 0. 0. 1. 0. 0.]]\n",
      "Matchup win expectation between: 40% and 50% .\n",
      "\n",
      "Run for combination :  ('chocolate', 'pluribus', 'bar')\n",
      "X_vec =  [[1. 0. 0. 0. 0. 0. 0. 1. 1.]]\n",
      "Matchup win expectation between: 30% and 40% .\n",
      "\n",
      "Run for combination :  ('chocolate', 'pluribus', 'crispedricewafer')\n",
      "X_vec =  [[1. 0. 0. 0. 0. 1. 0. 0. 1.]]\n",
      "Matchup win expectation between: 60% and 70% .\n",
      "\n",
      "Run for combination :  ('chocolate', 'pluribus', 'hard')\n",
      "X_vec =  [[1. 0. 0. 0. 0. 0. 1. 0. 1.]]\n",
      "Matchup win expectation between: 30% and 40% .\n",
      "\n",
      "Run for combination :  ('chocolate', 'bar', 'crispedricewafer')\n",
      "X_vec =  [[1. 0. 0. 0. 0. 1. 0. 1. 0.]]\n",
      "Matchup win expectation between: 60% and 70% .\n",
      "\n",
      "Run for combination :  ('chocolate', 'bar', 'hard')\n",
      "X_vec =  [[1. 0. 0. 0. 0. 0. 1. 1. 0.]]\n",
      "Matchup win expectation between: 40% and 50% .\n",
      "\n",
      "Run for combination :  ('chocolate', 'crispedricewafer', 'hard')\n",
      "X_vec =  [[1. 0. 0. 0. 0. 1. 1. 0. 0.]]\n",
      "Matchup win expectation between: 30% and 40% .\n",
      "\n",
      "Run for combination :  ('fruity', 'peanutyalmondy', 'pluribus')\n",
      "X_vec =  [[0. 1. 0. 1. 0. 0. 0. 0. 1.]]\n",
      "Matchup win expectation between: 60% and 70% .\n",
      "\n",
      "Run for combination :  ('fruity', 'peanutyalmondy', 'bar')\n",
      "X_vec =  [[0. 1. 0. 1. 0. 0. 0. 1. 0.]]\n",
      "Matchup win expectation between: 50% and 60% .\n",
      "\n",
      "Run for combination :  ('fruity', 'peanutyalmondy', 'crispedricewafer')\n",
      "X_vec =  [[0. 1. 0. 1. 0. 1. 0. 0. 0.]]\n",
      "Matchup win expectation between: 20% and 30% .\n",
      "\n",
      "Run for combination :  ('fruity', 'peanutyalmondy', 'hard')\n",
      "X_vec =  [[0. 1. 0. 1. 0. 0. 1. 0. 0.]]\n",
      "Matchup win expectation between: 40% and 50% .\n",
      "\n",
      "Run for combination :  ('fruity', 'pluribus', 'bar')\n",
      "X_vec =  [[0. 1. 0. 0. 0. 0. 0. 1. 1.]]\n",
      "Matchup win expectation between: 30% and 40% .\n",
      "\n",
      "Run for combination :  ('fruity', 'pluribus', 'crispedricewafer')\n",
      "X_vec =  [[0. 1. 0. 0. 0. 1. 0. 0. 1.]]\n",
      "Matchup win expectation between: 60% and 70% .\n",
      "\n",
      "Run for combination :  ('fruity', 'pluribus', 'hard')\n",
      "X_vec =  [[0. 1. 0. 0. 0. 0. 1. 0. 1.]]\n",
      "Matchup win expectation between: 40% and 50% .\n",
      "\n",
      "Run for combination :  ('fruity', 'bar', 'crispedricewafer')\n",
      "X_vec =  [[0. 1. 0. 0. 0. 1. 0. 1. 0.]]\n",
      "Matchup win expectation between: 60% and 70% .\n",
      "\n",
      "Run for combination :  ('fruity', 'bar', 'hard')\n",
      "X_vec =  [[0. 1. 0. 0. 0. 0. 1. 1. 0.]]\n",
      "Matchup win expectation between: 30% and 40% .\n",
      "\n",
      "Run for combination :  ('fruity', 'crispedricewafer', 'hard')\n",
      "X_vec =  [[0. 1. 0. 0. 0. 1. 1. 0. 0.]]\n",
      "Matchup win expectation between: 30% and 40% .\n",
      "\n",
      "Run for combination :  ('peanutyalmondy', 'pluribus', 'bar')\n",
      "X_vec =  [[0. 0. 0. 1. 0. 0. 0. 1. 1.]]\n",
      "Matchup win expectation between: 50% and 60% .\n",
      "\n",
      "Run for combination :  ('peanutyalmondy', 'pluribus', 'crispedricewafer')\n",
      "X_vec =  [[0. 0. 0. 1. 0. 1. 0. 0. 1.]]\n",
      "Matchup win expectation between: 60% and 70% .\n",
      "\n",
      "Run for combination :  ('peanutyalmondy', 'pluribus', 'hard')\n",
      "X_vec =  [[0. 0. 0. 1. 0. 0. 1. 0. 1.]]\n",
      "Matchup win expectation between: 20% and 30% .\n",
      "\n",
      "Run for combination :  ('peanutyalmondy', 'bar', 'crispedricewafer')\n",
      "X_vec =  [[0. 0. 0. 1. 0. 1. 0. 1. 0.]]\n",
      "Matchup win expectation between: 50% and 60% .\n",
      "\n",
      "Run for combination :  ('peanutyalmondy', 'bar', 'hard')\n",
      "X_vec =  [[0. 0. 0. 1. 0. 0. 1. 1. 0.]]\n",
      "Matchup win expectation between: 40% and 50% .\n",
      "\n",
      "Run for combination :  ('peanutyalmondy', 'crispedricewafer', 'hard')\n",
      "X_vec =  [[0. 0. 0. 1. 0. 1. 1. 0. 0.]]\n",
      "Matchup win expectation between: 30% and 40% .\n",
      "\n",
      "Run for combination :  ('pluribus', 'bar', 'crispedricewafer')\n",
      "X_vec =  [[0. 0. 0. 0. 0. 1. 0. 1. 1.]]\n",
      "Matchup win expectation between: 30% and 40% .\n",
      "\n",
      "Run for combination :  ('pluribus', 'bar', 'hard')\n",
      "X_vec =  [[0. 0. 0. 0. 0. 0. 1. 1. 1.]]\n",
      "Matchup win expectation between: 30% and 40% .\n",
      "\n",
      "Run for combination :  ('pluribus', 'crispedricewafer', 'hard')\n",
      "X_vec =  [[0. 0. 0. 0. 0. 1. 1. 0. 1.]]\n",
      "Matchup win expectation between: 30% and 40% .\n",
      "\n",
      "Run for combination :  ('bar', 'crispedricewafer', 'hard')\n",
      "X_vec =  [[0. 0. 0. 0. 0. 1. 1. 1. 0.]]\n",
      "Matchup win expectation between: 30% and 40% .\n",
      "\n",
      "Run for combination :  ('chocolate', 'fruity', 'peanutyalmondy', 'pluribus')\n",
      "X_vec =  [[1. 1. 0. 1. 0. 0. 0. 0. 1.]]\n",
      "Matchup win expectation between: 70% and 80% .\n",
      "\n",
      "Run for combination :  ('chocolate', 'fruity', 'peanutyalmondy', 'bar')\n",
      "X_vec =  [[1. 1. 0. 1. 0. 0. 0. 1. 0.]]\n",
      "Matchup win expectation between: 50% and 60% .\n",
      "\n",
      "Run for combination :  ('chocolate', 'fruity', 'peanutyalmondy', 'crispedricewafer')\n",
      "X_vec =  [[1. 1. 0. 1. 0. 1. 0. 0. 0.]]\n",
      "Matchup win expectation between: 70% and 80% .\n",
      "\n",
      "Run for combination :  ('chocolate', 'fruity', 'peanutyalmondy', 'hard')\n",
      "X_vec =  [[1. 1. 0. 1. 0. 0. 1. 0. 0.]]\n",
      "Matchup win expectation between: 80% and 90% .\n",
      "\n",
      "Run for combination :  ('chocolate', 'fruity', 'pluribus', 'bar')\n",
      "X_vec =  [[1. 1. 0. 0. 0. 0. 0. 1. 1.]]\n",
      "Matchup win expectation between: 50% and 60% .\n",
      "\n",
      "Run for combination :  ('chocolate', 'fruity', 'pluribus', 'crispedricewafer')\n",
      "X_vec =  [[1. 1. 0. 0. 0. 1. 0. 0. 1.]]\n",
      "Matchup win expectation between: 60% and 70% .\n",
      "\n",
      "Run for combination :  ('chocolate', 'fruity', 'pluribus', 'hard')\n",
      "X_vec =  [[1. 1. 0. 0. 0. 0. 1. 0. 1.]]\n",
      "Matchup win expectation between: 40% and 50% .\n",
      "\n",
      "Run for combination :  ('chocolate', 'fruity', 'bar', 'crispedricewafer')\n",
      "X_vec =  [[1. 1. 0. 0. 0. 1. 0. 1. 0.]]\n",
      "Matchup win expectation between: 70% and 80% .\n",
      "\n",
      "Run for combination :  ('chocolate', 'fruity', 'bar', 'hard')\n",
      "X_vec =  [[1. 1. 0. 0. 0. 0. 1. 1. 0.]]\n",
      "Matchup win expectation between: 40% and 50% .\n",
      "\n",
      "Run for combination :  ('chocolate', 'fruity', 'crispedricewafer', 'hard')\n",
      "X_vec =  [[1. 1. 0. 0. 0. 1. 1. 0. 0.]]\n",
      "Matchup win expectation between: 30% and 40% .\n",
      "\n",
      "Run for combination :  ('chocolate', 'peanutyalmondy', 'pluribus', 'bar')\n",
      "X_vec =  [[1. 0. 0. 1. 0. 0. 0. 1. 1.]]\n",
      "Matchup win expectation between: 50% and 60% .\n",
      "\n",
      "Run for combination :  ('chocolate', 'peanutyalmondy', 'pluribus', 'crispedricewafer')\n",
      "X_vec =  [[1. 0. 0. 1. 0. 1. 0. 0. 1.]]\n",
      "Matchup win expectation between: 60% and 70% .\n",
      "\n",
      "Run for combination :  ('chocolate', 'peanutyalmondy', 'pluribus', 'hard')\n",
      "X_vec =  [[1. 0. 0. 1. 0. 0. 1. 0. 1.]]\n",
      "Matchup win expectation between: 60% and 70% .\n",
      "\n",
      "Run for combination :  ('chocolate', 'peanutyalmondy', 'bar', 'crispedricewafer')\n",
      "X_vec =  [[1. 0. 0. 1. 0. 1. 0. 1. 0.]]\n",
      "Matchup win expectation between: 50% and 60% .\n",
      "\n",
      "Run for combination :  ('chocolate', 'peanutyalmondy', 'bar', 'hard')\n",
      "X_vec =  [[1. 0. 0. 1. 0. 0. 1. 1. 0.]]\n",
      "Matchup win expectation between: 50% and 60% .\n",
      "\n",
      "Run for combination :  ('chocolate', 'peanutyalmondy', 'crispedricewafer', 'hard')\n",
      "X_vec =  [[1. 0. 0. 1. 0. 1. 1. 0. 0.]]\n",
      "Matchup win expectation between: 50% and 60% .\n",
      "\n",
      "Run for combination :  ('chocolate', 'pluribus', 'bar', 'crispedricewafer')\n",
      "X_vec =  [[1. 0. 0. 0. 0. 1. 0. 1. 1.]]\n",
      "Matchup win expectation between: 60% and 70% .\n",
      "\n",
      "Run for combination :  ('chocolate', 'pluribus', 'bar', 'hard')\n",
      "X_vec =  [[1. 0. 0. 0. 0. 0. 1. 1. 1.]]\n",
      "Matchup win expectation between: 30% and 40% .\n",
      "\n",
      "Run for combination :  ('chocolate', 'pluribus', 'crispedricewafer', 'hard')\n",
      "X_vec =  [[1. 0. 0. 0. 0. 1. 1. 0. 1.]]\n",
      "Matchup win expectation between: 30% and 40% .\n",
      "\n",
      "Run for combination :  ('chocolate', 'bar', 'crispedricewafer', 'hard')\n",
      "X_vec =  [[1. 0. 0. 0. 0. 1. 1. 1. 0.]]\n",
      "Matchup win expectation between: 30% and 40% .\n",
      "\n",
      "Run for combination :  ('fruity', 'peanutyalmondy', 'pluribus', 'bar')\n",
      "X_vec =  [[0. 1. 0. 1. 0. 0. 0. 1. 1.]]\n",
      "Matchup win expectation between: 50% and 60% .\n",
      "\n",
      "Run for combination :  ('fruity', 'peanutyalmondy', 'pluribus', 'crispedricewafer')\n",
      "X_vec =  [[0. 1. 0. 1. 0. 1. 0. 0. 1.]]\n",
      "Matchup win expectation between: 60% and 70% .\n",
      "\n",
      "Run for combination :  ('fruity', 'peanutyalmondy', 'pluribus', 'hard')\n",
      "X_vec =  [[0. 1. 0. 1. 0. 0. 1. 0. 1.]]\n",
      "Matchup win expectation between: 20% and 30% .\n",
      "\n",
      "Run for combination :  ('fruity', 'peanutyalmondy', 'bar', 'crispedricewafer')\n",
      "X_vec =  [[0. 1. 0. 1. 0. 1. 0. 1. 0.]]\n",
      "Matchup win expectation between: 50% and 60% .\n",
      "\n",
      "Run for combination :  ('fruity', 'peanutyalmondy', 'bar', 'hard')\n",
      "X_vec =  [[0. 1. 0. 1. 0. 0. 1. 1. 0.]]\n",
      "Matchup win expectation between: 40% and 50% .\n",
      "\n",
      "Run for combination :  ('fruity', 'peanutyalmondy', 'crispedricewafer', 'hard')\n",
      "X_vec =  [[0. 1. 0. 1. 0. 1. 1. 0. 0.]]\n",
      "Matchup win expectation between: 20% and 30% .\n",
      "\n",
      "Run for combination :  ('fruity', 'pluribus', 'bar', 'crispedricewafer')\n",
      "X_vec =  [[0. 1. 0. 0. 0. 1. 0. 1. 1.]]\n",
      "Matchup win expectation between: 60% and 70% .\n",
      "\n",
      "Run for combination :  ('fruity', 'pluribus', 'bar', 'hard')\n",
      "X_vec =  [[0. 1. 0. 0. 0. 0. 1. 1. 1.]]\n",
      "Matchup win expectation between: 30% and 40% .\n",
      "\n",
      "Run for combination :  ('fruity', 'pluribus', 'crispedricewafer', 'hard')\n",
      "X_vec =  [[0. 1. 0. 0. 0. 1. 1. 0. 1.]]\n",
      "Matchup win expectation between: 30% and 40% .\n",
      "\n",
      "Run for combination :  ('fruity', 'bar', 'crispedricewafer', 'hard')\n",
      "X_vec =  [[0. 1. 0. 0. 0. 1. 1. 1. 0.]]\n",
      "Matchup win expectation between: 30% and 40% .\n",
      "\n",
      "Run for combination :  ('peanutyalmondy', 'pluribus', 'bar', 'crispedricewafer')\n",
      "X_vec =  [[0. 0. 0. 1. 0. 1. 0. 1. 1.]]\n",
      "Matchup win expectation between: 60% and 70% .\n",
      "\n",
      "Run for combination :  ('peanutyalmondy', 'pluribus', 'bar', 'hard')\n",
      "X_vec =  [[0. 0. 0. 1. 0. 0. 1. 1. 1.]]\n",
      "Matchup win expectation between: 30% and 40% .\n",
      "\n",
      "Run for combination :  ('peanutyalmondy', 'pluribus', 'crispedricewafer', 'hard')\n",
      "X_vec =  [[0. 0. 0. 1. 0. 1. 1. 0. 1.]]\n",
      "Matchup win expectation between: 60% and 70% .\n",
      "\n",
      "Run for combination :  ('peanutyalmondy', 'bar', 'crispedricewafer', 'hard')\n",
      "X_vec =  [[0. 0. 0. 1. 0. 1. 1. 1. 0.]]\n",
      "Matchup win expectation between: 30% and 40% .\n",
      "\n",
      "Run for combination :  ('pluribus', 'bar', 'crispedricewafer', 'hard')\n",
      "X_vec =  [[0. 0. 0. 0. 0. 1. 1. 1. 1.]]\n",
      "Matchup win expectation between: 30% and 40% .\n",
      "\n",
      "Run for combination :  ('chocolate', 'fruity', 'peanutyalmondy', 'pluribus', 'bar')\n",
      "X_vec =  [[1. 1. 0. 1. 0. 0. 0. 1. 1.]]\n",
      "Matchup win expectation between: 50% and 60% .\n",
      "\n",
      "Run for combination :  ('chocolate', 'fruity', 'peanutyalmondy', 'pluribus', 'crispedricewafer')\n",
      "X_vec =  [[1. 1. 0. 1. 0. 1. 0. 0. 1.]]\n",
      "Matchup win expectation between: 70% and 80% .\n",
      "\n",
      "Run for combination :  ('chocolate', 'fruity', 'peanutyalmondy', 'pluribus', 'hard')\n",
      "X_vec =  [[1. 1. 0. 1. 0. 0. 1. 0. 1.]]\n",
      "Matchup win expectation between: 60% and 70% .\n",
      "\n",
      "Run for combination :  ('chocolate', 'fruity', 'peanutyalmondy', 'bar', 'crispedricewafer')\n",
      "X_vec =  [[1. 1. 0. 1. 0. 1. 0. 1. 0.]]\n",
      "Matchup win expectation between: 50% and 60% .\n",
      "\n",
      "Run for combination :  ('chocolate', 'fruity', 'peanutyalmondy', 'bar', 'hard')\n",
      "X_vec =  [[1. 1. 0. 1. 0. 0. 1. 1. 0.]]\n",
      "Matchup win expectation between: 50% and 60% .\n",
      "\n",
      "Run for combination :  ('chocolate', 'fruity', 'peanutyalmondy', 'crispedricewafer', 'hard')\n",
      "X_vec =  [[1. 1. 0. 1. 0. 1. 1. 0. 0.]]\n",
      "Matchup win expectation between: 50% and 60% .\n",
      "\n",
      "Run for combination :  ('chocolate', 'fruity', 'pluribus', 'bar', 'crispedricewafer')\n",
      "X_vec =  [[1. 1. 0. 0. 0. 1. 0. 1. 1.]]\n",
      "Matchup win expectation between: 60% and 70% .\n",
      "\n",
      "Run for combination :  ('chocolate', 'fruity', 'pluribus', 'bar', 'hard')\n",
      "X_vec =  [[1. 1. 0. 0. 0. 0. 1. 1. 1.]]\n",
      "Matchup win expectation between: 50% and 60% .\n",
      "\n",
      "Run for combination :  ('chocolate', 'fruity', 'pluribus', 'crispedricewafer', 'hard')\n",
      "X_vec =  [[1. 1. 0. 0. 0. 1. 1. 0. 1.]]\n",
      "Matchup win expectation between: 60% and 70% .\n",
      "\n",
      "Run for combination :  ('chocolate', 'fruity', 'bar', 'crispedricewafer', 'hard')\n",
      "X_vec =  [[1. 1. 0. 0. 0. 1. 1. 1. 0.]]\n",
      "Matchup win expectation between: 60% and 70% .\n",
      "\n",
      "Run for combination :  ('chocolate', 'peanutyalmondy', 'pluribus', 'bar', 'crispedricewafer')\n",
      "X_vec =  [[1. 0. 0. 1. 0. 1. 0. 1. 1.]]\n",
      "Matchup win expectation between: 60% and 70% .\n",
      "\n",
      "Run for combination :  ('chocolate', 'peanutyalmondy', 'pluribus', 'bar', 'hard')\n",
      "X_vec =  [[1. 0. 0. 1. 0. 0. 1. 1. 1.]]\n",
      "Matchup win expectation between: 50% and 60% .\n",
      "\n",
      "Run for combination :  ('chocolate', 'peanutyalmondy', 'pluribus', 'crispedricewafer', 'hard')\n",
      "X_vec =  [[1. 0. 0. 1. 0. 1. 1. 0. 1.]]\n",
      "Matchup win expectation between: 60% and 70% .\n",
      "\n",
      "Run for combination :  ('chocolate', 'peanutyalmondy', 'bar', 'crispedricewafer', 'hard')\n",
      "X_vec =  [[1. 0. 0. 1. 0. 1. 1. 1. 0.]]\n",
      "Matchup win expectation between: 50% and 60% .\n",
      "\n",
      "Run for combination :  ('chocolate', 'pluribus', 'bar', 'crispedricewafer', 'hard')\n",
      "X_vec =  [[1. 0. 0. 0. 0. 1. 1. 1. 1.]]\n",
      "Matchup win expectation between: 30% and 40% .\n",
      "\n",
      "Run for combination :  ('fruity', 'peanutyalmondy', 'pluribus', 'bar', 'crispedricewafer')\n",
      "X_vec =  [[0. 1. 0. 1. 0. 1. 0. 1. 1.]]\n",
      "Matchup win expectation between: 50% and 60% .\n",
      "\n",
      "Run for combination :  ('fruity', 'peanutyalmondy', 'pluribus', 'bar', 'hard')\n",
      "X_vec =  [[0. 1. 0. 1. 0. 0. 1. 1. 1.]]\n",
      "Matchup win expectation between: 50% and 60% .\n",
      "\n",
      "Run for combination :  ('fruity', 'peanutyalmondy', 'pluribus', 'crispedricewafer', 'hard')\n",
      "X_vec =  [[0. 1. 0. 1. 0. 1. 1. 0. 1.]]\n",
      "Matchup win expectation between: 60% and 70% .\n",
      "\n",
      "Run for combination :  ('fruity', 'peanutyalmondy', 'bar', 'crispedricewafer', 'hard')\n",
      "X_vec =  [[0. 1. 0. 1. 0. 1. 1. 1. 0.]]\n",
      "Matchup win expectation between: 30% and 40% .\n",
      "\n",
      "Run for combination :  ('fruity', 'pluribus', 'bar', 'crispedricewafer', 'hard')\n",
      "X_vec =  [[0. 1. 0. 0. 0. 1. 1. 1. 1.]]\n",
      "Matchup win expectation between: 30% and 40% .\n",
      "\n",
      "Run for combination :  ('peanutyalmondy', 'pluribus', 'bar', 'crispedricewafer', 'hard')\n",
      "X_vec =  [[0. 0. 0. 1. 0. 1. 1. 1. 1.]]\n",
      "Matchup win expectation between: 30% and 40% .\n",
      "\n",
      "Run for combination :  ('chocolate', 'fruity', 'peanutyalmondy', 'pluribus', 'bar', 'crispedricewafer')\n",
      "X_vec =  [[1. 1. 0. 1. 0. 1. 0. 1. 1.]]\n",
      "Matchup win expectation between: 70% and 80% .\n",
      "\n",
      "Run for combination :  ('chocolate', 'fruity', 'peanutyalmondy', 'pluribus', 'bar', 'hard')\n",
      "X_vec =  [[1. 1. 0. 1. 0. 0. 1. 1. 1.]]\n",
      "Matchup win expectation between: 50% and 60% .\n",
      "\n",
      "Run for combination :  ('chocolate', 'fruity', 'peanutyalmondy', 'pluribus', 'crispedricewafer', 'hard')\n",
      "X_vec =  [[1. 1. 0. 1. 0. 1. 1. 0. 1.]]\n",
      "Matchup win expectation between: 70% and 80% .\n",
      "\n",
      "Run for combination :  ('chocolate', 'fruity', 'peanutyalmondy', 'bar', 'crispedricewafer', 'hard')\n",
      "X_vec =  [[1. 1. 0. 1. 0. 1. 1. 1. 0.]]\n",
      "Matchup win expectation between: 50% and 60% .\n",
      "\n",
      "Run for combination :  ('chocolate', 'fruity', 'pluribus', 'bar', 'crispedricewafer', 'hard')\n",
      "X_vec =  [[1. 1. 0. 0. 0. 1. 1. 1. 1.]]\n",
      "Matchup win expectation between: 60% and 70% .\n",
      "\n",
      "Run for combination :  ('chocolate', 'peanutyalmondy', 'pluribus', 'bar', 'crispedricewafer', 'hard')\n",
      "X_vec =  [[1. 0. 0. 1. 0. 1. 1. 1. 1.]]\n",
      "Matchup win expectation between: 50% and 60% .\n",
      "\n",
      "Run for combination :  ('fruity', 'peanutyalmondy', 'pluribus', 'bar', 'crispedricewafer', 'hard')\n",
      "X_vec =  [[0. 1. 0. 1. 0. 1. 1. 1. 1.]]\n",
      "Matchup win expectation between: 50% and 60% .\n",
      "\n",
      "Run for combination :  ('chocolate', 'fruity', 'peanutyalmondy', 'pluribus', 'bar', 'crispedricewafer', 'hard')\n",
      "X_vec =  [[1. 1. 0. 1. 0. 1. 1. 1. 1.]]\n",
      "Matchup win expectation between: 50% and 60% .\n",
      "\n"
     ]
    }
   ],
   "source": [
    "# Get all combinations of the attributes\n",
    "import itertools \n",
    "import numpy as np\n",
    "import pandas as pd\n",
    "\n",
    "def get_all_combinations(input_list):\n",
    "    combination = []\n",
    "    a = input_list\n",
    "    for L in range(len(a) +1):\n",
    "        for subset in itertools.combinations(a, L):\n",
    "            #print(subset)\n",
    "            combination.append(subset)\n",
    "    return combination\n",
    "\n",
    "\n",
    "attr_candy = new_candy = ['chocolate'\n",
    "                         , 'fruity'\n",
    "                         , 'peanutyalmondy'\n",
    "                         , 'pluribus'\n",
    "                         , 'bar'\n",
    "                         , 'crispedricewafer'\n",
    "                         , 'hard']\n",
    "combination_list = get_all_combinations(attr_candy)\n",
    "\n",
    "# Create a result df\n",
    "data_result = pd.DataFrame({'combination' : combination_list,\n",
    "                            'result' : np.zeros(len(combination_list))})\n",
    "\n",
    "# Get predictions and store result in dictionary:\n",
    "result_list = []\n",
    "\n",
    "for combination in combination_list:\n",
    "    \n",
    "    print(\"Run for combination : \", combination)\n",
    "    result = candy_model.recommend(combination) \n",
    "    \n",
    "    result_list.append(str(result))\n",
    "    print(\"\\r\")\n",
    "\n",
    "data_result[\"result\"] = result_list"
   ]
  },
  {
   "cell_type": "code",
   "execution_count": 98,
   "metadata": {
    "collapsed": false,
    "nbpresent": {
     "id": "8cb1f260-a81e-4313-b7a7-134b81b08084"
    }
   },
   "outputs": [
    {
     "data": {
      "text/html": [
       "<div>\n",
       "<style scoped>\n",
       "    .dataframe tbody tr th:only-of-type {\n",
       "        vertical-align: middle;\n",
       "    }\n",
       "\n",
       "    .dataframe tbody tr th {\n",
       "        vertical-align: top;\n",
       "    }\n",
       "\n",
       "    .dataframe thead th {\n",
       "        text-align: right;\n",
       "    }\n",
       "</style>\n",
       "<table border=\"1\" class=\"dataframe\">\n",
       "  <thead>\n",
       "    <tr style=\"text-align: right;\">\n",
       "      <th></th>\n",
       "      <th>combination</th>\n",
       "    </tr>\n",
       "    <tr>\n",
       "      <th>result</th>\n",
       "      <th></th>\n",
       "    </tr>\n",
       "  </thead>\n",
       "  <tbody>\n",
       "    <tr>\n",
       "      <td>[20, 30]</td>\n",
       "      <td>5</td>\n",
       "    </tr>\n",
       "    <tr>\n",
       "      <td>[30, 40]</td>\n",
       "      <td>36</td>\n",
       "    </tr>\n",
       "    <tr>\n",
       "      <td>[40, 50]</td>\n",
       "      <td>18</td>\n",
       "    </tr>\n",
       "    <tr>\n",
       "      <td>[50, 60]</td>\n",
       "      <td>29</td>\n",
       "    </tr>\n",
       "    <tr>\n",
       "      <td>[60, 70]</td>\n",
       "      <td>28</td>\n",
       "    </tr>\n",
       "    <tr>\n",
       "      <td>[70, 80]</td>\n",
       "      <td>10</td>\n",
       "    </tr>\n",
       "    <tr>\n",
       "      <td>[80, 90]</td>\n",
       "      <td>2</td>\n",
       "    </tr>\n",
       "  </tbody>\n",
       "</table>\n",
       "</div>"
      ],
      "text/plain": [
       "          combination\n",
       "result               \n",
       "[20, 30]            5\n",
       "[30, 40]           36\n",
       "[40, 50]           18\n",
       "[50, 60]           29\n",
       "[60, 70]           28\n",
       "[70, 80]           10\n",
       "[80, 90]            2"
      ]
     },
     "execution_count": 98,
     "metadata": {},
     "output_type": "execute_result"
    }
   ],
   "source": [
    "# Overview of combination performance\n",
    "data_result.groupby('result').count()"
   ]
  },
  {
   "cell_type": "markdown",
   "metadata": {},
   "source": [
    "We can see that there are two combination with an highest prediction class [80, 90]"
   ]
  },
  {
   "cell_type": "code",
   "execution_count": 99,
   "metadata": {
    "collapsed": false,
    "nbpresent": {
     "id": "799ca8cc-1e15-4bbc-bc8c-15bd5793f012"
    }
   },
   "outputs": [
    {
     "data": {
      "text/html": [
       "<div>\n",
       "<style scoped>\n",
       "    .dataframe tbody tr th:only-of-type {\n",
       "        vertical-align: middle;\n",
       "    }\n",
       "\n",
       "    .dataframe tbody tr th {\n",
       "        vertical-align: top;\n",
       "    }\n",
       "\n",
       "    .dataframe thead th {\n",
       "        text-align: right;\n",
       "    }\n",
       "</style>\n",
       "<table border=\"1\" class=\"dataframe\">\n",
       "  <thead>\n",
       "    <tr style=\"text-align: right;\">\n",
       "      <th></th>\n",
       "      <th>combination</th>\n",
       "      <th>result</th>\n",
       "    </tr>\n",
       "  </thead>\n",
       "  <tbody>\n",
       "    <tr>\n",
       "      <td>9</td>\n",
       "      <td>(chocolate, peanutyalmondy)</td>\n",
       "      <td>[80, 90]</td>\n",
       "    </tr>\n",
       "    <tr>\n",
       "      <td>67</td>\n",
       "      <td>(chocolate, fruity, peanutyalmondy, hard)</td>\n",
       "      <td>[80, 90]</td>\n",
       "    </tr>\n",
       "  </tbody>\n",
       "</table>\n",
       "</div>"
      ],
      "text/plain": [
       "                                  combination    result\n",
       "9                 (chocolate, peanutyalmondy)  [80, 90]\n",
       "67  (chocolate, fruity, peanutyalmondy, hard)  [80, 90]"
      ]
     },
     "execution_count": 99,
     "metadata": {},
     "output_type": "execute_result"
    }
   ],
   "source": [
    "# Get the two best inputs:\n",
    "idxs = np.where(np.array(result_list) == '[80, 90]')[0]\n",
    "data_result.iloc[idxs,:]"
   ]
  },
  {
   "cell_type": "code",
   "execution_count": 100,
   "metadata": {
    "collapsed": false,
    "nbpresent": {
     "id": "9fc0bc69-96ff-495d-acb8-2330ecbb33b2"
    }
   },
   "outputs": [
    {
     "data": {
      "text/html": [
       "<div>\n",
       "<style scoped>\n",
       "    .dataframe tbody tr th:only-of-type {\n",
       "        vertical-align: middle;\n",
       "    }\n",
       "\n",
       "    .dataframe tbody tr th {\n",
       "        vertical-align: top;\n",
       "    }\n",
       "\n",
       "    .dataframe thead th {\n",
       "        text-align: right;\n",
       "    }\n",
       "</style>\n",
       "<table border=\"1\" class=\"dataframe\">\n",
       "  <thead>\n",
       "    <tr style=\"text-align: right;\">\n",
       "      <th></th>\n",
       "      <th>combination</th>\n",
       "      <th>result</th>\n",
       "    </tr>\n",
       "  </thead>\n",
       "  <tbody>\n",
       "    <tr>\n",
       "      <td>8</td>\n",
       "      <td>(chocolate, fruity)</td>\n",
       "      <td>[70, 80]</td>\n",
       "    </tr>\n",
       "    <tr>\n",
       "      <td>29</td>\n",
       "      <td>(chocolate, fruity, peanutyalmondy)</td>\n",
       "      <td>[70, 80]</td>\n",
       "    </tr>\n",
       "    <tr>\n",
       "      <td>32</td>\n",
       "      <td>(chocolate, fruity, crispedricewafer)</td>\n",
       "      <td>[70, 80]</td>\n",
       "    </tr>\n",
       "    <tr>\n",
       "      <td>36</td>\n",
       "      <td>(chocolate, peanutyalmondy, crispedricewafer)</td>\n",
       "      <td>[70, 80]</td>\n",
       "    </tr>\n",
       "    <tr>\n",
       "      <td>64</td>\n",
       "      <td>(chocolate, fruity, peanutyalmondy, pluribus)</td>\n",
       "      <td>[70, 80]</td>\n",
       "    </tr>\n",
       "    <tr>\n",
       "      <td>66</td>\n",
       "      <td>(chocolate, fruity, peanutyalmondy, crispedricewafer)</td>\n",
       "      <td>[70, 80]</td>\n",
       "    </tr>\n",
       "    <tr>\n",
       "      <td>71</td>\n",
       "      <td>(chocolate, fruity, bar, crispedricewafer)</td>\n",
       "      <td>[70, 80]</td>\n",
       "    </tr>\n",
       "    <tr>\n",
       "      <td>100</td>\n",
       "      <td>(chocolate, fruity, peanutyalmondy, pluribus, crispedricewafer)</td>\n",
       "      <td>[70, 80]</td>\n",
       "    </tr>\n",
       "    <tr>\n",
       "      <td>120</td>\n",
       "      <td>(chocolate, fruity, peanutyalmondy, pluribus, bar, crispedricewafer)</td>\n",
       "      <td>[70, 80]</td>\n",
       "    </tr>\n",
       "    <tr>\n",
       "      <td>122</td>\n",
       "      <td>(chocolate, fruity, peanutyalmondy, pluribus, crispedricewafer, hard)</td>\n",
       "      <td>[70, 80]</td>\n",
       "    </tr>\n",
       "  </tbody>\n",
       "</table>\n",
       "</div>"
      ],
      "text/plain": [
       "                                                               combination  \\\n",
       "8                                                      (chocolate, fruity)   \n",
       "29                                     (chocolate, fruity, peanutyalmondy)   \n",
       "32                                   (chocolate, fruity, crispedricewafer)   \n",
       "36                           (chocolate, peanutyalmondy, crispedricewafer)   \n",
       "64                           (chocolate, fruity, peanutyalmondy, pluribus)   \n",
       "66                   (chocolate, fruity, peanutyalmondy, crispedricewafer)   \n",
       "71                              (chocolate, fruity, bar, crispedricewafer)   \n",
       "100        (chocolate, fruity, peanutyalmondy, pluribus, crispedricewafer)   \n",
       "120   (chocolate, fruity, peanutyalmondy, pluribus, bar, crispedricewafer)   \n",
       "122  (chocolate, fruity, peanutyalmondy, pluribus, crispedricewafer, hard)   \n",
       "\n",
       "       result  \n",
       "8    [70, 80]  \n",
       "29   [70, 80]  \n",
       "32   [70, 80]  \n",
       "36   [70, 80]  \n",
       "64   [70, 80]  \n",
       "66   [70, 80]  \n",
       "71   [70, 80]  \n",
       "100  [70, 80]  \n",
       "120  [70, 80]  \n",
       "122  [70, 80]  "
      ]
     },
     "execution_count": 100,
     "metadata": {},
     "output_type": "execute_result"
    }
   ],
   "source": [
    "# get the second best classes:\n",
    "pd.set_option('max_colwidth', 80)\n",
    "idxs = np.where(np.array(result_list) == '[70, 80]')[0]\n",
    "data_result.iloc[idxs,:]"
   ]
  },
  {
   "cell_type": "markdown",
   "metadata": {},
   "source": [
    "Those lists can be disscussed with the managemnt regarding potential new candy. There are much more elements part of the decision than just the preference of a candy e.g. already excisting, canibalisation or production cost. "
   ]
  },
  {
   "cell_type": "markdown",
   "metadata": {
    "collapsed": true,
    "nbpresent": {
     "id": "2618bf18-db06-4138-a0a0-9877409f4f3f"
    }
   },
   "source": [
    "# Ende"
   ]
  }
 ],
 "metadata": {
  "anaconda-cloud": {},
  "kernelspec": {
   "display_name": "Python [conda env:tfEnv]",
   "language": "python",
   "name": "conda-env-tfEnv-py"
  },
  "language_info": {
   "codemirror_mode": {
    "name": "ipython",
    "version": 3
   },
   "file_extension": ".py",
   "mimetype": "text/x-python",
   "name": "python",
   "nbconvert_exporter": "python",
   "pygments_lexer": "ipython3",
   "version": "3.6.7"
  },
  "nbpresent": {
   "slides": {
    "00839e6a-cdf6-446f-b95b-3f0991457483": {
     "id": "00839e6a-cdf6-446f-b95b-3f0991457483",
     "prev": "67622f52-26d1-49fc-b21e-a3aca90ad759",
     "regions": {
      "131e653e-b675-458d-bacb-8bc4adefe50f": {
       "attrs": {
        "height": 0.8,
        "width": 0.8,
        "x": 0.1,
        "y": 0.1
       },
       "content": {
        "cell": "bb006623-2315-4697-ab2b-77c16eb48813",
        "part": "whole"
       },
       "id": "131e653e-b675-458d-bacb-8bc4adefe50f"
      }
     }
    },
    "046ba55b-443b-4df5-ae0c-4798c2c63b3b": {
     "id": "046ba55b-443b-4df5-ae0c-4798c2c63b3b",
     "prev": "25f73316-ab40-4dc5-84ff-92c69eb17029",
     "regions": {
      "bdb36bf9-ad8f-448e-be4b-d6bcba565d1c": {
       "attrs": {
        "height": 0.8,
        "width": 0.8,
        "x": 0.1,
        "y": 0.1
       },
       "content": {
        "cell": "9fc0bc69-96ff-495d-acb8-2330ecbb33b2",
        "part": "whole"
       },
       "id": "bdb36bf9-ad8f-448e-be4b-d6bcba565d1c"
      }
     }
    },
    "08228307-86a9-4ecf-b684-3501f466d93c": {
     "id": "08228307-86a9-4ecf-b684-3501f466d93c",
     "prev": "c506fd70-5dd7-4790-8ec6-0a51aced25ef",
     "regions": {
      "0a7092c4-1c8a-4afe-a9ef-42cb30871fe6": {
       "attrs": {
        "height": 0.8,
        "width": 0.8,
        "x": 0.1,
        "y": 0.1
       },
       "content": {
        "cell": "13362ebc-13fc-42f3-95dc-68108329f623",
        "part": "whole"
       },
       "id": "0a7092c4-1c8a-4afe-a9ef-42cb30871fe6"
      }
     }
    },
    "0a3e261b-15eb-4b1c-8e49-04e0e22f476e": {
     "id": "0a3e261b-15eb-4b1c-8e49-04e0e22f476e",
     "prev": "5bec4098-68a0-44ff-bb13-fb03d67f534a",
     "regions": {
      "1eaf1540-d84d-4913-8550-4a3cc8b22744": {
       "attrs": {
        "height": 0.8,
        "width": 0.8,
        "x": 0.1,
        "y": 0.1
       },
       "content": {
        "cell": "4fcb8a6e-a895-480b-93b5-5f3af3fa818e",
        "part": "whole"
       },
       "id": "1eaf1540-d84d-4913-8550-4a3cc8b22744"
      }
     }
    },
    "0ec1b712-4435-40d7-a187-9aa7d6b1a3a0": {
     "id": "0ec1b712-4435-40d7-a187-9aa7d6b1a3a0",
     "prev": "ae6fedc1-9842-4db2-b002-ea0481a038f3",
     "regions": {
      "4ac01eec-a9fa-4afd-b00d-dd86cbf009fd": {
       "attrs": {
        "height": 0.8,
        "width": 0.8,
        "x": 0.1,
        "y": 0.1
       },
       "content": {
        "cell": "59f8c865-3a38-4ea8-b8ef-97f6932093c7",
        "part": "whole"
       },
       "id": "4ac01eec-a9fa-4afd-b00d-dd86cbf009fd"
      }
     }
    },
    "10562217-e517-4d89-8ddd-eef098516803": {
     "id": "10562217-e517-4d89-8ddd-eef098516803",
     "prev": "ea646fc0-23e9-4f5b-aded-a2b84d741c18",
     "regions": {
      "9c476eae-80cf-4c5f-8fb6-f5209ced7a5c": {
       "attrs": {
        "height": 0.8,
        "width": 0.8,
        "x": 0.1,
        "y": 0.1
       },
       "content": {
        "cell": "a42c18d9-a7c0-4611-89ef-613ffa3fc2d1",
        "part": "whole"
       },
       "id": "9c476eae-80cf-4c5f-8fb6-f5209ced7a5c"
      }
     }
    },
    "14b5f689-efe8-41c4-9e6b-96a3276718c9": {
     "id": "14b5f689-efe8-41c4-9e6b-96a3276718c9",
     "prev": "dbf1c967-7531-4ef2-9e2a-9d099972e1a8",
     "regions": {
      "30f5db67-a5a3-44f9-abb6-5d28a446ef60": {
       "attrs": {
        "height": 0.8,
        "width": 0.8,
        "x": 0.1,
        "y": 0.1
       },
       "content": {
        "cell": "951b06db-5973-4896-9f57-0b0135406666",
        "part": "whole"
       },
       "id": "30f5db67-a5a3-44f9-abb6-5d28a446ef60"
      }
     }
    },
    "18746f89-1e72-4bd6-a88f-3412f09d569d": {
     "id": "18746f89-1e72-4bd6-a88f-3412f09d569d",
     "prev": "ca2ab7aa-f16d-459b-8afa-8fa89768cdcb",
     "regions": {
      "7d0a682a-4124-43d2-a00e-959b1d512210": {
       "attrs": {
        "height": 0.8,
        "width": 0.8,
        "x": 0.1,
        "y": 0.1
       },
       "content": {
        "cell": "b042bbdd-a083-464c-adbb-93039b30cdc0",
        "part": "whole"
       },
       "id": "7d0a682a-4124-43d2-a00e-959b1d512210"
      }
     }
    },
    "22ca8ea1-63ec-423c-8450-7c5d3d9e392f": {
     "id": "22ca8ea1-63ec-423c-8450-7c5d3d9e392f",
     "prev": "e131604f-1ad1-4021-98a2-ba476b1eaf4a",
     "regions": {
      "db80fe0f-4709-443b-a454-b82c59d5d0af": {
       "attrs": {
        "height": 0.8,
        "width": 0.8,
        "x": 0.1,
        "y": 0.1
       },
       "content": {
        "cell": "190f09cd-29db-49f6-a01d-9d3aed87594a",
        "part": "whole"
       },
       "id": "db80fe0f-4709-443b-a454-b82c59d5d0af"
      }
     }
    },
    "25f73316-ab40-4dc5-84ff-92c69eb17029": {
     "id": "25f73316-ab40-4dc5-84ff-92c69eb17029",
     "prev": "5f34d672-850c-48cf-999b-10698e721b6e",
     "regions": {
      "77f4d635-83e2-4894-8695-fab96c89b507": {
       "attrs": {
        "height": 0.8,
        "width": 0.8,
        "x": 0.1,
        "y": 0.1
       },
       "content": {
        "cell": "799ca8cc-1e15-4bbc-bc8c-15bd5793f012",
        "part": "whole"
       },
       "id": "77f4d635-83e2-4894-8695-fab96c89b507"
      }
     }
    },
    "2bbeb7d9-ae99-4a1f-b3be-2fa6cc4b5b76": {
     "id": "2bbeb7d9-ae99-4a1f-b3be-2fa6cc4b5b76",
     "prev": "c2969125-e19c-4339-95b4-e6360a7296f3",
     "regions": {
      "a7b92ddd-d9a5-47a9-822e-5bf350bc4c55": {
       "attrs": {
        "height": 0.8,
        "width": 0.8,
        "x": 0.1,
        "y": 0.1
       },
       "content": {
        "cell": "a794434c-9cc1-4139-ae4b-86caa341451c",
        "part": "whole"
       },
       "id": "a7b92ddd-d9a5-47a9-822e-5bf350bc4c55"
      }
     }
    },
    "2eea0d3c-a0d6-4acc-868e-96786b1a5d24": {
     "id": "2eea0d3c-a0d6-4acc-868e-96786b1a5d24",
     "prev": "f8e1bd6d-b010-4258-94e6-7daf3f7cdd72",
     "regions": {
      "c196c4fa-ce47-4764-b06e-533da5172f06": {
       "attrs": {
        "height": 0.8,
        "width": 0.8,
        "x": 0.1,
        "y": 0.1
       },
       "content": {
        "cell": "7212bec3-ff51-4bd2-a479-ff26a57f03e2",
        "part": "whole"
       },
       "id": "c196c4fa-ce47-4764-b06e-533da5172f06"
      }
     }
    },
    "3146b407-3d0f-4d23-a15b-f7eef352b290": {
     "id": "3146b407-3d0f-4d23-a15b-f7eef352b290",
     "prev": "342fa6b0-3b75-468c-a240-dbb699728aba",
     "regions": {
      "76393509-7540-4b88-beb7-2f2382f7ce77": {
       "attrs": {
        "height": 0.8,
        "width": 0.8,
        "x": 0.1,
        "y": 0.1
       },
       "content": {
        "cell": "04daf8bb-5d33-4ec6-b2f0-921dd4d2f965",
        "part": "whole"
       },
       "id": "76393509-7540-4b88-beb7-2f2382f7ce77"
      }
     }
    },
    "329767a4-8678-46f9-8c8d-160578e9f57a": {
     "id": "329767a4-8678-46f9-8c8d-160578e9f57a",
     "prev": "7b5da038-634b-4654-b6ae-c6d1a4e5d64f",
     "regions": {
      "4961ce61-7441-4a2a-8386-cee2f6ebea8a": {
       "attrs": {
        "height": 0.8,
        "width": 0.8,
        "x": 0.1,
        "y": 0.1
       },
       "content": {
        "cell": "08d68454-9cd8-43c1-9fd5-45998e8e8b9d",
        "part": "whole"
       },
       "id": "4961ce61-7441-4a2a-8386-cee2f6ebea8a"
      }
     }
    },
    "3397f762-90a6-4d66-b818-0c80c3475b34": {
     "id": "3397f762-90a6-4d66-b818-0c80c3475b34",
     "prev": "0ec1b712-4435-40d7-a187-9aa7d6b1a3a0",
     "regions": {
      "74c9f726-41ae-4272-b9ca-f713f193646b": {
       "attrs": {
        "height": 0.8,
        "width": 0.8,
        "x": 0.1,
        "y": 0.1
       },
       "content": {
        "cell": "2776384d-94e5-467a-bb12-e33d3319448a",
        "part": "whole"
       },
       "id": "74c9f726-41ae-4272-b9ca-f713f193646b"
      }
     }
    },
    "33be72c1-8256-47fb-ad40-fa870d725630": {
     "id": "33be72c1-8256-47fb-ad40-fa870d725630",
     "prev": "8a86b84c-2fb7-4cb5-9aff-f04314df8c39",
     "regions": {
      "28b2751b-3fa4-4515-ac48-d5b129c9585b": {
       "attrs": {
        "height": 0.8,
        "width": 0.8,
        "x": 0.1,
        "y": 0.1
       },
       "content": {
        "cell": "0f8ccc0c-be31-4dd3-a4f3-51834b5a880f",
        "part": "whole"
       },
       "id": "28b2751b-3fa4-4515-ac48-d5b129c9585b"
      }
     }
    },
    "341700fa-c521-4f37-9546-cd57dee530e1": {
     "id": "341700fa-c521-4f37-9546-cd57dee530e1",
     "prev": "d080ce8f-edd7-4139-9b95-f54713d9bdf4",
     "regions": {
      "83b9342e-6e09-423f-b36e-ea121505624d": {
       "attrs": {
        "height": 0.8,
        "width": 0.8,
        "x": 0.1,
        "y": 0.1
       },
       "content": {
        "cell": "022826a1-119e-4dc2-976f-260c0be6a6e1",
        "part": "whole"
       },
       "id": "83b9342e-6e09-423f-b36e-ea121505624d"
      }
     }
    },
    "342fa6b0-3b75-468c-a240-dbb699728aba": {
     "id": "342fa6b0-3b75-468c-a240-dbb699728aba",
     "prev": "0a3e261b-15eb-4b1c-8e49-04e0e22f476e",
     "regions": {
      "c68ec883-ad22-4882-946e-b8377bfada85": {
       "attrs": {
        "height": 0.8,
        "width": 0.8,
        "x": 0.1,
        "y": 0.1
       },
       "content": {
        "cell": "e49af0b4-9b62-4144-bbea-a5550edc2620",
        "part": "whole"
       },
       "id": "c68ec883-ad22-4882-946e-b8377bfada85"
      }
     }
    },
    "3afaf558-4ea1-4312-8681-8c2268d57a27": {
     "id": "3afaf558-4ea1-4312-8681-8c2268d57a27",
     "prev": "46fe1d05-379e-4180-a53e-a773b08b3d07",
     "regions": {
      "06d9dec1-5dda-4b55-98c8-701a10bd7d80": {
       "attrs": {
        "height": 0.8,
        "width": 0.8,
        "x": 0.1,
        "y": 0.1
       },
       "content": {
        "cell": "f1d2c0a2-2e02-48e1-9c37-57ea1db4d19b",
        "part": "whole"
       },
       "id": "06d9dec1-5dda-4b55-98c8-701a10bd7d80"
      }
     }
    },
    "42487605-ecb7-4ad8-9629-c2f36d818bcb": {
     "id": "42487605-ecb7-4ad8-9629-c2f36d818bcb",
     "prev": null,
     "regions": {
      "44eb4aa8-bc50-42c8-87e8-143b775fc4d6": {
       "attrs": {
        "height": 0.8,
        "width": 0.8,
        "x": 0.1,
        "y": 0.1
       },
       "content": {
        "cell": "bf4b2f87-b60d-43c8-afca-e6adae1c368b",
        "part": "whole"
       },
       "id": "44eb4aa8-bc50-42c8-87e8-143b775fc4d6"
      }
     },
     "theme": null
    },
    "4256d0ca-11d9-4999-ba34-a05860cd0f26": {
     "id": "4256d0ca-11d9-4999-ba34-a05860cd0f26",
     "prev": "341700fa-c521-4f37-9546-cd57dee530e1",
     "regions": {
      "bf59020a-16ab-41e8-b71c-bb5422a79c37": {
       "attrs": {
        "height": 0.8,
        "width": 0.8,
        "x": 0.1,
        "y": 0.1
       },
       "content": {
        "cell": "8cb1f260-a81e-4313-b7a7-134b81b08084",
        "part": "whole"
       },
       "id": "bf59020a-16ab-41e8-b71c-bb5422a79c37"
      }
     }
    },
    "449a75c4-8096-425a-844d-ce3a9355cbe2": {
     "id": "449a75c4-8096-425a-844d-ce3a9355cbe2",
     "prev": "18746f89-1e72-4bd6-a88f-3412f09d569d",
     "regions": {
      "da8c5d1f-27af-49ca-acca-4d85380dd889": {
       "attrs": {
        "height": 0.8,
        "width": 0.8,
        "x": 0.1,
        "y": 0.1
       },
       "content": {
        "cell": "901642b8-13c7-49c1-8450-e19da784d99b",
        "part": "whole"
       },
       "id": "da8c5d1f-27af-49ca-acca-4d85380dd889"
      }
     }
    },
    "46fe1d05-379e-4180-a53e-a773b08b3d07": {
     "id": "46fe1d05-379e-4180-a53e-a773b08b3d07",
     "prev": "7ae2fcbc-fd6e-4bc7-99c3-ec56c6bfc965",
     "regions": {
      "8a18739e-ac4b-4010-a142-12766da9dc8c": {
       "attrs": {
        "height": 0.8,
        "width": 0.8,
        "x": 0.1,
        "y": 0.1
       },
       "content": {
        "cell": "82a691b5-2268-4782-90ab-5b369247a243",
        "part": "whole"
       },
       "id": "8a18739e-ac4b-4010-a142-12766da9dc8c"
      }
     }
    },
    "4eaf22eb-0a0b-4a02-bafd-cf6fc6d38a76": {
     "id": "4eaf22eb-0a0b-4a02-bafd-cf6fc6d38a76",
     "prev": "22ca8ea1-63ec-423c-8450-7c5d3d9e392f",
     "regions": {
      "ad1bac05-7224-477b-af5d-d08d8f56f321": {
       "attrs": {
        "height": 0.8,
        "width": 0.8,
        "x": 0.1,
        "y": 0.1
       },
       "content": {
        "cell": "aa8f84ec-25d8-4426-809b-56fdff68d6df",
        "part": "whole"
       },
       "id": "ad1bac05-7224-477b-af5d-d08d8f56f321"
      }
     }
    },
    "550ec34d-759e-412c-837f-dd119718493a": {
     "id": "550ec34d-759e-412c-837f-dd119718493a",
     "prev": "00839e6a-cdf6-446f-b95b-3f0991457483",
     "regions": {
      "69a795c4-35b5-4ab7-970b-bc3b2dc7df2a": {
       "attrs": {
        "height": 0.8,
        "width": 0.8,
        "x": 0.1,
        "y": 0.1
       },
       "content": {
        "cell": "7bd53c1a-6f27-4dfd-bcbd-dd8b1136b41e",
        "part": "whole"
       },
       "id": "69a795c4-35b5-4ab7-970b-bc3b2dc7df2a"
      }
     }
    },
    "5bec4098-68a0-44ff-bb13-fb03d67f534a": {
     "id": "5bec4098-68a0-44ff-bb13-fb03d67f534a",
     "prev": "d3594f37-cdd4-4baf-85fd-dc9e3dbbde83",
     "regions": {
      "49da85b6-76e6-4e20-9e84-ad7ed6710615": {
       "attrs": {
        "height": 0.8,
        "width": 0.8,
        "x": 0.1,
        "y": 0.1
       },
       "content": {
        "cell": "7aae6130-3cf5-4ad0-934f-4a26930f2597",
        "part": "whole"
       },
       "id": "49da85b6-76e6-4e20-9e84-ad7ed6710615"
      }
     }
    },
    "5f34d672-850c-48cf-999b-10698e721b6e": {
     "id": "5f34d672-850c-48cf-999b-10698e721b6e",
     "prev": "9434fabb-4b80-4570-921a-c3b99520e4aa",
     "regions": {
      "43c44f22-0f02-4a17-84b2-32fb1aea5460": {
       "attrs": {
        "height": 0.8,
        "width": 0.8,
        "x": 0.1,
        "y": 0.1
       },
       "content": {
        "cell": "78536214-adf2-4080-ab7d-c0b7804e58e0",
        "part": "whole"
       },
       "id": "43c44f22-0f02-4a17-84b2-32fb1aea5460"
      }
     }
    },
    "61aba61b-e239-4e64-9e6e-f64407eb7b6a": {
     "id": "61aba61b-e239-4e64-9e6e-f64407eb7b6a",
     "prev": "684b752c-47a9-4e2b-b24a-3412ec60f169",
     "regions": {
      "b624a119-d54e-47c9-80ad-dd5e468b0cdd": {
       "attrs": {
        "height": 0.8,
        "width": 0.8,
        "x": 0.1,
        "y": 0.1
       },
       "content": {
        "cell": "bf5fd755-1a8c-482e-8752-3d1339f5fde6",
        "part": "whole"
       },
       "id": "b624a119-d54e-47c9-80ad-dd5e468b0cdd"
      }
     }
    },
    "61b105df-80a3-46db-b023-e50a33269b6b": {
     "id": "61b105df-80a3-46db-b023-e50a33269b6b",
     "prev": "10562217-e517-4d89-8ddd-eef098516803",
     "regions": {
      "45b5af87-64b0-4598-8cf6-94572ed95488": {
       "attrs": {
        "height": 0.8,
        "width": 0.8,
        "x": 0.1,
        "y": 0.1
       },
       "content": {
        "cell": "f1c04149-c30a-45f2-b4f5-0f4050c0e061",
        "part": "whole"
       },
       "id": "45b5af87-64b0-4598-8cf6-94572ed95488"
      }
     }
    },
    "6613725f-4013-41d2-9075-de9b9d61167e": {
     "id": "6613725f-4013-41d2-9075-de9b9d61167e",
     "prev": "61b105df-80a3-46db-b023-e50a33269b6b",
     "regions": {
      "be8bbedc-a9f6-4adf-bdb7-e5970f1bac18": {
       "attrs": {
        "height": 0.8,
        "width": 0.8,
        "x": 0.1,
        "y": 0.1
       },
       "content": {
        "cell": "61e79922-544e-4fd6-877d-ed42048adc6b",
        "part": "whole"
       },
       "id": "be8bbedc-a9f6-4adf-bdb7-e5970f1bac18"
      }
     }
    },
    "67622f52-26d1-49fc-b21e-a3aca90ad759": {
     "id": "67622f52-26d1-49fc-b21e-a3aca90ad759",
     "prev": "6c193e09-5f3f-45e5-b30e-47a7e01a5757",
     "regions": {
      "3e1f5fca-f2db-4847-8d26-4a4e4304f47e": {
       "attrs": {
        "height": 0.8,
        "width": 0.8,
        "x": 0.1,
        "y": 0.1
       },
       "content": {
        "cell": "fbb11143-89b6-482a-a40c-23120130b6e0",
        "part": "whole"
       },
       "id": "3e1f5fca-f2db-4847-8d26-4a4e4304f47e"
      }
     }
    },
    "683dc7bd-3059-4849-99b2-a1666c87abdd": {
     "id": "683dc7bd-3059-4849-99b2-a1666c87abdd",
     "prev": "2eea0d3c-a0d6-4acc-868e-96786b1a5d24",
     "regions": {
      "bbb4f537-37f4-4884-b893-d00f2ab6ceaf": {
       "attrs": {
        "height": 0.8,
        "width": 0.8,
        "x": 0.1,
        "y": 0.1
       },
       "content": {
        "cell": "a91b8626-eecc-47af-b0b4-615a3c319f86",
        "part": "whole"
       },
       "id": "bbb4f537-37f4-4884-b893-d00f2ab6ceaf"
      }
     }
    },
    "684b752c-47a9-4e2b-b24a-3412ec60f169": {
     "id": "684b752c-47a9-4e2b-b24a-3412ec60f169",
     "prev": "884c76cf-1f12-4ef3-b00d-2d2429e5627c",
     "regions": {
      "7dee0c00-7dfb-4114-9881-256859780629": {
       "attrs": {
        "height": 0.8,
        "width": 0.8,
        "x": 0.1,
        "y": 0.1
       },
       "content": {
        "cell": "2618bf18-db06-4138-a0a0-9877409f4f3f",
        "part": "whole"
       },
       "id": "7dee0c00-7dfb-4114-9881-256859780629"
      }
     }
    },
    "6c193e09-5f3f-45e5-b30e-47a7e01a5757": {
     "id": "6c193e09-5f3f-45e5-b30e-47a7e01a5757",
     "prev": "14b5f689-efe8-41c4-9e6b-96a3276718c9",
     "regions": {
      "e0113181-693f-4cce-ae04-be0d7e347265": {
       "attrs": {
        "height": 0.8,
        "width": 0.8,
        "x": 0.1,
        "y": 0.1
       },
       "content": {
        "cell": "8442ac19-7038-4a69-ad63-5b826c28af09",
        "part": "whole"
       },
       "id": "e0113181-693f-4cce-ae04-be0d7e347265"
      }
     }
    },
    "7ae2fcbc-fd6e-4bc7-99c3-ec56c6bfc965": {
     "id": "7ae2fcbc-fd6e-4bc7-99c3-ec56c6bfc965",
     "prev": "449a75c4-8096-425a-844d-ce3a9355cbe2",
     "regions": {
      "e5a672a7-21c3-4eab-a17c-9b05311a312f": {
       "attrs": {
        "height": 0.8,
        "width": 0.8,
        "x": 0.1,
        "y": 0.1
       },
       "content": {
        "cell": "bd66c4f8-d30a-4f6e-b151-81c27f107a84",
        "part": "whole"
       },
       "id": "e5a672a7-21c3-4eab-a17c-9b05311a312f"
      }
     }
    },
    "7b5da038-634b-4654-b6ae-c6d1a4e5d64f": {
     "id": "7b5da038-634b-4654-b6ae-c6d1a4e5d64f",
     "prev": "ff622420-9196-488c-9b5a-20570bb5e822",
     "regions": {
      "2c73d844-989f-45e0-ad24-0680758183cc": {
       "attrs": {
        "height": 0.8,
        "width": 0.8,
        "x": 0.1,
        "y": 0.1
       },
       "content": {
        "cell": "a20d14aa-dbbe-40da-af94-2ff628ce3ca9",
        "part": "whole"
       },
       "id": "2c73d844-989f-45e0-ad24-0680758183cc"
      }
     }
    },
    "7db315c0-f728-4ae4-a3f0-77ba0f6a1d1a": {
     "id": "7db315c0-f728-4ae4-a3f0-77ba0f6a1d1a",
     "prev": "42487605-ecb7-4ad8-9629-c2f36d818bcb",
     "regions": {
      "c2dd3f26-a23e-4b21-b66a-31db1976048e": {
       "attrs": {
        "height": 0.8,
        "width": 0.8,
        "x": 0.1,
        "y": 0.1
       },
       "content": {
        "cell": "13f658bc-f031-4518-a0f0-3412f2f03a06",
        "part": "whole"
       },
       "id": "c2dd3f26-a23e-4b21-b66a-31db1976048e"
      }
     }
    },
    "81ac40ad-9bbd-4b5d-9a67-66608cbb00ab": {
     "id": "81ac40ad-9bbd-4b5d-9a67-66608cbb00ab",
     "prev": "3146b407-3d0f-4d23-a15b-f7eef352b290",
     "regions": {
      "ebcb4e5f-373b-4227-bb69-0e6fa70502af": {
       "attrs": {
        "height": 0.8,
        "width": 0.8,
        "x": 0.1,
        "y": 0.1
       },
       "content": {
        "cell": "f5359bcc-334b-4b60-8a47-a04a444b9b67",
        "part": "whole"
       },
       "id": "ebcb4e5f-373b-4227-bb69-0e6fa70502af"
      }
     }
    },
    "884c76cf-1f12-4ef3-b00d-2d2429e5627c": {
     "id": "884c76cf-1f12-4ef3-b00d-2d2429e5627c",
     "prev": "33be72c1-8256-47fb-ad40-fa870d725630",
     "regions": {
      "c7c9510d-6c4e-44aa-b4cf-071596000042": {
       "attrs": {
        "height": 0.8,
        "width": 0.8,
        "x": 0.1,
        "y": 0.1
       },
       "content": {
        "cell": "ac469e6c-9e53-40ec-bff6-4287a6d834d0",
        "part": "whole"
       },
       "id": "c7c9510d-6c4e-44aa-b4cf-071596000042"
      }
     }
    },
    "8a86b84c-2fb7-4cb5-9aff-f04314df8c39": {
     "id": "8a86b84c-2fb7-4cb5-9aff-f04314df8c39",
     "prev": "046ba55b-443b-4df5-ae0c-4798c2c63b3b",
     "regions": {
      "184ccc6d-748b-4888-8dff-4ddace3e4d55": {
       "attrs": {
        "height": 0.8,
        "width": 0.8,
        "x": 0.1,
        "y": 0.1
       },
       "content": {
        "cell": "bc6b41c9-ab6c-4fa9-a366-79e8f976f276",
        "part": "whole"
       },
       "id": "184ccc6d-748b-4888-8dff-4ddace3e4d55"
      }
     }
    },
    "9434fabb-4b80-4570-921a-c3b99520e4aa": {
     "id": "9434fabb-4b80-4570-921a-c3b99520e4aa",
     "prev": "4256d0ca-11d9-4999-ba34-a05860cd0f26",
     "regions": {
      "8fb1e82f-bb08-49cd-b9ef-1fd230917a72": {
       "attrs": {
        "height": 0.8,
        "width": 0.8,
        "x": 0.1,
        "y": 0.1
       },
       "content": {
        "cell": "0cd157b4-3bf1-4a28-bae4-2f82c5832364",
        "part": "whole"
       },
       "id": "8fb1e82f-bb08-49cd-b9ef-1fd230917a72"
      }
     }
    },
    "976b1a2b-c966-4eb7-80c8-0e540e902aba": {
     "id": "976b1a2b-c966-4eb7-80c8-0e540e902aba",
     "prev": "cae59e85-f013-4125-a8ad-a18b826b6b8c",
     "regions": {
      "885793cc-08ca-4eaf-adea-315b96331542": {
       "attrs": {
        "height": 0.8,
        "width": 0.8,
        "x": 0.1,
        "y": 0.1
       },
       "content": {
        "cell": "d80559ca-a957-4b82-9b08-ed79e4ad5a0e",
        "part": "whole"
       },
       "id": "885793cc-08ca-4eaf-adea-315b96331542"
      }
     }
    },
    "9b2bcea2-c1d7-4227-94fe-e02e146c3346": {
     "id": "9b2bcea2-c1d7-4227-94fe-e02e146c3346",
     "prev": "a218d3ec-7d8c-455f-9399-a507cc758a81",
     "regions": {
      "8d227319-01a6-40c5-9a90-7a03a4cc00f9": {
       "attrs": {
        "height": 0.8,
        "width": 0.8,
        "x": 0.1,
        "y": 0.1
       },
       "content": {
        "cell": "b49ea354-8394-45be-a14c-77b793fe6738",
        "part": "whole"
       },
       "id": "8d227319-01a6-40c5-9a90-7a03a4cc00f9"
      }
     }
    },
    "a218d3ec-7d8c-455f-9399-a507cc758a81": {
     "id": "a218d3ec-7d8c-455f-9399-a507cc758a81",
     "prev": "b40767a2-ca7a-4d63-8859-f8fe076b93ff",
     "regions": {
      "5d3ade19-21cd-4ef6-aeac-3edf554466ca": {
       "attrs": {
        "height": 0.8,
        "width": 0.8,
        "x": 0.1,
        "y": 0.1
       },
       "content": {
        "cell": "3269e930-5140-4c7e-ae03-9308ec35757e",
        "part": "whole"
       },
       "id": "5d3ade19-21cd-4ef6-aeac-3edf554466ca"
      }
     }
    },
    "a23b202b-df02-4586-991d-4be8b2dcb765": {
     "id": "a23b202b-df02-4586-991d-4be8b2dcb765",
     "prev": "81ac40ad-9bbd-4b5d-9a67-66608cbb00ab",
     "regions": {
      "9945616b-ac15-49ec-bff5-ac46a93e8040": {
       "attrs": {
        "height": 0.8,
        "width": 0.8,
        "x": 0.1,
        "y": 0.1
       },
       "content": {
        "cell": "bc442482-96fb-44b2-bbab-aae66f257e0d",
        "part": "whole"
       },
       "id": "9945616b-ac15-49ec-bff5-ac46a93e8040"
      }
     }
    },
    "ae6fedc1-9842-4db2-b002-ea0481a038f3": {
     "id": "ae6fedc1-9842-4db2-b002-ea0481a038f3",
     "prev": "2bbeb7d9-ae99-4a1f-b3be-2fa6cc4b5b76",
     "regions": {
      "8497279a-55f8-4073-b9ad-db02ae9f9fc3": {
       "attrs": {
        "height": 0.8,
        "width": 0.8,
        "x": 0.1,
        "y": 0.1
       },
       "content": {
        "cell": "860e75f8-06cf-4132-9e43-5291935e350e",
        "part": "whole"
       },
       "id": "8497279a-55f8-4073-b9ad-db02ae9f9fc3"
      }
     }
    },
    "b40767a2-ca7a-4d63-8859-f8fe076b93ff": {
     "id": "b40767a2-ca7a-4d63-8859-f8fe076b93ff",
     "prev": "550ec34d-759e-412c-837f-dd119718493a",
     "regions": {
      "db1db29f-5c85-49b9-ab25-dc3cd0435059": {
       "attrs": {
        "height": 0.8,
        "width": 0.8,
        "x": 0.1,
        "y": 0.1
       },
       "content": {
        "cell": "3bfbfb06-426c-4416-860e-8e4e23b89016",
        "part": "whole"
       },
       "id": "db1db29f-5c85-49b9-ab25-dc3cd0435059"
      }
     }
    },
    "c2969125-e19c-4339-95b4-e6360a7296f3": {
     "id": "c2969125-e19c-4339-95b4-e6360a7296f3",
     "prev": "08228307-86a9-4ecf-b684-3501f466d93c",
     "regions": {
      "4fa44edf-1d0b-421f-ac6b-019319675506": {
       "attrs": {
        "height": 0.8,
        "width": 0.8,
        "x": 0.1,
        "y": 0.1
       },
       "content": {
        "cell": "c8ffa3ce-1b67-4c74-9426-022dbfeefa41",
        "part": "whole"
       },
       "id": "4fa44edf-1d0b-421f-ac6b-019319675506"
      }
     }
    },
    "c506fd70-5dd7-4790-8ec6-0a51aced25ef": {
     "id": "c506fd70-5dd7-4790-8ec6-0a51aced25ef",
     "prev": "3afaf558-4ea1-4312-8681-8c2268d57a27",
     "regions": {
      "c705a87e-08a8-43bc-8b82-b2743674cf0e": {
       "attrs": {
        "height": 0.8,
        "width": 0.8,
        "x": 0.1,
        "y": 0.1
       },
       "content": {
        "cell": "9ae1a823-a109-4026-a3ef-d579bcdfa01b",
        "part": "whole"
       },
       "id": "c705a87e-08a8-43bc-8b82-b2743674cf0e"
      }
     }
    },
    "ca2ab7aa-f16d-459b-8afa-8fa89768cdcb": {
     "id": "ca2ab7aa-f16d-459b-8afa-8fa89768cdcb",
     "prev": "9b2bcea2-c1d7-4227-94fe-e02e146c3346",
     "regions": {
      "0552c481-dbc6-4035-9606-6366393c5a36": {
       "attrs": {
        "height": 0.8,
        "width": 0.8,
        "x": 0.1,
        "y": 0.1
       },
       "content": {
        "cell": "785ebb2b-1422-4c9d-8086-940e42391db2",
        "part": "whole"
       },
       "id": "0552c481-dbc6-4035-9606-6366393c5a36"
      }
     }
    },
    "cae59e85-f013-4125-a8ad-a18b826b6b8c": {
     "id": "cae59e85-f013-4125-a8ad-a18b826b6b8c",
     "prev": "e14e5ce3-9025-496f-ab4d-b7961d693233",
     "regions": {
      "354d6df0-964c-45c7-910f-bf9b727383fd": {
       "attrs": {
        "height": 0.8,
        "width": 0.8,
        "x": 0.1,
        "y": 0.1
       },
       "content": {
        "cell": "ae179b57-d6df-4883-864d-a3c3afcdb622",
        "part": "whole"
       },
       "id": "354d6df0-964c-45c7-910f-bf9b727383fd"
      }
     }
    },
    "d080ce8f-edd7-4139-9b95-f54713d9bdf4": {
     "id": "d080ce8f-edd7-4139-9b95-f54713d9bdf4",
     "prev": "4eaf22eb-0a0b-4a02-bafd-cf6fc6d38a76",
     "regions": {
      "9fa597e1-c636-4e04-90e7-a4432aff5ade": {
       "attrs": {
        "height": 0.8,
        "width": 0.8,
        "x": 0.1,
        "y": 0.1
       },
       "content": {
        "cell": "036a88ec-2e92-4e52-87c9-ba3b14be5421",
        "part": "whole"
       },
       "id": "9fa597e1-c636-4e04-90e7-a4432aff5ade"
      }
     }
    },
    "d3594f37-cdd4-4baf-85fd-dc9e3dbbde83": {
     "id": "d3594f37-cdd4-4baf-85fd-dc9e3dbbde83",
     "prev": "6613725f-4013-41d2-9075-de9b9d61167e",
     "regions": {
      "107747f2-3018-42f1-9497-76029a5438b9": {
       "attrs": {
        "height": 0.8,
        "width": 0.8,
        "x": 0.1,
        "y": 0.1
       },
       "content": {
        "cell": "2081d5b8-0954-4bc0-a1c7-8785558c83e0",
        "part": "whole"
       },
       "id": "107747f2-3018-42f1-9497-76029a5438b9"
      }
     }
    },
    "dbf1c967-7531-4ef2-9e2a-9d099972e1a8": {
     "id": "dbf1c967-7531-4ef2-9e2a-9d099972e1a8",
     "prev": "683dc7bd-3059-4849-99b2-a1666c87abdd",
     "regions": {
      "e8275ee0-17af-40aa-a67b-5fe46f1d6192": {
       "attrs": {
        "height": 0.8,
        "width": 0.8,
        "x": 0.1,
        "y": 0.1
       },
       "content": {
        "cell": "7037181e-0533-4f4e-b7e1-683876ff739a",
        "part": "whole"
       },
       "id": "e8275ee0-17af-40aa-a67b-5fe46f1d6192"
      }
     }
    },
    "e131604f-1ad1-4021-98a2-ba476b1eaf4a": {
     "id": "e131604f-1ad1-4021-98a2-ba476b1eaf4a",
     "prev": "a23b202b-df02-4586-991d-4be8b2dcb765",
     "regions": {
      "9000c7b9-fe1a-48b1-a522-a54339fbb50e": {
       "attrs": {
        "height": 0.8,
        "width": 0.8,
        "x": 0.1,
        "y": 0.1
       },
       "content": {
        "cell": "6cfe9f59-09f5-486f-a054-ff9ccb58698f",
        "part": "whole"
       },
       "id": "9000c7b9-fe1a-48b1-a522-a54339fbb50e"
      }
     }
    },
    "e14e5ce3-9025-496f-ab4d-b7961d693233": {
     "id": "e14e5ce3-9025-496f-ab4d-b7961d693233",
     "prev": "329767a4-8678-46f9-8c8d-160578e9f57a",
     "regions": {
      "86f9df22-7f29-42ce-8bd9-4276901d162c": {
       "attrs": {
        "height": 0.8,
        "width": 0.8,
        "x": 0.1,
        "y": 0.1
       },
       "content": {
        "cell": "08e60496-b9cb-4d65-9910-cb4e2f7c1888",
        "part": "whole"
       },
       "id": "86f9df22-7f29-42ce-8bd9-4276901d162c"
      }
     }
    },
    "e847d0aa-1a1b-44c3-8b2d-464c6c8cb8f3": {
     "id": "e847d0aa-1a1b-44c3-8b2d-464c6c8cb8f3",
     "prev": "7db315c0-f728-4ae4-a3f0-77ba0f6a1d1a",
     "regions": {
      "1cbacdd6-e9ec-4ca6-a471-d2bc059e14ef": {
       "attrs": {
        "height": 0.8,
        "width": 0.8,
        "x": 0.1,
        "y": 0.1
       },
       "content": {
        "cell": "90e8a1bb-df84-4b67-80a5-0c7d5d9c5324",
        "part": "whole"
       },
       "id": "1cbacdd6-e9ec-4ca6-a471-d2bc059e14ef"
      }
     }
    },
    "ea646fc0-23e9-4f5b-aded-a2b84d741c18": {
     "id": "ea646fc0-23e9-4f5b-aded-a2b84d741c18",
     "prev": "3397f762-90a6-4d66-b818-0c80c3475b34",
     "regions": {
      "cd025077-7380-40d5-b393-af36566ce171": {
       "attrs": {
        "height": 0.8,
        "width": 0.8,
        "x": 0.1,
        "y": 0.1
       },
       "content": {
        "cell": "feed1233-9678-48ca-bd8b-ae42888f76bf",
        "part": "whole"
       },
       "id": "cd025077-7380-40d5-b393-af36566ce171"
      }
     }
    },
    "f8e1bd6d-b010-4258-94e6-7daf3f7cdd72": {
     "id": "f8e1bd6d-b010-4258-94e6-7daf3f7cdd72",
     "prev": "e847d0aa-1a1b-44c3-8b2d-464c6c8cb8f3",
     "regions": {
      "8db22827-1b31-4dfd-8be5-6c6b5f051020": {
       "attrs": {
        "height": 0.8,
        "width": 0.8,
        "x": 0.1,
        "y": 0.1
       },
       "content": {
        "cell": "16c23815-5d8d-40ab-8405-b6998e233212",
        "part": "whole"
       },
       "id": "8db22827-1b31-4dfd-8be5-6c6b5f051020"
      }
     }
    },
    "ff622420-9196-488c-9b5a-20570bb5e822": {
     "id": "ff622420-9196-488c-9b5a-20570bb5e822",
     "prev": "61aba61b-e239-4e64-9e6e-f64407eb7b6a",
     "regions": {
      "f055d5c8-80c5-48b9-9480-b30744cc88eb": {
       "attrs": {
        "height": 0.8,
        "width": 0.8,
        "x": 0.1,
        "y": 0.1
       },
       "content": {
        "cell": "48289e1e-6687-48db-828b-00a87bbaae53",
        "part": "whole"
       },
       "id": "f055d5c8-80c5-48b9-9480-b30744cc88eb"
      }
     }
    }
   },
   "themes": {}
  }
 },
 "nbformat": 4,
 "nbformat_minor": 1
}
