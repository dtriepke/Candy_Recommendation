{
 "cells": [
  {
   "cell_type": "markdown",
   "metadata": {},
   "source": [
    "# Expanding candy brand\n",
    "***\n",
    "\n",
    "**Scenario** \n",
    "\n",
    "The ** purchasing group wants to expand our candy offering. These are store brand candies that we sell along the brand offerings. The idea is to create a brand new product. The team is discussing various options at the moment. Some prefer cookie-based sweets while others think that it should be gummies. The Divisional Director responsible for purchasing has decided to use a more data-driven approach. He contracted with a market research group to collect data on products in the market and their characteristics and customer sentiment. \n",
    " \n",
    "The market research data is now available and it is your job to find out which product characteristics drive customer sentiment and subsequently make a recommendation on a new product. \n",
    "\n",
    " \n",
    " \n",
    "**Data**   \n",
    "The data set is located (incl. a short description) here: https://github.com/fivethirtyeight/data/tree/master/candy-power-ranking The data set is provided by FiveThirtyEight under the Creative Commons Attribution 4.0 International license (https://creativecommons.org/licenses/by/4.0/) \n",
    " \n",
    "\n",
    "\n",
    "The data contains the following columns:  \n",
    "- chocolate: Does it contain chocolate?\n",
    "- fruity: Is it fruit flavored?\n",
    "- caramel: Is there caramel in the candy?\n",
    "- peanutalmondy: Does it contain peanuts, peanut butter or almonds?\n",
    "- nougat: Does it contain nougat?\n",
    "- crispedricewafer: Does it contain crisped rice, wafers, or a cookie component?\n",
    "- hard: Is it a hard candy?\n",
    "- bar: Is it a candy bar?\n",
    "- pluribus: Is it one of many candies in a bag or box?\n",
    "- sugarpercent: The percentile of sugar it falls under within the data set.\n",
    "- pricepercent: The unit price percentile compared to the rest of the set.\n",
    "- winpercent: The overall win percentage according to 269,000 matchups.\n",
    "\n",
    "\n",
    "**Data Assumptions:**  \n",
    "The motivation for creating the `candy-data` set was to support the buying decision in the supermarket when it comes to candy selection for halloween. For that, FiveThirtyEight did an experiment where 8,371 different IP addresses voted on about 269,000 randomly generated matchups.\n",
    "\n",
    "\n",
    "**Limitations**  \n",
    "The data was created online and there are no knowledge about the participants and thier preferences. Just the purpose of halloween is been known. It is therefore questioning wheter the data is reliable for teh german market.\n",
    "\n",
    "\n"
   ]
  },
  {
   "cell_type": "markdown",
   "metadata": {},
   "source": [
    "## Imports\n",
    "***"
   ]
  },
  {
   "cell_type": "code",
   "execution_count": 90,
   "metadata": {
    "collapsed": false
   },
   "outputs": [],
   "source": [
    "import pandas as pd\n",
    "import numpy as np\n",
    "import random\n",
    "\n",
    "import matplotlib.pyplot as plt\n",
    "import seaborn as sns\n",
    "%matplotlib inline"
   ]
  },
  {
   "cell_type": "markdown",
   "metadata": {},
   "source": [
    "## Load Data and Checkout\n",
    "***\n"
   ]
  },
  {
   "cell_type": "code",
   "execution_count": 212,
   "metadata": {
    "collapsed": false
   },
   "outputs": [
    {
     "data": {
      "text/html": [
       "<div>\n",
       "<style scoped>\n",
       "    .dataframe tbody tr th:only-of-type {\n",
       "        vertical-align: middle;\n",
       "    }\n",
       "\n",
       "    .dataframe tbody tr th {\n",
       "        vertical-align: top;\n",
       "    }\n",
       "\n",
       "    .dataframe thead th {\n",
       "        text-align: right;\n",
       "    }\n",
       "</style>\n",
       "<table border=\"1\" class=\"dataframe\">\n",
       "  <thead>\n",
       "    <tr style=\"text-align: right;\">\n",
       "      <th></th>\n",
       "      <th>competitorname</th>\n",
       "      <th>chocolate</th>\n",
       "      <th>fruity</th>\n",
       "      <th>caramel</th>\n",
       "      <th>peanutyalmondy</th>\n",
       "      <th>nougat</th>\n",
       "      <th>crispedricewafer</th>\n",
       "      <th>hard</th>\n",
       "      <th>bar</th>\n",
       "      <th>pluribus</th>\n",
       "      <th>sugarpercent</th>\n",
       "      <th>pricepercent</th>\n",
       "      <th>winpercent</th>\n",
       "    </tr>\n",
       "  </thead>\n",
       "  <tbody>\n",
       "    <tr>\n",
       "      <th>0</th>\n",
       "      <td>100 Grand</td>\n",
       "      <td>1</td>\n",
       "      <td>0</td>\n",
       "      <td>1</td>\n",
       "      <td>0</td>\n",
       "      <td>0</td>\n",
       "      <td>1</td>\n",
       "      <td>0</td>\n",
       "      <td>1</td>\n",
       "      <td>0</td>\n",
       "      <td>0.732</td>\n",
       "      <td>0.860</td>\n",
       "      <td>66.971725</td>\n",
       "    </tr>\n",
       "    <tr>\n",
       "      <th>1</th>\n",
       "      <td>3 Musketeers</td>\n",
       "      <td>1</td>\n",
       "      <td>0</td>\n",
       "      <td>0</td>\n",
       "      <td>0</td>\n",
       "      <td>1</td>\n",
       "      <td>0</td>\n",
       "      <td>0</td>\n",
       "      <td>1</td>\n",
       "      <td>0</td>\n",
       "      <td>0.604</td>\n",
       "      <td>0.511</td>\n",
       "      <td>67.602936</td>\n",
       "    </tr>\n",
       "    <tr>\n",
       "      <th>2</th>\n",
       "      <td>One dime</td>\n",
       "      <td>0</td>\n",
       "      <td>0</td>\n",
       "      <td>0</td>\n",
       "      <td>0</td>\n",
       "      <td>0</td>\n",
       "      <td>0</td>\n",
       "      <td>0</td>\n",
       "      <td>0</td>\n",
       "      <td>0</td>\n",
       "      <td>0.011</td>\n",
       "      <td>0.116</td>\n",
       "      <td>32.261086</td>\n",
       "    </tr>\n",
       "    <tr>\n",
       "      <th>3</th>\n",
       "      <td>One quarter</td>\n",
       "      <td>0</td>\n",
       "      <td>0</td>\n",
       "      <td>0</td>\n",
       "      <td>0</td>\n",
       "      <td>0</td>\n",
       "      <td>0</td>\n",
       "      <td>0</td>\n",
       "      <td>0</td>\n",
       "      <td>0</td>\n",
       "      <td>0.011</td>\n",
       "      <td>0.511</td>\n",
       "      <td>46.116505</td>\n",
       "    </tr>\n",
       "    <tr>\n",
       "      <th>4</th>\n",
       "      <td>Air Heads</td>\n",
       "      <td>0</td>\n",
       "      <td>1</td>\n",
       "      <td>0</td>\n",
       "      <td>0</td>\n",
       "      <td>0</td>\n",
       "      <td>0</td>\n",
       "      <td>0</td>\n",
       "      <td>0</td>\n",
       "      <td>0</td>\n",
       "      <td>0.906</td>\n",
       "      <td>0.511</td>\n",
       "      <td>52.341465</td>\n",
       "    </tr>\n",
       "  </tbody>\n",
       "</table>\n",
       "</div>"
      ],
      "text/plain": [
       "  competitorname  chocolate  fruity  caramel  peanutyalmondy  nougat  crispedricewafer  hard  bar  pluribus  sugarpercent  pricepercent  winpercent\n",
       "0      100 Grand          1       0        1               0       0                 1     0    1         0         0.732         0.860   66.971725\n",
       "1   3 Musketeers          1       0        0               0       1                 0     0    1         0         0.604         0.511   67.602936\n",
       "2       One dime          0       0        0               0       0                 0     0    0         0         0.011         0.116   32.261086\n",
       "3    One quarter          0       0        0               0       0                 0     0    0         0         0.011         0.511   46.116505\n",
       "4      Air Heads          0       1        0               0       0                 0     0    0         0         0.906         0.511   52.341465"
      ]
     },
     "execution_count": 212,
     "metadata": {},
     "output_type": "execute_result"
    }
   ],
   "source": [
    "FILE = \"candy-data.csv\"\n",
    "data = pd.read_csv(FILE, sep =\",\", encoding='latin-1')\n",
    "data.head()"
   ]
  },
  {
   "cell_type": "code",
   "execution_count": 213,
   "metadata": {
    "collapsed": false
   },
   "outputs": [
    {
     "data": {
      "text/html": [
       "<div>\n",
       "<style scoped>\n",
       "    .dataframe tbody tr th:only-of-type {\n",
       "        vertical-align: middle;\n",
       "    }\n",
       "\n",
       "    .dataframe tbody tr th {\n",
       "        vertical-align: top;\n",
       "    }\n",
       "\n",
       "    .dataframe thead th {\n",
       "        text-align: right;\n",
       "    }\n",
       "</style>\n",
       "<table border=\"1\" class=\"dataframe\">\n",
       "  <thead>\n",
       "    <tr style=\"text-align: right;\">\n",
       "      <th></th>\n",
       "      <th>chocolate</th>\n",
       "      <th>fruity</th>\n",
       "      <th>caramel</th>\n",
       "      <th>peanutyalmondy</th>\n",
       "      <th>nougat</th>\n",
       "      <th>crispedricewafer</th>\n",
       "      <th>hard</th>\n",
       "      <th>bar</th>\n",
       "      <th>pluribus</th>\n",
       "      <th>sugarpercent</th>\n",
       "      <th>pricepercent</th>\n",
       "      <th>winpercent</th>\n",
       "    </tr>\n",
       "  </thead>\n",
       "  <tbody>\n",
       "    <tr>\n",
       "      <th>count</th>\n",
       "      <td>85.000000</td>\n",
       "      <td>85.000000</td>\n",
       "      <td>85.000000</td>\n",
       "      <td>85.000000</td>\n",
       "      <td>85.000000</td>\n",
       "      <td>85.000000</td>\n",
       "      <td>85.000000</td>\n",
       "      <td>85.000000</td>\n",
       "      <td>85.000000</td>\n",
       "      <td>85.000000</td>\n",
       "      <td>85.000000</td>\n",
       "      <td>85.000000</td>\n",
       "    </tr>\n",
       "    <tr>\n",
       "      <th>mean</th>\n",
       "      <td>0.435294</td>\n",
       "      <td>0.447059</td>\n",
       "      <td>0.164706</td>\n",
       "      <td>0.164706</td>\n",
       "      <td>0.082353</td>\n",
       "      <td>0.082353</td>\n",
       "      <td>0.176471</td>\n",
       "      <td>0.247059</td>\n",
       "      <td>0.517647</td>\n",
       "      <td>0.478647</td>\n",
       "      <td>0.468882</td>\n",
       "      <td>50.316764</td>\n",
       "    </tr>\n",
       "    <tr>\n",
       "      <th>std</th>\n",
       "      <td>0.498738</td>\n",
       "      <td>0.500140</td>\n",
       "      <td>0.373116</td>\n",
       "      <td>0.373116</td>\n",
       "      <td>0.276533</td>\n",
       "      <td>0.276533</td>\n",
       "      <td>0.383482</td>\n",
       "      <td>0.433861</td>\n",
       "      <td>0.502654</td>\n",
       "      <td>0.282778</td>\n",
       "      <td>0.285740</td>\n",
       "      <td>14.714357</td>\n",
       "    </tr>\n",
       "    <tr>\n",
       "      <th>min</th>\n",
       "      <td>0.000000</td>\n",
       "      <td>0.000000</td>\n",
       "      <td>0.000000</td>\n",
       "      <td>0.000000</td>\n",
       "      <td>0.000000</td>\n",
       "      <td>0.000000</td>\n",
       "      <td>0.000000</td>\n",
       "      <td>0.000000</td>\n",
       "      <td>0.000000</td>\n",
       "      <td>0.011000</td>\n",
       "      <td>0.011000</td>\n",
       "      <td>22.445341</td>\n",
       "    </tr>\n",
       "    <tr>\n",
       "      <th>25%</th>\n",
       "      <td>0.000000</td>\n",
       "      <td>0.000000</td>\n",
       "      <td>0.000000</td>\n",
       "      <td>0.000000</td>\n",
       "      <td>0.000000</td>\n",
       "      <td>0.000000</td>\n",
       "      <td>0.000000</td>\n",
       "      <td>0.000000</td>\n",
       "      <td>0.000000</td>\n",
       "      <td>0.220000</td>\n",
       "      <td>0.255000</td>\n",
       "      <td>39.141056</td>\n",
       "    </tr>\n",
       "    <tr>\n",
       "      <th>50%</th>\n",
       "      <td>0.000000</td>\n",
       "      <td>0.000000</td>\n",
       "      <td>0.000000</td>\n",
       "      <td>0.000000</td>\n",
       "      <td>0.000000</td>\n",
       "      <td>0.000000</td>\n",
       "      <td>0.000000</td>\n",
       "      <td>0.000000</td>\n",
       "      <td>1.000000</td>\n",
       "      <td>0.465000</td>\n",
       "      <td>0.465000</td>\n",
       "      <td>47.829754</td>\n",
       "    </tr>\n",
       "    <tr>\n",
       "      <th>75%</th>\n",
       "      <td>1.000000</td>\n",
       "      <td>1.000000</td>\n",
       "      <td>0.000000</td>\n",
       "      <td>0.000000</td>\n",
       "      <td>0.000000</td>\n",
       "      <td>0.000000</td>\n",
       "      <td>0.000000</td>\n",
       "      <td>0.000000</td>\n",
       "      <td>1.000000</td>\n",
       "      <td>0.732000</td>\n",
       "      <td>0.651000</td>\n",
       "      <td>59.863998</td>\n",
       "    </tr>\n",
       "    <tr>\n",
       "      <th>max</th>\n",
       "      <td>1.000000</td>\n",
       "      <td>1.000000</td>\n",
       "      <td>1.000000</td>\n",
       "      <td>1.000000</td>\n",
       "      <td>1.000000</td>\n",
       "      <td>1.000000</td>\n",
       "      <td>1.000000</td>\n",
       "      <td>1.000000</td>\n",
       "      <td>1.000000</td>\n",
       "      <td>0.988000</td>\n",
       "      <td>0.976000</td>\n",
       "      <td>84.180290</td>\n",
       "    </tr>\n",
       "  </tbody>\n",
       "</table>\n",
       "</div>"
      ],
      "text/plain": [
       "       chocolate     fruity    caramel  peanutyalmondy     nougat  crispedricewafer       hard        bar   pluribus  sugarpercent  pricepercent  winpercent\n",
       "count  85.000000  85.000000  85.000000       85.000000  85.000000         85.000000  85.000000  85.000000  85.000000     85.000000     85.000000   85.000000\n",
       "mean    0.435294   0.447059   0.164706        0.164706   0.082353          0.082353   0.176471   0.247059   0.517647      0.478647      0.468882   50.316764\n",
       "std     0.498738   0.500140   0.373116        0.373116   0.276533          0.276533   0.383482   0.433861   0.502654      0.282778      0.285740   14.714357\n",
       "min     0.000000   0.000000   0.000000        0.000000   0.000000          0.000000   0.000000   0.000000   0.000000      0.011000      0.011000   22.445341\n",
       "25%     0.000000   0.000000   0.000000        0.000000   0.000000          0.000000   0.000000   0.000000   0.000000      0.220000      0.255000   39.141056\n",
       "50%     0.000000   0.000000   0.000000        0.000000   0.000000          0.000000   0.000000   0.000000   1.000000      0.465000      0.465000   47.829754\n",
       "75%     1.000000   1.000000   0.000000        0.000000   0.000000          0.000000   0.000000   0.000000   1.000000      0.732000      0.651000   59.863998\n",
       "max     1.000000   1.000000   1.000000        1.000000   1.000000          1.000000   1.000000   1.000000   1.000000      0.988000      0.976000   84.180290"
      ]
     },
     "execution_count": 213,
     "metadata": {},
     "output_type": "execute_result"
    }
   ],
   "source": [
    "data.describe()"
   ]
  },
  {
   "cell_type": "markdown",
   "metadata": {},
   "source": [
    "# Descriptive Analysis\n",
    "****\n",
    "\n",
    "## Top 10 competitor / brands\n"
   ]
  },
  {
   "cell_type": "code",
   "execution_count": 214,
   "metadata": {
    "collapsed": false,
    "scrolled": true
   },
   "outputs": [
    {
     "data": {
      "text/html": [
       "<div>\n",
       "<style scoped>\n",
       "    .dataframe tbody tr th:only-of-type {\n",
       "        vertical-align: middle;\n",
       "    }\n",
       "\n",
       "    .dataframe tbody tr th {\n",
       "        vertical-align: top;\n",
       "    }\n",
       "\n",
       "    .dataframe thead th {\n",
       "        text-align: right;\n",
       "    }\n",
       "</style>\n",
       "<table border=\"1\" class=\"dataframe\">\n",
       "  <thead>\n",
       "    <tr style=\"text-align: right;\">\n",
       "      <th></th>\n",
       "      <th>competitorname</th>\n",
       "      <th>winpercent</th>\n",
       "    </tr>\n",
       "  </thead>\n",
       "  <tbody>\n",
       "    <tr>\n",
       "      <th>0</th>\n",
       "      <td>Reese's Peanut Butter cup</td>\n",
       "      <td>84.180290</td>\n",
       "    </tr>\n",
       "    <tr>\n",
       "      <th>1</th>\n",
       "      <td>Reese's Miniatures</td>\n",
       "      <td>81.866257</td>\n",
       "    </tr>\n",
       "    <tr>\n",
       "      <th>2</th>\n",
       "      <td>Twix</td>\n",
       "      <td>81.642914</td>\n",
       "    </tr>\n",
       "    <tr>\n",
       "      <th>3</th>\n",
       "      <td>Kit Kat</td>\n",
       "      <td>76.768600</td>\n",
       "    </tr>\n",
       "    <tr>\n",
       "      <th>4</th>\n",
       "      <td>Snickers</td>\n",
       "      <td>76.673782</td>\n",
       "    </tr>\n",
       "    <tr>\n",
       "      <th>5</th>\n",
       "      <td>Reese's pieces</td>\n",
       "      <td>73.434990</td>\n",
       "    </tr>\n",
       "    <tr>\n",
       "      <th>6</th>\n",
       "      <td>Milky Way</td>\n",
       "      <td>73.099556</td>\n",
       "    </tr>\n",
       "    <tr>\n",
       "      <th>7</th>\n",
       "      <td>Reese's stuffed with pieces</td>\n",
       "      <td>72.887901</td>\n",
       "    </tr>\n",
       "    <tr>\n",
       "      <th>8</th>\n",
       "      <td>Peanut butter M&amp;M's</td>\n",
       "      <td>71.465050</td>\n",
       "    </tr>\n",
       "    <tr>\n",
       "      <th>9</th>\n",
       "      <td>Nestle Butterfinger</td>\n",
       "      <td>70.735641</td>\n",
       "    </tr>\n",
       "  </tbody>\n",
       "</table>\n",
       "</div>"
      ],
      "text/plain": [
       "                competitorname  winpercent\n",
       "0    Reese's Peanut Butter cup   84.180290\n",
       "1           Reese's Miniatures   81.866257\n",
       "2                         Twix   81.642914\n",
       "3                      Kit Kat   76.768600\n",
       "4                     Snickers   76.673782\n",
       "5               Reese's pieces   73.434990\n",
       "6                    Milky Way   73.099556\n",
       "7  Reese's stuffed with pieces   72.887901\n",
       "8          Peanut butter M&M's   71.465050\n",
       "9          Nestle Butterfinger   70.735641"
      ]
     },
     "execution_count": 214,
     "metadata": {},
     "output_type": "execute_result"
    }
   ],
   "source": [
    "# Top 10 candies\n",
    "data_sort = data.sort_values(by=\"winpercent\", ascending=False)[[\"competitorname\", \"winpercent\"]] \\\n",
    "    .reset_index().drop(\"index\", axis = 1)\n",
    "data_sort.head(10)"
   ]
  },
  {
   "cell_type": "markdown",
   "metadata": {},
   "source": [
    "Investigating the top 10 spots shows that Reese's has 4 candy types with a top 10 matchup win rate.\n",
    "That is very significant but accordingly to FiveThirtyEight is this not surprisingly as this type of candy is quite associated with Halloween. \n",
    "\n",
    "## Candy Types"
   ]
  },
  {
   "cell_type": "code",
   "execution_count": 215,
   "metadata": {
    "collapsed": false
   },
   "outputs": [
    {
     "data": {
      "text/plain": [
       "<matplotlib.axes._subplots.AxesSubplot at 0x21abef04f98>"
      ]
     },
     "execution_count": 215,
     "metadata": {},
     "output_type": "execute_result"
    },
    {
     "data": {
      "image/png": "[encoded data removed]",
      "text/plain": [
       "<Figure size 432x288 with 1 Axes>"
      ]
     },
     "metadata": {},
     "output_type": "display_data"
    }
   ],
   "source": [
    "# chocolate\n",
    "sns.boxplot(x = \"chocolate\", y = \"winpercent\", data=data)"
   ]
  },
  {
   "cell_type": "code",
   "execution_count": 186,
   "metadata": {
    "collapsed": false,
    "scrolled": false
   },
   "outputs": [
    {
     "data": {
      "text/plain": [
       "<matplotlib.axes._subplots.AxesSubplot at 0x21abeb0cfd0>"
      ]
     },
     "execution_count": 186,
     "metadata": {},
     "output_type": "execute_result"
    },
    {
     "data": {
      "image/png": "[encoded data removed]",
      "text/plain": [
       "<Figure size 432x288 with 1 Axes>"
      ]
     },
     "metadata": {},
     "output_type": "display_data"
    }
   ],
   "source": [
    "# fruity\n",
    "sns.boxplot(x = \"fruity\", y = \"winpercent\", data=data)"
   ]
  },
  {
   "cell_type": "code",
   "execution_count": 187,
   "metadata": {
    "collapsed": false,
    "scrolled": true
   },
   "outputs": [
    {
     "data": {
      "text/plain": [
       "<matplotlib.axes._subplots.AxesSubplot at 0x21abed3f9b0>"
      ]
     },
     "execution_count": 187,
     "metadata": {},
     "output_type": "execute_result"
    },
    {
     "data": {
      "image/png": "[encoded data removed]",
      "text/plain": [
       "<Figure size 432x288 with 1 Axes>"
      ]
     },
     "metadata": {},
     "output_type": "display_data"
    }
   ],
   "source": [
    "# caramel\n",
    "sns.boxplot(x = \"caramel\", y = \"winpercent\", data=data)"
   ]
  },
  {
   "cell_type": "code",
   "execution_count": 189,
   "metadata": {
    "collapsed": false
   },
   "outputs": [
    {
     "data": {
      "text/plain": [
       "<matplotlib.axes._subplots.AxesSubplot at 0x21abee22a58>"
      ]
     },
     "execution_count": 189,
     "metadata": {},
     "output_type": "execute_result"
    },
    {
     "data": {
      "image/png": "[encoded data removed]",
      "text/plain": [
       "<Figure size 432x288 with 1 Axes>"
      ]
     },
     "metadata": {},
     "output_type": "display_data"
    }
   ],
   "source": [
    "# nougat\n",
    "sns.boxplot(x = \"nougat\", y = \"winpercent\", data=data)"
   ]
  },
  {
   "cell_type": "code",
   "execution_count": 190,
   "metadata": {
    "collapsed": false
   },
   "outputs": [
    {
     "data": {
      "text/plain": [
       "<matplotlib.axes._subplots.AxesSubplot at 0x21abee8d208>"
      ]
     },
     "execution_count": 190,
     "metadata": {},
     "output_type": "execute_result"
    },
    {
     "data": {
      "image/png": "[encoded data removed]",
      "text/plain": [
       "<Figure size 432x288 with 1 Axes>"
      ]
     },
     "metadata": {},
     "output_type": "display_data"
    }
   ],
   "source": [
    "# crispedricewafer\n",
    "sns.boxplot(x = \"crispedricewafer\", y = \"winpercent\", data=data)"
   ]
  },
  {
   "cell_type": "code",
   "execution_count": 216,
   "metadata": {
    "collapsed": false
   },
   "outputs": [
    {
     "data": {
      "text/plain": [
       "<matplotlib.axes._subplots.AxesSubplot at 0x21abeee1a20>"
      ]
     },
     "execution_count": 216,
     "metadata": {},
     "output_type": "execute_result"
    },
    {
     "data": {
      "image/png": "[encoded data removed]",
      "text/plain": [
       "<Figure size 432x288 with 1 Axes>"
      ]
     },
     "metadata": {},
     "output_type": "display_data"
    }
   ],
   "source": [
    "# hard\n",
    "sns.boxplot(x = \"hard\", y = \"winpercent\", data=data)"
   ]
  },
  {
   "cell_type": "code",
   "execution_count": 217,
   "metadata": {
    "collapsed": false
   },
   "outputs": [
    {
     "data": {
      "text/plain": [
       "<matplotlib.axes._subplots.AxesSubplot at 0x21ac0110278>"
      ]
     },
     "execution_count": 217,
     "metadata": {},
     "output_type": "execute_result"
    },
    {
     "data": {
      "image/png": "[encoded data removed]",
      "text/plain": [
       "<Figure size 432x288 with 1 Axes>"
      ]
     },
     "metadata": {},
     "output_type": "display_data"
    }
   ],
   "source": [
    "# bar\n",
    "sns.boxplot(x = \"bar\", y = \"winpercent\", data=data)"
   ]
  },
  {
   "cell_type": "code",
   "execution_count": 218,
   "metadata": {
    "collapsed": false
   },
   "outputs": [
    {
     "data": {
      "text/plain": [
       "<matplotlib.axes._subplots.AxesSubplot at 0x21ac0166358>"
      ]
     },
     "execution_count": 218,
     "metadata": {},
     "output_type": "execute_result"
    },
    {
     "data": {
      "image/png": "[encoded data removed]",
      "text/plain": [
       "<Figure size 432x288 with 1 Axes>"
      ]
     },
     "metadata": {},
     "output_type": "display_data"
    }
   ],
   "source": [
    "# pluribus\n",
    "sns.boxplot(x = \"pluribus\", y = \"winpercent\", data=data)"
   ]
  },
  {
   "cell_type": "markdown",
   "metadata": {},
   "source": [
    "## Top 10 candy type combinations\n",
    "Regardless of the actual brand, what are the candy type combinations that drive the decision?   "
   ]
  },
  {
   "cell_type": "code",
   "execution_count": 69,
   "metadata": {
    "collapsed": false
   },
   "outputs": [
    {
     "name": "stderr",
     "output_type": "stream",
     "text": [
      "C:\\Users\\dtrie\\Anaconda3\\envs\\tfEnv\\lib\\site-packages\\ipykernel\\__main__.py:28: FutureWarning: using a dict on a Series for aggregation\n",
      "is deprecated and will be removed in a future version. Use                 named aggregation instead.\n",
      "\n",
      "    >>> grouper.agg(name_1=func_1, name_2=func_2)\n",
      "\n"
     ]
    },
    {
     "data": {
      "text/html": [
       "<div>\n",
       "<style scoped>\n",
       "    .dataframe tbody tr th:only-of-type {\n",
       "        vertical-align: middle;\n",
       "    }\n",
       "\n",
       "    .dataframe tbody tr th {\n",
       "        vertical-align: top;\n",
       "    }\n",
       "\n",
       "    .dataframe thead th {\n",
       "        text-align: right;\n",
       "    }\n",
       "</style>\n",
       "<table border=\"1\" class=\"dataframe\">\n",
       "  <thead>\n",
       "    <tr style=\"text-align: right;\">\n",
       "      <th></th>\n",
       "      <th>candy_type_combind</th>\n",
       "      <th>mean</th>\n",
       "      <th>count</th>\n",
       "      <th>brands</th>\n",
       "    </tr>\n",
       "  </thead>\n",
       "  <tbody>\n",
       "    <tr>\n",
       "      <th>0</th>\n",
       "      <td>_chocolate_peanutyalmondy</td>\n",
       "      <td>79.644816</td>\n",
       "      <td>3</td>\n",
       "      <td>[Reese's Miniatures, Reese's Peanut Butter cup, Reese's stuffed with pieces]</td>\n",
       "    </tr>\n",
       "    <tr>\n",
       "      <th>1</th>\n",
       "      <td>_chocolate_caramel_crispedricewafer_bar</td>\n",
       "      <td>74.307320</td>\n",
       "      <td>2</td>\n",
       "      <td>[100 Grand, Twix]</td>\n",
       "    </tr>\n",
       "    <tr>\n",
       "      <th>2</th>\n",
       "      <td>_chocolate_peanutyalmondy_pluribus</td>\n",
       "      <td>71.461276</td>\n",
       "      <td>3</td>\n",
       "      <td>[Peanut butter M&amp;M's, Peanut M&amp;Ms, Reese's pieces]</td>\n",
       "    </tr>\n",
       "    <tr>\n",
       "      <th>3</th>\n",
       "      <td>_chocolate_crispedricewafer_bar</td>\n",
       "      <td>68.507920</td>\n",
       "      <td>3</td>\n",
       "      <td>[Hershey's Krackel, Kit Kat, Nestle Crunch]</td>\n",
       "    </tr>\n",
       "    <tr>\n",
       "      <th>4</th>\n",
       "      <td>_chocolate_caramel_nougat_bar</td>\n",
       "      <td>66.950129</td>\n",
       "      <td>2</td>\n",
       "      <td>[Milky Way, Milky Way Midnight]</td>\n",
       "    </tr>\n",
       "    <tr>\n",
       "      <th>5</th>\n",
       "      <td>_chocolate_caramel_peanutyalmondy_nougat_bar</td>\n",
       "      <td>66.794164</td>\n",
       "      <td>2</td>\n",
       "      <td>[Baby Ruth, Snickers]</td>\n",
       "    </tr>\n",
       "    <tr>\n",
       "      <th>6</th>\n",
       "      <td>_chocolate_caramel_bar</td>\n",
       "      <td>64.353340</td>\n",
       "      <td>1</td>\n",
       "      <td>[Milky Way Simply Caramel]</td>\n",
       "    </tr>\n",
       "    <tr>\n",
       "      <th>7</th>\n",
       "      <td>_chocolate_caramel_pluribus</td>\n",
       "      <td>60.390179</td>\n",
       "      <td>2</td>\n",
       "      <td>[Milk Duds, Rolo]</td>\n",
       "    </tr>\n",
       "    <tr>\n",
       "      <th>8</th>\n",
       "      <td>_chocolate_caramel_peanutyalmondy_crispedricewafer_bar</td>\n",
       "      <td>59.529251</td>\n",
       "      <td>1</td>\n",
       "      <td>[Snickers Crisper]</td>\n",
       "    </tr>\n",
       "    <tr>\n",
       "      <th>9</th>\n",
       "      <td>_chocolate_peanutyalmondy_bar</td>\n",
       "      <td>58.536546</td>\n",
       "      <td>3</td>\n",
       "      <td>[Almond Joy, Mr Good Bar, Nestle Butterfinger]</td>\n",
       "    </tr>\n",
       "  </tbody>\n",
       "</table>\n",
       "</div>"
      ],
      "text/plain": [
       "                                       candy_type_combind       mean  count                                                                        brands\n",
       "0                               _chocolate_peanutyalmondy  79.644816      3  [Reese's Miniatures, Reese's Peanut Butter cup, Reese's stuffed with pieces]\n",
       "1                 _chocolate_caramel_crispedricewafer_bar  74.307320      2                                                             [100 Grand, Twix]\n",
       "2                      _chocolate_peanutyalmondy_pluribus  71.461276      3                            [Peanut butter M&M's, Peanut M&Ms, Reese's pieces]\n",
       "3                         _chocolate_crispedricewafer_bar  68.507920      3                                   [Hershey's Krackel, Kit Kat, Nestle Crunch]\n",
       "4                           _chocolate_caramel_nougat_bar  66.950129      2                                               [Milky Way, Milky Way Midnight]\n",
       "5            _chocolate_caramel_peanutyalmondy_nougat_bar  66.794164      2                                                         [Baby Ruth, Snickers]\n",
       "6                                  _chocolate_caramel_bar  64.353340      1                                                    [Milky Way Simply Caramel]\n",
       "7                             _chocolate_caramel_pluribus  60.390179      2                                                             [Milk Duds, Rolo]\n",
       "8  _chocolate_caramel_peanutyalmondy_crispedricewafer_bar  59.529251      1                                                            [Snickers Crisper]\n",
       "9                           _chocolate_peanutyalmondy_bar  58.536546      3                                [Almond Joy, Mr Good Bar, Nestle Butterfinger]"
      ]
     },
     "execution_count": 69,
     "metadata": {},
     "output_type": "execute_result"
    }
   ],
   "source": [
    "# Get all combinations of the candy types\n",
    "columns = [\n",
    "        \"chocolate\"\n",
    "        ,\"fruity\"\n",
    "        ,\"caramel\"\n",
    "        ,\"peanutyalmondy\"\n",
    "        ,\"nougat\"\n",
    "        ,\"crispedricewafer\"\n",
    "        ,\"hard\"\n",
    "        ,\"bar\"\n",
    "        ,\"pluribus\"\n",
    "       ]\n",
    "\n",
    "candy_type_combind = []\n",
    "\n",
    "for idx, row in data.iterrows():\n",
    "    name_combind = \"\"\n",
    "\n",
    "    for col in columns:\n",
    "        if row[col] == 1:\n",
    "            name_combind = name_combind + \"_\" + col \n",
    "    candy_type_combind.append(name_combind)\n",
    "    \n",
    "# Add combinations to data and filter by top10 avg win rate        \n",
    "data[\"candy_type_combind\"] = candy_type_combind\n",
    "data_top10_combindation = data.groupby([\"candy_type_combind\"], as_index=True)['winpercent'] \\\n",
    "    .agg({\"mean\": np.mean,\n",
    "          \"count\" : \"count\"}) \\\n",
    "    .sort_values(by=\"mean\", ascending=False).reset_index().head(10)\n",
    "    \n",
    "\n",
    "# Add the brands to the top10 combination\n",
    "candy_type_lookup = data.groupby([\"candy_type_combind\"]).groups\n",
    "brand_decoder = {}\n",
    "\n",
    "for idx, row in data.iterrows():\n",
    "    brand_decoder[idx] = row[\"competitorname\"] \n",
    "\n",
    "brand_list_top_10 = []\n",
    "for idx, row in data_top10_combindation.iterrows():\n",
    "    \n",
    "    combination = str(row[\"candy_type_combind\"])\n",
    "    brand_list = []\n",
    "    \n",
    "    for brand in candy_type_lookup.get(combination):\n",
    "        brand_list.append(brand_decoder.get(brand))\n",
    "    \n",
    "    brand_list_top_10.append(brand_list)\n",
    "    \n",
    "data_top10_combindation[\"brands\"] = brand_list_top_10\n",
    "\n",
    "\n",
    "pd.set_option('max_colwidth', 80)\n",
    "data_top10_combindation"
   ]
  },
  {
   "cell_type": "markdown",
   "metadata": {},
   "source": [
    "Now the picture is already slightly different and gives us a good hint of which candy property drives the matchup win likelihood.\n",
    "\n",
    "Interpreting the result:  \n",
    "\n",
    "- The property that all top10 combinations have in common is chocolate followed by caramel. \n",
    "- All top10 brands are represented and 11 more none top10 brand.\n",
    "- The best combination (chocolate and peanutyalmondy)  is just represented in the data by Resee's and it is hard to infer wheater the brand drives the decision here. \n",
    "- The second-best combination shows a top10 brand (Twix: 3) and a non top10 brand (100 Grand: 14).  \n",
    "- This view is biased in terms of matchups within the same combination e.g. Baby Ruth and Snickers\n",
    "\n",
    "\n",
    "\n",
    "## Sugare and Price\n",
    "\n",
    "As chocolate and caramel mix seems to have a reasonable impact winning a matchup. Let's see how much the sugur and price are related to the win percentage."
   ]
  },
  {
   "cell_type": "code",
   "execution_count": 91,
   "metadata": {
    "collapsed": false
   },
   "outputs": [],
   "source": [
    "sns.set_palette(\"GnBu_d\")\n",
    "sns.set_style('whitegrid')"
   ]
  },
  {
   "cell_type": "code",
   "execution_count": 98,
   "metadata": {
    "collapsed": false
   },
   "outputs": [
    {
     "data": {
      "text/plain": [
       "<seaborn.axisgrid.PairGrid at 0x21ab5f0cb38>"
      ]
     },
     "execution_count": 98,
     "metadata": {},
     "output_type": "execute_result"
    },
    {
     "data": {
      "image/png": "[encoded data removed]",
      "text/plain": [
       "<Figure size 540x540 with 12 Axes>"
      ]
     },
     "metadata": {},
     "output_type": "display_data"
    }
   ],
   "source": [
    "sns.pairplot(data[['winpercent','pricepercent', 'sugarpercent']])"
   ]
  },
  {
   "cell_type": "code",
   "execution_count": 101,
   "metadata": {
    "collapsed": false,
    "scrolled": true
   },
   "outputs": [
    {
     "data": {
      "text/html": [
       "<div>\n",
       "<style scoped>\n",
       "    .dataframe tbody tr th:only-of-type {\n",
       "        vertical-align: middle;\n",
       "    }\n",
       "\n",
       "    .dataframe tbody tr th {\n",
       "        vertical-align: top;\n",
       "    }\n",
       "\n",
       "    .dataframe thead th {\n",
       "        text-align: right;\n",
       "    }\n",
       "</style>\n",
       "<table border=\"1\" class=\"dataframe\">\n",
       "  <thead>\n",
       "    <tr style=\"text-align: right;\">\n",
       "      <th></th>\n",
       "      <th>winpercent</th>\n",
       "      <th>pricepercent</th>\n",
       "      <th>sugarpercent</th>\n",
       "    </tr>\n",
       "  </thead>\n",
       "  <tbody>\n",
       "    <tr>\n",
       "      <th>winpercent</th>\n",
       "      <td>1.000000</td>\n",
       "      <td>0.345325</td>\n",
       "      <td>0.229151</td>\n",
       "    </tr>\n",
       "    <tr>\n",
       "      <th>pricepercent</th>\n",
       "      <td>0.345325</td>\n",
       "      <td>1.000000</td>\n",
       "      <td>0.329706</td>\n",
       "    </tr>\n",
       "    <tr>\n",
       "      <th>sugarpercent</th>\n",
       "      <td>0.229151</td>\n",
       "      <td>0.329706</td>\n",
       "      <td>1.000000</td>\n",
       "    </tr>\n",
       "  </tbody>\n",
       "</table>\n",
       "</div>"
      ],
      "text/plain": [
       "              winpercent  pricepercent  sugarpercent\n",
       "winpercent      1.000000      0.345325      0.229151\n",
       "pricepercent    0.345325      1.000000      0.329706\n",
       "sugarpercent    0.229151      0.329706      1.000000"
      ]
     },
     "execution_count": 101,
     "metadata": {},
     "output_type": "execute_result"
    },
    {
     "data": {
      "image/png": "[encoded data removed]",
      "text/plain": [
       "<Figure size 432x288 with 2 Axes>"
      ]
     },
     "metadata": {},
     "output_type": "display_data"
    }
   ],
   "source": [
    "sns.heatmap(data[['winpercent','pricepercent', 'sugarpercent']].corr())\n",
    "\n",
    "data[['winpercent','pricepercent', 'sugarpercent']].corr()"
   ]
  },
  {
   "cell_type": "code",
   "execution_count": 112,
   "metadata": {
    "collapsed": false,
    "scrolled": true
   },
   "outputs": [
    {
     "data": {
      "text/plain": [
       "<seaborn.axisgrid.FacetGrid at 0x21ab915f8d0>"
      ]
     },
     "execution_count": 112,
     "metadata": {},
     "output_type": "execute_result"
    },
    {
     "data": {
      "image/png": "[encoded data removed]",
      "text/plain": [
       "<Figure size 360x360 with 1 Axes>"
      ]
     },
     "metadata": {},
     "output_type": "display_data"
    }
   ],
   "source": [
    "sns.lmplot(x='pricepercent',y='winpercent',data=data)"
   ]
  },
  {
   "cell_type": "code",
   "execution_count": 113,
   "metadata": {
    "collapsed": false
   },
   "outputs": [
    {
     "data": {
      "text/plain": [
       "<seaborn.axisgrid.FacetGrid at 0x21ab9174a90>"
      ]
     },
     "execution_count": 113,
     "metadata": {},
     "output_type": "execute_result"
    },
    {
     "data": {
      "image/png": "[encoded data removed]",
      "text/plain": [
       "<Figure size 360x360 with 1 Axes>"
      ]
     },
     "metadata": {},
     "output_type": "display_data"
    }
   ],
   "source": [
    "sns.lmplot(x='sugarpercent',y='winpercent',data=data)"
   ]
  },
  {
   "cell_type": "markdown",
   "metadata": {},
   "source": [
    "Interpreting the result: \n",
    "- The imact of sugar and price on the matchup win is postive but low.  \n",
    "- We can exclude them from the list of potential driving factors \n",
    "- The price however can be later used for the pricing process of the new store brand candies\n",
    "\n",
    "# Linear Regression Model\n",
    "***\n",
    "\n",
    "**Import Functions**"
   ]
  },
  {
   "cell_type": "code",
   "execution_count": 123,
   "metadata": {
    "collapsed": true
   },
   "outputs": [],
   "source": [
    "from sklearn.linear_model import LinearRegression"
   ]
  },
  {
   "cell_type": "markdown",
   "metadata": {},
   "source": [
    "**Split the data**"
   ]
  },
  {
   "cell_type": "code",
   "execution_count": 170,
   "metadata": {
    "collapsed": false
   },
   "outputs": [],
   "source": [
    "columns = [\n",
    "        \"chocolate\"\n",
    "        ,\"fruity\"\n",
    "        ,\"caramel\"\n",
    "        ,\"peanutyalmondy\"\n",
    "        ,\"nougat\"\n",
    "        ,\"crispedricewafer\"\n",
    "        ,\"hard\"\n",
    "        ,\"bar\"\n",
    "        ,\"pluribus\"\n",
    "       ]\n",
    "\n",
    "\n",
    "X = data[columns]\n",
    "y = data['winpercent']\n"
   ]
  },
  {
   "cell_type": "markdown",
   "metadata": {},
   "source": [
    "**Train Model**"
   ]
  },
  {
   "cell_type": "code",
   "execution_count": 171,
   "metadata": {
    "collapsed": false
   },
   "outputs": [
    {
     "data": {
      "text/plain": [
       "LinearRegression(copy_X=True, fit_intercept=True, n_jobs=None, normalize=False)"
      ]
     },
     "execution_count": 171,
     "metadata": {},
     "output_type": "execute_result"
    }
   ],
   "source": [
    "lm = LinearRegression()\n",
    "lm.fit(X,y)"
   ]
  },
  {
   "cell_type": "markdown",
   "metadata": {},
   "source": [
    "**Model Evaluation** \n",
    "\n",
    "- No prediction and residual analysis, to less data "
   ]
  },
  {
   "cell_type": "code",
   "execution_count": 172,
   "metadata": {
    "collapsed": false
   },
   "outputs": [
    {
     "name": "stdout",
     "output_type": "stream",
     "text": [
      "R² : 0.5148097061389147\n"
     ]
    }
   ],
   "source": [
    "print(\"R² :\", lm.score(X,y) )"
   ]
  },
  {
   "cell_type": "code",
   "execution_count": 173,
   "metadata": {
    "collapsed": false
   },
   "outputs": [
    {
     "name": "stdout",
     "output_type": "stream",
     "text": [
      "35.015458741530004\n"
     ]
    }
   ],
   "source": [
    "# print the intercept\n",
    "print(lm.intercept_)"
   ]
  },
  {
   "cell_type": "code",
   "execution_count": 183,
   "metadata": {
    "collapsed": false,
    "scrolled": true
   },
   "outputs": [
    {
     "data": {
      "text/html": [
       "<div>\n",
       "<style scoped>\n",
       "    .dataframe tbody tr th:only-of-type {\n",
       "        vertical-align: middle;\n",
       "    }\n",
       "\n",
       "    .dataframe tbody tr th {\n",
       "        vertical-align: top;\n",
       "    }\n",
       "\n",
       "    .dataframe thead th {\n",
       "        text-align: right;\n",
       "    }\n",
       "</style>\n",
       "<table border=\"1\" class=\"dataframe\">\n",
       "  <thead>\n",
       "    <tr style=\"text-align: right;\">\n",
       "      <th></th>\n",
       "      <th>Coefficient</th>\n",
       "    </tr>\n",
       "  </thead>\n",
       "  <tbody>\n",
       "    <tr>\n",
       "      <th>chocolate</th>\n",
       "      <td>19.905795</td>\n",
       "    </tr>\n",
       "    <tr>\n",
       "      <th>fruity</th>\n",
       "      <td>10.267732</td>\n",
       "    </tr>\n",
       "    <tr>\n",
       "      <th>peanutyalmondy</th>\n",
       "      <td>10.141017</td>\n",
       "    </tr>\n",
       "    <tr>\n",
       "      <th>crispedricewafer</th>\n",
       "      <td>8.991549</td>\n",
       "    </tr>\n",
       "    <tr>\n",
       "      <th>caramel</th>\n",
       "      <td>3.384282</td>\n",
       "    </tr>\n",
       "    <tr>\n",
       "      <th>nougat</th>\n",
       "      <td>2.416252</td>\n",
       "    </tr>\n",
       "    <tr>\n",
       "      <th>pluribus</th>\n",
       "      <td>-0.159917</td>\n",
       "    </tr>\n",
       "    <tr>\n",
       "      <th>bar</th>\n",
       "      <td>-0.721966</td>\n",
       "    </tr>\n",
       "    <tr>\n",
       "      <th>hard</th>\n",
       "      <td>-4.872560</td>\n",
       "    </tr>\n",
       "  </tbody>\n",
       "</table>\n",
       "</div>"
      ],
      "text/plain": [
       "                  Coefficient\n",
       "chocolate           19.905795\n",
       "fruity              10.267732\n",
       "peanutyalmondy      10.141017\n",
       "crispedricewafer     8.991549\n",
       "caramel              3.384282\n",
       "nougat               2.416252\n",
       "pluribus            -0.159917\n",
       "bar                 -0.721966\n",
       "hard                -4.872560"
      ]
     },
     "execution_count": 183,
     "metadata": {},
     "output_type": "execute_result"
    }
   ],
   "source": [
    "coeff_df = pd.DataFrame(lm.coef_, X.columns, columns=['Coefficient'])\n",
    "coeff_df.sort_values(\"Coefficient\",ascending=False )"
   ]
  },
  {
   "cell_type": "markdown",
   "metadata": {},
   "source": [
    "Interpreting the result: \n",
    "\n",
    "- The model can explain around 51% of the variance of the winpercentage can be expalined by the candy properties\n",
    "- A candy with none of the 9 properties has a matchup win percentage of 35%  \n",
    "- **Chocolate** has the highest expected win rate add about 20%  \n",
    "- Add a **fruity** component or **peanuty or almondy** let the expectation increase by 10%  \n",
    "- If it contain **crisped rice, wafers or a cookie** component let the win expectation increase by 9%  \n",
    "- **Caramel** add just 3% and **nougat** 2%  \n",
    "- **Bar** candies let win chance drop by 0.7% and if its **hard** let them drop by 5%\n",
    "- If its in a **bag or box** decreases the excpected win rate by 0.15%\n"
   ]
  },
  {
   "cell_type": "markdown",
   "metadata": {},
   "source": [
    "##  Business Recommendation for a new store candy\n",
    "***\n",
    "\n",
    "According to the data, there are we can simplify and decide two things: \n",
    "    1. Which ingredients should the new candy have? \n",
    "    2. Which form and packing should it have? \n",
    "\n",
    "\n",
    "**Ingredients**  \n",
    "For the ingredient combination, we should start with **chocolate** and mix some **caramel** in. Chocolate is included in each entry of the top10 combination list and it has the highest win expectation growth. Whereby caramel is given in 6 out of 10 most liked combinations. The costomer will \n",
    "\n",
    "Next, we can add some **peanuts, peanut butter or almonds** and it must possess **crisped rice, wafers, or a cookie** components.   \n",
    "We should avoid **fruity** candy. Eventhough it has an add of 10% win percentage it also has an relatively low win expectation against non fruity candies and it is not involved in the top10 combination list.\n",
    "\n",
    "\n",
    "The sugar does not weight to much inti the actual decision and teh price seems also not main value driver. Never the less at least the price must be aligned with the store pricing strategy in order to avoid cannibalisation of other similar brands in the store.\n",
    "\n",
    "\n",
    "**Form and packing**  \n",
    "The new candy supposed to be a ** not hard bar** and Is it not **one of many candies in a bag or box**."
   ]
  },
  {
   "cell_type": "markdown",
   "metadata": {},
   "source": [
    "## Prediction\n",
    "\n",
    "How many percent of the time do we excpect to win our new store candy?\n",
    "\n",
    "To answer this question, we lookup after candies with our properties and average their win percentage."
   ]
  },
  {
   "cell_type": "code",
   "execution_count": 238,
   "metadata": {
    "collapsed": false,
    "scrolled": true
   },
   "outputs": [
    {
     "name": "stdout",
     "output_type": "stream",
     "text": [
      "65\n"
     ]
    },
    {
     "data": {
      "text/plain": [
       "competitorname      Snickers Crisper\n",
       "chocolate                          1\n",
       "fruity                             0\n",
       "caramel                            1\n",
       "peanutyalmondy                     1\n",
       "nougat                             0\n",
       "crispedricewafer                   1\n",
       "hard                               0\n",
       "bar                                1\n",
       "pluribus                           0\n",
       "sugarpercent                   0.604\n",
       "pricepercent                   0.651\n",
       "winpercent                   59.5293\n",
       "Name: 65, dtype: object"
      ]
     },
     "execution_count": 238,
     "metadata": {},
     "output_type": "execute_result"
    }
   ],
   "source": [
    "#\n",
    "\n",
    "isSimilarCandy = [] \n",
    "\n",
    "for idx, row in data.iterrows():\n",
    "\n",
    "    if (row[\"chocolate\"]==1) & \\\n",
    "        (row[\"caramel\"]==1) & \\\n",
    "        (row['peanutyalmondy']==1)  & \\\n",
    "        (row['crispedricewafer'] ==1) & \\\n",
    "        (row['hard'] == 0) & \\\n",
    "        (row['bar'] == 1) & \\\n",
    "        (row['pluribus'] == 0):\n",
    "        isSimilarCandy.append(1)\n",
    "        print(idx)\n",
    "    else: \n",
    "        isSimilarCandy.append(0)\n",
    "\n",
    "data.loc[65,:]  "
   ]
  },
  {
   "cell_type": "markdown",
   "metadata": {},
   "source": [
    "## Model\n",
    "***"
   ]
  },
  {
   "cell_type": "code",
   "execution_count": 159,
   "metadata": {
    "collapsed": false,
    "scrolled": true
   },
   "outputs": [],
   "source": [
    "from keras.utils import to_categorical\n",
    "from keras.models import Sequential, load_model\n",
    "from keras.layers import Dense, Dropout\n",
    "from keras.optimizers import Adam"
   ]
  },
  {
   "cell_type": "code",
   "execution_count": 160,
   "metadata": {
    "collapsed": false
   },
   "outputs": [],
   "source": [
    "# Create target categories\n",
    "\n",
    "def target_class(x):\n",
    "    if x <=.1:\n",
    "        y = []\n",
    "    elif x <= .2:\n",
    "        y = 2\n",
    "    elif x <= .3:\n",
    "        y = 3\n",
    "    elif x <= .4:\n",
    "        y = 4\n",
    "    elif x <=.5:\n",
    "        y = 5\n",
    "    elif x <= .6:\n",
    "        y = 6\n",
    "    elif x <= .7:\n",
    "        y = 7\n",
    "    elif x <= .8:\n",
    "        y = 8\n",
    "    elif x <= .9:\n",
    "        y = 9\n",
    "    else: y = 0\n",
    "        \n",
    "    return y\n",
    "\n",
    "target = list(map(lambda x: target_class(x/100), data.winpercent))\n",
    "\n",
    "# Convert labels to categorical one-hot encoding\n",
    "one_hot_target = to_categorical(target , num_classes=10)"
   ]
  },
  {
   "cell_type": "code",
   "execution_count": 161,
   "metadata": {
    "collapsed": false
   },
   "outputs": [],
   "source": [
    "# Input Format\n",
    "cols = ['chocolate', 'fruity', 'caramel', 'peanutyalmondy','nougat', 'crispedricewafer', 'hard', 'bar', 'pluribus']\n",
    "NUM_CLASS = cols.__len__()\n",
    "\n",
    "X = np.zeros((data.__len__(), NUM_CLASS))\n",
    "\n",
    "for idx, row in data.iterrows():\n",
    "    values = []\n",
    "    \n",
    "    for col in cols:\n",
    "        values.append(row[col])\n",
    "    \n",
    "    X[idx, : ] = values  "
   ]
  },
  {
   "cell_type": "code",
   "execution_count": 162,
   "metadata": {
    "collapsed": false
   },
   "outputs": [],
   "source": [
    "def shuffling_train_test_split(X, y, test_size=0.18):\n",
    "    NUM_TEST = round(int((test_size) * X.shape[0]) + 1)\n",
    "    print(\"Spilt randomly: \", NUM_TEST)\n",
    "    idxs = np.arange(0, X.__len__())\n",
    "    idxs_test = random.sample(set(idxs), NUM_TEST)\n",
    "    idxs_train = [idx for idx in idxs if idx not in idxs_test]\n",
    "    \n",
    "    X_test = np.array([X[i] for i in idxs_test])\n",
    "    X_train = np.array([X[i] for i in idxs_train])\n",
    "    y_test = np.array([y[i] for i in idxs_test])\n",
    "    y_train = np.array([y[i] for i in idxs_train])\n",
    "    \n",
    "    return X_train, X_test, y_train, y_test\n",
    "\n",
    "def sample_wr(population, k):\n",
    "    print(\"Chooses k random elements (with replacement) from a population\")\n",
    "    n = len(population)\n",
    "    _random, _int = random.random, int  # speed hack \n",
    "    result = [None] * k\n",
    "    for i in range(k):\n",
    "        j = _int(_random() * n)\n",
    "        result[i] = population[j]\n",
    "    return result\n"
   ]
  },
  {
   "cell_type": "code",
   "execution_count": 163,
   "metadata": {
    "collapsed": false
   },
   "outputs": [
    {
     "name": "stdout",
     "output_type": "stream",
     "text": [
      "Spilt randomly:  16\n",
      "Chooses k random elements (with replacement) from a population\n",
      "200 200\n"
     ]
    }
   ],
   "source": [
    "random.seed(18)\n",
    "# Split test and train data\n",
    "X_train, X_test, y_train, y_test = shuffling_train_test_split(X=X, y=one_hot_target)\n",
    "\n",
    "# Bootstrap train data\n",
    "tmp = [[x,y] for x,y in zip(X_train, y_train)]\n",
    "tmp_bootstrap = sample_wr(tmp, 200)\n",
    "X_train = np.array([tmp_bootstrap[i][0] for i in range(tmp_bootstrap.__len__())])\n",
    "y_train = np.array([tmp_bootstrap[i][1] for i in range(tmp_bootstrap.__len__())])\n",
    "\n",
    "print(X_train.__len__(), y_train.__len__())"
   ]
  },
  {
   "cell_type": "code",
   "execution_count": 164,
   "metadata": {
    "collapsed": false
   },
   "outputs": [
    {
     "name": "stdout",
     "output_type": "stream",
     "text": [
      "WARNING:tensorflow:From C:\\Users\\dtrie\\Anaconda3\\envs\\tfEnv\\lib\\site-packages\\tensorflow\\python\\ops\\resource_variable_ops.py:435: colocate_with (from tensorflow.python.framework.ops) is deprecated and will be removed in a future version.\n",
      "Instructions for updating:\n",
      "Colocations handled automatically by placer.\n",
      "WARNING:tensorflow:From C:\\Users\\dtrie\\Anaconda3\\envs\\tfEnv\\lib\\site-packages\\tensorflow\\python\\ops\\math_ops.py:3066: to_int32 (from tensorflow.python.ops.math_ops) is deprecated and will be removed in a future version.\n",
      "Instructions for updating:\n",
      "Use tf.cast instead.\n",
      "Epoch 1/500\n",
      "200/200 [==============================] - 0s 1ms/step - loss: 2.2317 - accuracy: 0.2000\n",
      "Epoch 2/500\n",
      "200/200 [==============================] - 0s 751us/step - loss: 2.1127 - accuracy: 0.2250\n",
      "Epoch 3/500\n",
      "200/200 [==============================] - 0s 494us/step - loss: 1.9684 - accuracy: 0.2750\n",
      "Epoch 4/500\n",
      "200/200 [==============================] - 0s 494us/step - loss: 1.8839 - accuracy: 0.2200\n",
      "Epoch 5/500\n",
      "200/200 [==============================] - 0s 585us/step - loss: 1.8723 - accuracy: 0.2750\n",
      "Epoch 6/500\n",
      "200/200 [==============================] - 0s 415us/step - loss: 1.8170 - accuracy: 0.3050\n",
      "Epoch 7/500\n",
      "200/200 [==============================] - 0s 1ms/step - loss: 1.7912 - accuracy: 0.2750\n",
      "Epoch 8/500\n",
      "200/200 [==============================] - 0s 818us/step - loss: 1.7792 - accuracy: 0.3100\n",
      "Epoch 9/500\n",
      "200/200 [==============================] - 0s 734us/step - loss: 1.6846 - accuracy: 0.3650\n",
      "Epoch 10/500\n",
      "200/200 [==============================] - 0s 781us/step - loss: 1.6429 - accuracy: 0.3850\n",
      "Epoch 11/500\n",
      "200/200 [==============================] - 0s 621us/step - loss: 1.6985 - accuracy: 0.3150\n",
      "Epoch 12/500\n",
      "200/200 [==============================] - 0s 1ms/step - loss: 1.6859 - accuracy: 0.3450\n",
      "Epoch 13/500\n",
      "200/200 [==============================] - 0s 967us/step - loss: 1.6619 - accuracy: 0.2750\n",
      "Epoch 14/500\n",
      "200/200 [==============================] - 0s 734us/step - loss: 1.6149 - accuracy: 0.3650\n",
      "Epoch 15/500\n",
      "200/200 [==============================] - 0s 481us/step - loss: 1.5939 - accuracy: 0.3450\n",
      "Epoch 16/500\n",
      "200/200 [==============================] - 0s 649us/step - loss: 1.5735 - accuracy: 0.4050\n",
      "Epoch 17/500\n",
      "200/200 [==============================] - 0s 583us/step - loss: 1.6058 - accuracy: 0.3750\n",
      "Epoch 18/500\n",
      "200/200 [==============================] - 0s 495us/step - loss: 1.5808 - accuracy: 0.3800\n",
      "Epoch 19/500\n",
      "200/200 [==============================] - 0s 2ms/step - loss: 1.6354 - accuracy: 0.3300\n",
      "Epoch 20/500\n",
      "200/200 [==============================] - 0s 425us/step - loss: 1.5942 - accuracy: 0.3550\n",
      "Epoch 21/500\n",
      "200/200 [==============================] - 0s 756us/step - loss: 1.5345 - accuracy: 0.3900\n",
      "Epoch 22/500\n",
      "200/200 [==============================] - 0s 488us/step - loss: 1.5423 - accuracy: 0.3650\n",
      "Epoch 23/500\n",
      "200/200 [==============================] - 0s 923us/step - loss: 1.5153 - accuracy: 0.4300\n",
      "Epoch 24/500\n",
      "200/200 [==============================] - 0s 522us/step - loss: 1.5246 - accuracy: 0.3950\n",
      "Epoch 25/500\n",
      "200/200 [==============================] - 0s 411us/step - loss: 1.5193 - accuracy: 0.4200\n",
      "Epoch 26/500\n",
      "200/200 [==============================] - 0s 833us/step - loss: 1.4791 - accuracy: 0.4250\n",
      "Epoch 27/500\n",
      "200/200 [==============================] - 0s 571us/step - loss: 1.4782 - accuracy: 0.4050\n",
      "Epoch 28/500\n",
      "200/200 [==============================] - 0s 889us/step - loss: 1.4800 - accuracy: 0.4100\n",
      "Epoch 29/500\n",
      "200/200 [==============================] - 0s 1ms/step - loss: 1.4202 - accuracy: 0.4150\n",
      "Epoch 30/500\n",
      "200/200 [==============================] - 0s 2ms/step - loss: 1.4793 - accuracy: 0.3900\n",
      "Epoch 31/500\n",
      "200/200 [==============================] - 0s 789us/step - loss: 1.4520 - accuracy: 0.3950\n",
      "Epoch 32/500\n",
      "200/200 [==============================] - 0s 912us/step - loss: 1.3964 - accuracy: 0.4400\n",
      "Epoch 33/500\n",
      "200/200 [==============================] - 0s 763us/step - loss: 1.4059 - accuracy: 0.4150\n",
      "Epoch 34/500\n",
      "200/200 [==============================] - 0s 931us/step - loss: 1.4222 - accuracy: 0.4000\n",
      "Epoch 35/500\n",
      "200/200 [==============================] - 0s 555us/step - loss: 1.4238 - accuracy: 0.3750\n",
      "Epoch 36/500\n",
      "200/200 [==============================] - 0s 702us/step - loss: 1.3755 - accuracy: 0.4550\n",
      "Epoch 37/500\n",
      "200/200 [==============================] - 0s 504us/step - loss: 1.3557 - accuracy: 0.4900\n",
      "Epoch 38/500\n",
      "200/200 [==============================] - 0s 584us/step - loss: 1.4224 - accuracy: 0.3950\n",
      "Epoch 39/500\n",
      "200/200 [==============================] - 0s 998us/step - loss: 1.3977 - accuracy: 0.4350\n",
      "Epoch 40/500\n",
      "200/200 [==============================] - 0s 1ms/step - loss: 1.4192 - accuracy: 0.4250\n",
      "Epoch 41/500\n",
      "200/200 [==============================] - 0s 1ms/step - loss: 1.3298 - accuracy: 0.4450\n",
      "Epoch 42/500\n",
      "200/200 [==============================] - 0s 688us/step - loss: 1.3099 - accuracy: 0.4450\n",
      "Epoch 43/500\n",
      "200/200 [==============================] - 0s 1ms/step - loss: 1.2963 - accuracy: 0.4700\n",
      "Epoch 44/500\n",
      "200/200 [==============================] - 0s 568us/step - loss: 1.3344 - accuracy: 0.4700\n",
      "Epoch 45/500\n",
      "200/200 [==============================] - 0s 410us/step - loss: 1.3152 - accuracy: 0.4600\n",
      "Epoch 46/500\n",
      "200/200 [==============================] - 0s 513us/step - loss: 1.3559 - accuracy: 0.4450\n",
      "Epoch 47/500\n",
      "200/200 [==============================] - 0s 416us/step - loss: 1.3467 - accuracy: 0.4400\n",
      "Epoch 48/500\n",
      "200/200 [==============================] - 0s 1ms/step - loss: 1.3342 - accuracy: 0.4250\n",
      "Epoch 49/500\n",
      "200/200 [==============================] - 0s 1ms/step - loss: 1.3092 - accuracy: 0.4300\n",
      "Epoch 50/500\n",
      "200/200 [==============================] - 0s 913us/step - loss: 1.3213 - accuracy: 0.4750\n",
      "Epoch 51/500\n",
      "200/200 [==============================] - 0s 608us/step - loss: 1.2984 - accuracy: 0.4800\n",
      "Epoch 52/500\n",
      "200/200 [==============================] - 0s 1ms/step - loss: 1.2625 - accuracy: 0.4800\n",
      "Epoch 53/500\n",
      "200/200 [==============================] - 0s 661us/step - loss: 1.2708 - accuracy: 0.4400\n",
      "Epoch 54/500\n",
      "200/200 [==============================] - 0s 674us/step - loss: 1.2712 - accuracy: 0.4400\n",
      "Epoch 55/500\n",
      "200/200 [==============================] - 0s 806us/step - loss: 1.2881 - accuracy: 0.4450\n",
      "Epoch 56/500\n",
      "200/200 [==============================] - 0s 492us/step - loss: 1.2525 - accuracy: 0.4350\n",
      "Epoch 57/500\n",
      "200/200 [==============================] - 0s 665us/step - loss: 1.2757 - accuracy: 0.4750\n",
      "Epoch 58/500\n",
      "200/200 [==============================] - 0s 416us/step - loss: 1.2578 - accuracy: 0.4550\n",
      "Epoch 59/500\n",
      "200/200 [==============================] - 0s 708us/step - loss: 1.2801 - accuracy: 0.4700\n",
      "Epoch 60/500\n",
      "200/200 [==============================] - 0s 428us/step - loss: 1.2199 - accuracy: 0.4700\n",
      "Epoch 61/500\n",
      "200/200 [==============================] - 0s 505us/step - loss: 1.2579 - accuracy: 0.5100\n",
      "Epoch 62/500\n",
      "200/200 [==============================] - 0s 748us/step - loss: 1.2375 - accuracy: 0.5050\n",
      "Epoch 63/500\n",
      "200/200 [==============================] - 0s 506us/step - loss: 1.2392 - accuracy: 0.4800\n",
      "Epoch 64/500\n",
      "200/200 [==============================] - 0s 496us/step - loss: 1.2396 - accuracy: 0.4900\n",
      "Epoch 65/500\n",
      "200/200 [==============================] - 0s 528us/step - loss: 1.2182 - accuracy: 0.4700\n",
      "Epoch 66/500\n",
      "200/200 [==============================] - 0s 403us/step - loss: 1.1934 - accuracy: 0.5400\n",
      "Epoch 67/500\n",
      "200/200 [==============================] - 0s 416us/step - loss: 1.2597 - accuracy: 0.5100\n",
      "Epoch 68/500\n",
      "200/200 [==============================] - 0s 594us/step - loss: 1.1932 - accuracy: 0.4500\n",
      "Epoch 69/500\n",
      "200/200 [==============================] - 0s 303us/step - loss: 1.1556 - accuracy: 0.5000\n",
      "Epoch 70/500\n",
      "200/200 [==============================] - 0s 326us/step - loss: 1.2229 - accuracy: 0.4950\n",
      "Epoch 71/500\n",
      "200/200 [==============================] - 0s 926us/step - loss: 1.2402 - accuracy: 0.4450\n",
      "Epoch 72/500\n",
      "200/200 [==============================] - 0s 492us/step - loss: 1.1960 - accuracy: 0.4850\n",
      "Epoch 73/500\n",
      "200/200 [==============================] - 0s 829us/step - loss: 1.2179 - accuracy: 0.4950\n",
      "Epoch 74/500\n",
      "200/200 [==============================] - 0s 571us/step - loss: 1.1539 - accuracy: 0.5250\n",
      "Epoch 75/500\n",
      "200/200 [==============================] - 0s 416us/step - loss: 1.1951 - accuracy: 0.5050\n",
      "Epoch 76/500\n",
      "200/200 [==============================] - 0s 334us/step - loss: 1.1584 - accuracy: 0.5550\n",
      "Epoch 77/500\n",
      "200/200 [==============================] - 0s 498us/step - loss: 1.1930 - accuracy: 0.5000\n",
      "Epoch 78/500\n",
      "200/200 [==============================] - 0s 860us/step - loss: 1.1661 - accuracy: 0.4950\n",
      "Epoch 79/500\n",
      "200/200 [==============================] - 0s 519us/step - loss: 1.1501 - accuracy: 0.5000\n",
      "Epoch 80/500\n",
      "200/200 [==============================] - 0s 456us/step - loss: 1.2087 - accuracy: 0.4800\n",
      "Epoch 81/500\n",
      "200/200 [==============================] - 0s 417us/step - loss: 1.1459 - accuracy: 0.5050\n",
      "Epoch 82/500\n",
      "200/200 [==============================] - 0s 416us/step - loss: 1.1347 - accuracy: 0.5300\n",
      "Epoch 83/500\n",
      "200/200 [==============================] - 0s 598us/step - loss: 1.1278 - accuracy: 0.5350\n",
      "Epoch 84/500\n",
      "200/200 [==============================] - 0s 780us/step - loss: 1.1172 - accuracy: 0.5450\n",
      "Epoch 85/500\n",
      "200/200 [==============================] - 0s 446us/step - loss: 1.1507 - accuracy: 0.5350\n",
      "Epoch 86/500\n",
      "200/200 [==============================] - 0s 891us/step - loss: 1.1382 - accuracy: 0.5400\n",
      "Epoch 87/500\n",
      "200/200 [==============================] - 0s 485us/step - loss: 1.1299 - accuracy: 0.5050\n",
      "Epoch 88/500\n",
      "200/200 [==============================] - 0s 566us/step - loss: 1.1656 - accuracy: 0.5250\n",
      "Epoch 89/500\n",
      "200/200 [==============================] - 0s 418us/step - loss: 1.1905 - accuracy: 0.5100\n",
      "Epoch 90/500\n",
      "200/200 [==============================] - 0s 553us/step - loss: 1.1430 - accuracy: 0.5550\n",
      "Epoch 91/500\n",
      "200/200 [==============================] - 0s 497us/step - loss: 1.1229 - accuracy: 0.5500\n",
      "Epoch 92/500\n",
      "200/200 [==============================] - 0s 416us/step - loss: 1.1292 - accuracy: 0.5250\n",
      "Epoch 93/500\n",
      "200/200 [==============================] - 0s 541us/step - loss: 1.1246 - accuracy: 0.4800\n",
      "Epoch 94/500\n",
      "200/200 [==============================] - 0s 590us/step - loss: 1.1219 - accuracy: 0.5300\n",
      "Epoch 95/500\n",
      "200/200 [==============================] - 0s 674us/step - loss: 1.1405 - accuracy: 0.5150\n",
      "Epoch 96/500\n",
      "200/200 [==============================] - 0s 495us/step - loss: 1.1163 - accuracy: 0.5150\n",
      "Epoch 97/500\n",
      "200/200 [==============================] - 0s 599us/step - loss: 1.1113 - accuracy: 0.5250\n",
      "Epoch 98/500\n",
      "200/200 [==============================] - 0s 504us/step - loss: 1.1420 - accuracy: 0.5100\n",
      "Epoch 99/500\n",
      "200/200 [==============================] - 0s 665us/step - loss: 1.1426 - accuracy: 0.5900\n",
      "Epoch 100/500\n",
      "200/200 [==============================] - 0s 527us/step - loss: 1.1235 - accuracy: 0.5500\n",
      "Epoch 101/500\n",
      "200/200 [==============================] - 0s 861us/step - loss: 1.1686 - accuracy: 0.4700\n",
      "Epoch 102/500\n",
      "200/200 [==============================] - 0s 410us/step - loss: 1.0898 - accuracy: 0.5050\n",
      "Epoch 103/500\n",
      "200/200 [==============================] - 0s 517us/step - loss: 1.1047 - accuracy: 0.5350\n",
      "Epoch 104/500\n",
      "200/200 [==============================] - 0s 367us/step - loss: 1.1504 - accuracy: 0.4800\n",
      "Epoch 105/500\n",
      "200/200 [==============================] - 0s 415us/step - loss: 1.0998 - accuracy: 0.5250\n",
      "Epoch 106/500\n",
      "200/200 [==============================] - 0s 389us/step - loss: 1.0659 - accuracy: 0.5500\n",
      "Epoch 107/500\n",
      "200/200 [==============================] - 0s 368us/step - loss: 1.0935 - accuracy: 0.5400\n",
      "Epoch 108/500\n",
      "200/200 [==============================] - 0s 388us/step - loss: 1.1046 - accuracy: 0.4850\n",
      "Epoch 109/500\n",
      "200/200 [==============================] - 0s 348us/step - loss: 1.1250 - accuracy: 0.5150\n",
      "Epoch 110/500\n",
      "200/200 [==============================] - 0s 496us/step - loss: 1.0667 - accuracy: 0.5600\n",
      "Epoch 111/500\n",
      "200/200 [==============================] - 0s 664us/step - loss: 1.1146 - accuracy: 0.5300\n",
      "Epoch 112/500\n",
      "200/200 [==============================] - 0s 417us/step - loss: 1.1393 - accuracy: 0.5350\n",
      "Epoch 113/500\n",
      "200/200 [==============================] - 0s 328us/step - loss: 1.0816 - accuracy: 0.5750\n",
      "Epoch 114/500\n",
      "200/200 [==============================] - 0s 328us/step - loss: 1.0957 - accuracy: 0.5050\n",
      "Epoch 115/500\n",
      "200/200 [==============================] - 0s 418us/step - loss: 1.0393 - accuracy: 0.5450\n",
      "Epoch 116/500\n",
      "200/200 [==============================] - 0s 416us/step - loss: 1.0296 - accuracy: 0.5900\n",
      "Epoch 117/500\n",
      "200/200 [==============================] - 0s 624us/step - loss: 1.1037 - accuracy: 0.5350\n",
      "Epoch 118/500\n",
      "200/200 [==============================] - 0s 576us/step - loss: 1.0560 - accuracy: 0.5600\n",
      "Epoch 119/500\n",
      "200/200 [==============================] - 0s 503us/step - loss: 1.0515 - accuracy: 0.5650\n",
      "Epoch 120/500\n",
      "200/200 [==============================] - 0s 509us/step - loss: 1.0434 - accuracy: 0.5600\n",
      "Epoch 121/500\n",
      "200/200 [==============================] - 0s 403us/step - loss: 1.0871 - accuracy: 0.5700\n",
      "Epoch 122/500\n",
      "200/200 [==============================] - 0s 504us/step - loss: 1.0444 - accuracy: 0.5650\n",
      "Epoch 123/500\n",
      "200/200 [==============================] - 0s 404us/step - loss: 1.0937 - accuracy: 0.5450\n",
      "Epoch 124/500\n",
      "200/200 [==============================] - 0s 500us/step - loss: 1.0843 - accuracy: 0.5350\n",
      "Epoch 125/500\n",
      "200/200 [==============================] - 0s 505us/step - loss: 1.0360 - accuracy: 0.5450\n",
      "Epoch 126/500\n",
      "200/200 [==============================] - 0s 495us/step - loss: 1.0701 - accuracy: 0.5500\n",
      "Epoch 127/500\n",
      "200/200 [==============================] - 0s 508us/step - loss: 1.0539 - accuracy: 0.5500\n",
      "Epoch 128/500\n",
      "200/200 [==============================] - 0s 498us/step - loss: 1.1317 - accuracy: 0.4950\n",
      "Epoch 129/500\n",
      "200/200 [==============================] - 0s 607us/step - loss: 1.1007 - accuracy: 0.5200\n",
      "Epoch 130/500\n",
      "200/200 [==============================] - 0s 1ms/step - loss: 1.0146 - accuracy: 0.5700\n",
      "Epoch 131/500\n",
      "200/200 [==============================] - 0s 1ms/step - loss: 1.0812 - accuracy: 0.5500\n",
      "Epoch 132/500\n",
      "200/200 [==============================] - 0s 2ms/step - loss: 1.0330 - accuracy: 0.5500\n",
      "Epoch 133/500\n",
      "200/200 [==============================] - 0s 638us/step - loss: 1.0360 - accuracy: 0.5250\n",
      "Epoch 134/500\n",
      "200/200 [==============================] - 0s 682us/step - loss: 1.0557 - accuracy: 0.5600\n",
      "Epoch 135/500\n",
      "200/200 [==============================] - 0s 1ms/step - loss: 1.1135 - accuracy: 0.5000\n",
      "Epoch 136/500\n",
      "200/200 [==============================] - 0s 607us/step - loss: 1.0054 - accuracy: 0.5850\n",
      "Epoch 137/500\n",
      "200/200 [==============================] - 0s 391us/step - loss: 1.0984 - accuracy: 0.5100\n",
      "Epoch 138/500\n",
      "200/200 [==============================] - 0s 524us/step - loss: 1.0284 - accuracy: 0.5650\n",
      "Epoch 139/500\n",
      "200/200 [==============================] - 0s 398us/step - loss: 1.0115 - accuracy: 0.5400\n",
      "Epoch 140/500\n",
      "200/200 [==============================] - 0s 492us/step - loss: 1.0685 - accuracy: 0.5150\n",
      "Epoch 141/500\n",
      "200/200 [==============================] - 0s 482us/step - loss: 1.0602 - accuracy: 0.5750\n",
      "Epoch 142/500\n",
      "200/200 [==============================] - 0s 441us/step - loss: 1.0602 - accuracy: 0.5550\n",
      "Epoch 143/500\n",
      "200/200 [==============================] - 0s 498us/step - loss: 1.0700 - accuracy: 0.5300\n",
      "Epoch 144/500\n",
      "200/200 [==============================] - 0s 712us/step - loss: 1.0259 - accuracy: 0.5250\n",
      "Epoch 145/500\n",
      "200/200 [==============================] - 0s 390us/step - loss: 1.0417 - accuracy: 0.5450\n",
      "Epoch 146/500\n",
      "200/200 [==============================] - 0s 514us/step - loss: 1.0130 - accuracy: 0.5600\n",
      "Epoch 147/500\n",
      "200/200 [==============================] - 0s 408us/step - loss: 1.0137 - accuracy: 0.5550\n",
      "Epoch 148/500\n",
      "200/200 [==============================] - 0s 391us/step - loss: 0.9961 - accuracy: 0.6250\n",
      "Epoch 149/500\n",
      "200/200 [==============================] - 0s 611us/step - loss: 1.0526 - accuracy: 0.5350\n",
      "Epoch 150/500\n",
      "200/200 [==============================] - 0s 469us/step - loss: 1.0292 - accuracy: 0.5500\n",
      "Epoch 151/500\n",
      "200/200 [==============================] - 0s 423us/step - loss: 1.0144 - accuracy: 0.5300\n",
      "Epoch 152/500\n",
      "200/200 [==============================] - 0s 484us/step - loss: 1.0215 - accuracy: 0.5800\n",
      "Epoch 153/500\n",
      "200/200 [==============================] - 0s 444us/step - loss: 1.0302 - accuracy: 0.5400\n",
      "Epoch 154/500\n",
      "200/200 [==============================] - 0s 775us/step - loss: 1.0224 - accuracy: 0.5350\n",
      "Epoch 155/500\n",
      "200/200 [==============================] - 0s 546us/step - loss: 0.9912 - accuracy: 0.5700\n",
      "Epoch 156/500\n",
      "200/200 [==============================] - 0s 478us/step - loss: 1.0473 - accuracy: 0.5250\n",
      "Epoch 157/500\n",
      "200/200 [==============================] - 0s 576us/step - loss: 1.0390 - accuracy: 0.5650\n",
      "Epoch 158/500\n",
      "200/200 [==============================] - 0s 386us/step - loss: 1.0432 - accuracy: 0.5600\n",
      "Epoch 159/500\n",
      "200/200 [==============================] - 0s 423us/step - loss: 1.0423 - accuracy: 0.5400\n",
      "Epoch 160/500\n",
      "200/200 [==============================] - 0s 501us/step - loss: 1.0198 - accuracy: 0.5400\n",
      "Epoch 161/500\n",
      "200/200 [==============================] - 0s 501us/step - loss: 0.9727 - accuracy: 0.5800\n",
      "Epoch 162/500\n",
      "200/200 [==============================] - 0s 813us/step - loss: 1.0107 - accuracy: 0.5950\n",
      "Epoch 163/500\n",
      "200/200 [==============================] - 0s 390us/step - loss: 0.9991 - accuracy: 0.5950\n",
      "Epoch 164/500\n",
      "200/200 [==============================] - 0s 578us/step - loss: 1.0514 - accuracy: 0.5450\n",
      "Epoch 165/500\n",
      "200/200 [==============================] - 0s 463us/step - loss: 1.0438 - accuracy: 0.5250\n",
      "Epoch 166/500\n",
      "200/200 [==============================] - 0s 681us/step - loss: 1.0049 - accuracy: 0.5500\n",
      "Epoch 167/500\n",
      "200/200 [==============================] - 0s 664us/step - loss: 0.9882 - accuracy: 0.5650\n",
      "Epoch 168/500\n",
      "200/200 [==============================] - 0s 1ms/step - loss: 1.0191 - accuracy: 0.5350\n",
      "Epoch 169/500\n",
      "200/200 [==============================] - 0s 780us/step - loss: 1.0352 - accuracy: 0.5850\n",
      "Epoch 170/500\n",
      "200/200 [==============================] - 0s 537us/step - loss: 1.0371 - accuracy: 0.5650\n",
      "Epoch 171/500\n",
      "200/200 [==============================] - 0s 401us/step - loss: 0.9884 - accuracy: 0.5400\n",
      "Epoch 172/500\n",
      "200/200 [==============================] - 0s 584us/step - loss: 1.0269 - accuracy: 0.5550\n",
      "Epoch 173/500\n",
      "200/200 [==============================] - 0s 416us/step - loss: 1.0112 - accuracy: 0.5650\n",
      "Epoch 174/500\n",
      "200/200 [==============================] - 0s 423us/step - loss: 1.0426 - accuracy: 0.5350\n",
      "Epoch 175/500\n",
      "200/200 [==============================] - 0s 423us/step - loss: 0.9777 - accuracy: 0.5650\n",
      "Epoch 176/500\n",
      "200/200 [==============================] - 0s 501us/step - loss: 1.0146 - accuracy: 0.5850\n",
      "Epoch 177/500\n",
      "200/200 [==============================] - 0s 619us/step - loss: 1.0300 - accuracy: 0.5650\n",
      "Epoch 178/500\n",
      "200/200 [==============================] - 0s 608us/step - loss: 1.0092 - accuracy: 0.5650\n",
      "Epoch 179/500\n",
      "200/200 [==============================] - 0s 398us/step - loss: 0.9716 - accuracy: 0.5950\n",
      "Epoch 180/500\n",
      "200/200 [==============================] - 0s 710us/step - loss: 0.9760 - accuracy: 0.5800\n",
      "Epoch 181/500\n",
      "200/200 [==============================] - 0s 391us/step - loss: 0.9694 - accuracy: 0.6000\n",
      "Epoch 182/500\n",
      "200/200 [==============================] - 0s 390us/step - loss: 0.9911 - accuracy: 0.5600\n",
      "Epoch 183/500\n",
      "200/200 [==============================] - 0s 456us/step - loss: 1.0274 - accuracy: 0.5250\n",
      "Epoch 184/500\n",
      "200/200 [==============================] - 0s 501us/step - loss: 1.0333 - accuracy: 0.5650\n",
      "Epoch 185/500\n",
      "200/200 [==============================] - 0s 698us/step - loss: 1.0290 - accuracy: 0.5600\n",
      "Epoch 186/500\n",
      "200/200 [==============================] - 0s 660us/step - loss: 0.9568 - accuracy: 0.5500\n",
      "Epoch 187/500\n",
      "200/200 [==============================] - 0s 455us/step - loss: 1.0033 - accuracy: 0.5650\n",
      "Epoch 188/500\n",
      "200/200 [==============================] - 0s 403us/step - loss: 0.9577 - accuracy: 0.5500\n",
      "Epoch 189/500\n",
      "200/200 [==============================] - 0s 604us/step - loss: 0.9772 - accuracy: 0.5750\n",
      "Epoch 190/500\n",
      "200/200 [==============================] - 0s 501us/step - loss: 0.9676 - accuracy: 0.5850\n",
      "Epoch 191/500\n",
      "200/200 [==============================] - 0s 500us/step - loss: 0.9912 - accuracy: 0.5700\n",
      "Epoch 192/500\n",
      "200/200 [==============================] - 0s 671us/step - loss: 0.9730 - accuracy: 0.5400\n",
      "Epoch 193/500\n",
      "200/200 [==============================] - 0s 394us/step - loss: 0.9441 - accuracy: 0.5850\n",
      "Epoch 194/500\n",
      "200/200 [==============================] - 0s 541us/step - loss: 0.9576 - accuracy: 0.6100\n",
      "Epoch 195/500\n",
      "200/200 [==============================] - 0s 559us/step - loss: 1.0066 - accuracy: 0.5250\n",
      "Epoch 196/500\n",
      "200/200 [==============================] - 0s 724us/step - loss: 0.9588 - accuracy: 0.5950\n",
      "Epoch 197/500\n",
      "200/200 [==============================] - 0s 620us/step - loss: 0.9956 - accuracy: 0.5600\n",
      "Epoch 198/500\n",
      "200/200 [==============================] - 0s 483us/step - loss: 1.0347 - accuracy: 0.5500\n",
      "Epoch 199/500\n",
      "200/200 [==============================] - 0s 423us/step - loss: 1.0053 - accuracy: 0.5800\n",
      "Epoch 200/500\n",
      "200/200 [==============================] - 0s 578us/step - loss: 1.0349 - accuracy: 0.5350\n",
      "Epoch 201/500\n",
      "200/200 [==============================] - 0s 421us/step - loss: 0.9956 - accuracy: 0.5650\n",
      "Epoch 202/500\n",
      "200/200 [==============================] - 0s 574us/step - loss: 1.0259 - accuracy: 0.5550\n",
      "Epoch 203/500\n",
      "200/200 [==============================] - 0s 428us/step - loss: 0.9611 - accuracy: 0.5750\n",
      "Epoch 204/500\n",
      "200/200 [==============================] - 0s 643us/step - loss: 1.0182 - accuracy: 0.5350\n",
      "Epoch 205/500\n",
      "200/200 [==============================] - 0s 417us/step - loss: 1.0286 - accuracy: 0.5200\n",
      "Epoch 206/500\n",
      "200/200 [==============================] - 0s 479us/step - loss: 1.0023 - accuracy: 0.5450\n",
      "Epoch 207/500\n",
      "200/200 [==============================] - 0s 392us/step - loss: 0.9784 - accuracy: 0.5550\n",
      "Epoch 208/500\n",
      "200/200 [==============================] - 0s 942us/step - loss: 0.9886 - accuracy: 0.5500\n",
      "Epoch 209/500\n",
      "200/200 [==============================] - 0s 451us/step - loss: 0.9988 - accuracy: 0.5400\n",
      "Epoch 210/500\n",
      "200/200 [==============================] - 0s 423us/step - loss: 0.9899 - accuracy: 0.5650\n",
      "Epoch 211/500\n",
      "200/200 [==============================] - 0s 616us/step - loss: 0.9740 - accuracy: 0.5650\n",
      "Epoch 212/500\n",
      "200/200 [==============================] - 0s 515us/step - loss: 1.0026 - accuracy: 0.5800\n",
      "Epoch 213/500\n",
      "200/200 [==============================] - 0s 369us/step - loss: 0.9732 - accuracy: 0.5550\n",
      "Epoch 214/500\n",
      "200/200 [==============================] - 0s 393us/step - loss: 1.0025 - accuracy: 0.5500\n",
      "Epoch 215/500\n",
      "200/200 [==============================] - 0s 582us/step - loss: 0.9818 - accuracy: 0.5400\n",
      "Epoch 216/500\n",
      "200/200 [==============================] - 0s 917us/step - loss: 0.9803 - accuracy: 0.5700\n",
      "Epoch 217/500\n",
      "200/200 [==============================] - 0s 501us/step - loss: 0.9943 - accuracy: 0.5650\n",
      "Epoch 218/500\n",
      "200/200 [==============================] - 0s 562us/step - loss: 0.9468 - accuracy: 0.6050\n",
      "Epoch 219/500\n",
      "200/200 [==============================] - 0s 822us/step - loss: 1.0058 - accuracy: 0.5500\n",
      "Epoch 220/500\n",
      "200/200 [==============================] - 0s 442us/step - loss: 1.0156 - accuracy: 0.5050\n",
      "Epoch 221/500\n",
      "200/200 [==============================] - 0s 433us/step - loss: 1.0018 - accuracy: 0.5250\n",
      "Epoch 222/500\n",
      "200/200 [==============================] - 0s 423us/step - loss: 0.9854 - accuracy: 0.5650\n",
      "Epoch 223/500\n",
      "200/200 [==============================] - 0s 600us/step - loss: 0.9941 - accuracy: 0.5650\n",
      "Epoch 224/500\n",
      "200/200 [==============================] - 0s 478us/step - loss: 1.0093 - accuracy: 0.5600\n",
      "Epoch 225/500\n",
      "200/200 [==============================] - 0s 424us/step - loss: 0.9463 - accuracy: 0.6050\n",
      "Epoch 226/500\n",
      "200/200 [==============================] - 0s 572us/step - loss: 0.9704 - accuracy: 0.5700\n",
      "Epoch 227/500\n",
      "200/200 [==============================] - 0s 740us/step - loss: 1.0119 - accuracy: 0.5500\n",
      "Epoch 228/500\n",
      "200/200 [==============================] - 0s 489us/step - loss: 1.0035 - accuracy: 0.5500\n",
      "Epoch 229/500\n",
      "200/200 [==============================] - 0s 449us/step - loss: 0.9587 - accuracy: 0.5900\n",
      "Epoch 230/500\n",
      "200/200 [==============================] - 0s 501us/step - loss: 1.0044 - accuracy: 0.5500\n",
      "Epoch 231/500\n",
      "200/200 [==============================] - 0s 648us/step - loss: 0.9599 - accuracy: 0.5950\n",
      "Epoch 232/500\n",
      "200/200 [==============================] - 0s 521us/step - loss: 0.9799 - accuracy: 0.5350\n",
      "Epoch 233/500\n",
      "200/200 [==============================] - 0s 391us/step - loss: 0.9754 - accuracy: 0.5800\n",
      "Epoch 234/500\n",
      "200/200 [==============================] - 0s 529us/step - loss: 0.9642 - accuracy: 0.5550\n",
      "Epoch 235/500\n",
      "200/200 [==============================] - 0s 730us/step - loss: 0.9801 - accuracy: 0.5800\n",
      "Epoch 236/500\n",
      "200/200 [==============================] - 0s 533us/step - loss: 0.9666 - accuracy: 0.5800\n",
      "Epoch 237/500\n",
      "200/200 [==============================] - 0s 468us/step - loss: 0.9954 - accuracy: 0.5450\n",
      "Epoch 238/500\n",
      "200/200 [==============================] - 0s 363us/step - loss: 0.9715 - accuracy: 0.5700\n",
      "Epoch 239/500\n",
      "200/200 [==============================] - 0s 767us/step - loss: 0.9830 - accuracy: 0.5150\n",
      "Epoch 240/500\n",
      "200/200 [==============================] - 0s 423us/step - loss: 0.9916 - accuracy: 0.5800\n",
      "Epoch 241/500\n",
      "200/200 [==============================] - 0s 423us/step - loss: 0.9654 - accuracy: 0.5300\n",
      "Epoch 242/500\n",
      "200/200 [==============================] - 0s 732us/step - loss: 0.9667 - accuracy: 0.5650\n",
      "Epoch 243/500\n",
      "200/200 [==============================] - 0s 431us/step - loss: 0.9625 - accuracy: 0.5800\n",
      "Epoch 244/500\n",
      "200/200 [==============================] - 0s 436us/step - loss: 0.9973 - accuracy: 0.5500\n",
      "Epoch 245/500\n",
      "200/200 [==============================] - 0s 453us/step - loss: 0.9691 - accuracy: 0.5500\n",
      "Epoch 246/500\n",
      "200/200 [==============================] - 0s 537us/step - loss: 0.9857 - accuracy: 0.5150\n",
      "Epoch 247/500\n",
      "200/200 [==============================] - 0s 918us/step - loss: 0.9488 - accuracy: 0.5750\n",
      "Epoch 248/500\n",
      "200/200 [==============================] - 0s 423us/step - loss: 0.9622 - accuracy: 0.6000\n",
      "Epoch 249/500\n",
      "200/200 [==============================] - 0s 421us/step - loss: 0.9168 - accuracy: 0.5900\n",
      "Epoch 250/500\n",
      "200/200 [==============================] - 0s 550us/step - loss: 1.0325 - accuracy: 0.5300\n",
      "Epoch 251/500\n",
      "200/200 [==============================] - 0s 518us/step - loss: 0.9201 - accuracy: 0.5850\n",
      "Epoch 252/500\n",
      "200/200 [==============================] - 0s 384us/step - loss: 1.0400 - accuracy: 0.5100\n",
      "Epoch 253/500\n",
      "200/200 [==============================] - 0s 433us/step - loss: 0.9733 - accuracy: 0.5550\n",
      "Epoch 254/500\n",
      "200/200 [==============================] - 0s 458us/step - loss: 1.0136 - accuracy: 0.5500\n",
      "Epoch 255/500\n",
      "200/200 [==============================] - 0s 468us/step - loss: 0.9525 - accuracy: 0.6100\n",
      "Epoch 256/500\n",
      "200/200 [==============================] - 0s 577us/step - loss: 0.9698 - accuracy: 0.5550\n",
      "Epoch 257/500\n",
      "200/200 [==============================] - 0s 396us/step - loss: 0.9922 - accuracy: 0.5550\n",
      "Epoch 258/500\n",
      "200/200 [==============================] - 0s 423us/step - loss: 0.9645 - accuracy: 0.5850\n",
      "Epoch 259/500\n",
      "200/200 [==============================] - 0s 345us/step - loss: 0.9454 - accuracy: 0.5950\n",
      "Epoch 260/500\n",
      "200/200 [==============================] - 0s 422us/step - loss: 0.9557 - accuracy: 0.5900\n",
      "Epoch 261/500\n",
      "200/200 [==============================] - 0s 698us/step - loss: 0.9662 - accuracy: 0.5650\n",
      "Epoch 262/500\n",
      "200/200 [==============================] - 0s 505us/step - loss: 1.0018 - accuracy: 0.5400\n",
      "Epoch 263/500\n",
      "200/200 [==============================] - 0s 468us/step - loss: 0.9494 - accuracy: 0.5900\n",
      "Epoch 264/500\n",
      "200/200 [==============================] - 0s 423us/step - loss: 0.9850 - accuracy: 0.5450\n",
      "Epoch 265/500\n",
      "200/200 [==============================] - 0s 565us/step - loss: 0.9466 - accuracy: 0.5800\n",
      "Epoch 266/500\n",
      "200/200 [==============================] - 0s 378us/step - loss: 0.9860 - accuracy: 0.5350\n",
      "Epoch 267/500\n",
      "200/200 [==============================] - 0s 421us/step - loss: 0.9532 - accuracy: 0.5300\n",
      "Epoch 268/500\n",
      "200/200 [==============================] - 0s 312us/step - loss: 0.9563 - accuracy: 0.6000\n",
      "Epoch 269/500\n",
      "200/200 [==============================] - 0s 345us/step - loss: 0.9430 - accuracy: 0.5950\n",
      "Epoch 270/500\n",
      "200/200 [==============================] - 0s 689us/step - loss: 0.9731 - accuracy: 0.5550\n",
      "Epoch 271/500\n",
      "200/200 [==============================] - 0s 500us/step - loss: 0.9442 - accuracy: 0.5600\n",
      "Epoch 272/500\n",
      "200/200 [==============================] - 0s 469us/step - loss: 0.9599 - accuracy: 0.6050\n",
      "Epoch 273/500\n",
      "200/200 [==============================] - 0s 423us/step - loss: 0.9636 - accuracy: 0.5600\n",
      "Epoch 274/500\n",
      "200/200 [==============================] - 0s 351us/step - loss: 0.9783 - accuracy: 0.4950\n",
      "Epoch 275/500\n",
      "200/200 [==============================] - 0s 683us/step - loss: 0.9637 - accuracy: 0.5550\n",
      "Epoch 276/500\n",
      "200/200 [==============================] - 0s 391us/step - loss: 0.9466 - accuracy: 0.5900\n",
      "Epoch 277/500\n",
      "200/200 [==============================] - 0s 423us/step - loss: 1.0007 - accuracy: 0.5100\n",
      "Epoch 278/500\n",
      "200/200 [==============================] - 0s 429us/step - loss: 0.9543 - accuracy: 0.5350\n",
      "Epoch 279/500\n",
      "200/200 [==============================] - 0s 687us/step - loss: 0.9246 - accuracy: 0.5950\n",
      "Epoch 280/500\n",
      "200/200 [==============================] - 0s 391us/step - loss: 0.9124 - accuracy: 0.5850\n",
      "Epoch 281/500\n",
      "200/200 [==============================] - 0s 501us/step - loss: 0.9510 - accuracy: 0.5400\n",
      "Epoch 282/500\n",
      "200/200 [==============================] - 0s 423us/step - loss: 0.9647 - accuracy: 0.5650\n",
      "Epoch 283/500\n",
      "200/200 [==============================] - 0s 589us/step - loss: 0.9359 - accuracy: 0.5750\n",
      "Epoch 284/500\n",
      "200/200 [==============================] - 0s 357us/step - loss: 0.9715 - accuracy: 0.5300\n",
      "Epoch 285/500\n",
      "200/200 [==============================] - 0s 299us/step - loss: 0.9440 - accuracy: 0.6050\n",
      "Epoch 286/500\n",
      "200/200 [==============================] - 0s 345us/step - loss: 0.9791 - accuracy: 0.5600\n",
      "Epoch 287/500\n",
      "200/200 [==============================] - 0s 345us/step - loss: 0.9639 - accuracy: 0.5800\n",
      "Epoch 288/500\n",
      "200/200 [==============================] - 0s 775us/step - loss: 0.9933 - accuracy: 0.5550\n",
      "Epoch 289/500\n",
      "200/200 [==============================] - 0s 426us/step - loss: 0.9216 - accuracy: 0.6100\n",
      "Epoch 290/500\n",
      "200/200 [==============================] - 0s 380us/step - loss: 0.9443 - accuracy: 0.5550\n",
      "Epoch 291/500\n",
      "200/200 [==============================] - 0s 423us/step - loss: 0.9639 - accuracy: 0.5550\n",
      "Epoch 292/500\n",
      "200/200 [==============================] - 0s 700us/step - loss: 0.9444 - accuracy: 0.5750\n",
      "Epoch 293/500\n",
      "200/200 [==============================] - 0s 456us/step - loss: 0.9459 - accuracy: 0.5600\n",
      "Epoch 294/500\n",
      "200/200 [==============================] - 0s 345us/step - loss: 0.9461 - accuracy: 0.5550\n",
      "Epoch 295/500\n",
      "200/200 [==============================] - 0s 356us/step - loss: 0.9548 - accuracy: 0.5300\n",
      "Epoch 296/500\n",
      "200/200 [==============================] - 0s 356us/step - loss: 0.9459 - accuracy: 0.5600\n",
      "Epoch 297/500\n",
      "200/200 [==============================] - 0s 594us/step - loss: 0.9883 - accuracy: 0.5200\n",
      "Epoch 298/500\n",
      "200/200 [==============================] - 0s 550us/step - loss: 0.9674 - accuracy: 0.5550\n",
      "Epoch 299/500\n",
      "200/200 [==============================] - 0s 501us/step - loss: 0.9572 - accuracy: 0.5850\n",
      "Epoch 300/500\n",
      "200/200 [==============================] - 0s 439us/step - loss: 0.9548 - accuracy: 0.5650\n",
      "Epoch 301/500\n",
      "200/200 [==============================] - 0s 806us/step - loss: 0.9389 - accuracy: 0.5500\n",
      "Epoch 302/500\n",
      "200/200 [==============================] - 0s 569us/step - loss: 0.9362 - accuracy: 0.5800\n",
      "Epoch 303/500\n",
      "200/200 [==============================] - 0s 611us/step - loss: 0.9232 - accuracy: 0.5700\n",
      "Epoch 304/500\n",
      "200/200 [==============================] - 0s 344us/step - loss: 0.9357 - accuracy: 0.5900\n",
      "Epoch 305/500\n",
      "200/200 [==============================] - 0s 1ms/step - loss: 0.9099 - accuracy: 0.5900\n",
      "Epoch 306/500\n",
      "200/200 [==============================] - 0s 423us/step - loss: 0.9169 - accuracy: 0.6050\n",
      "Epoch 307/500\n",
      "200/200 [==============================] - 0s 376us/step - loss: 0.9410 - accuracy: 0.5900\n",
      "Epoch 308/500\n",
      "200/200 [==============================] - 0s 400us/step - loss: 0.9420 - accuracy: 0.5750\n",
      "Epoch 309/500\n",
      "200/200 [==============================] - 0s 577us/step - loss: 0.9287 - accuracy: 0.5450\n",
      "Epoch 310/500\n",
      "200/200 [==============================] - 0s 469us/step - loss: 0.9430 - accuracy: 0.5750\n",
      "Epoch 311/500\n",
      "200/200 [==============================] - 0s 393us/step - loss: 0.9260 - accuracy: 0.5600\n",
      "Epoch 312/500\n",
      "200/200 [==============================] - 0s 345us/step - loss: 0.9484 - accuracy: 0.5450\n",
      "Epoch 313/500\n",
      "200/200 [==============================] - 0s 345us/step - loss: 0.9474 - accuracy: 0.5650\n",
      "Epoch 314/500\n",
      "200/200 [==============================] - 0s 756us/step - loss: 0.9056 - accuracy: 0.6000\n",
      "Epoch 315/500\n",
      "200/200 [==============================] - 0s 323us/step - loss: 0.9351 - accuracy: 0.5550\n",
      "Epoch 316/500\n",
      "200/200 [==============================] - 0s 422us/step - loss: 0.9840 - accuracy: 0.5150\n",
      "Epoch 317/500\n",
      "200/200 [==============================] - 0s 391us/step - loss: 0.9329 - accuracy: 0.5750\n",
      "Epoch 318/500\n",
      "200/200 [==============================] - 0s 312us/step - loss: 0.9228 - accuracy: 0.5650\n",
      "Epoch 319/500\n",
      "200/200 [==============================] - 0s 536us/step - loss: 0.9450 - accuracy: 0.5700\n",
      "Epoch 320/500\n",
      "200/200 [==============================] - 0s 387us/step - loss: 0.9480 - accuracy: 0.5650\n",
      "Epoch 321/500\n",
      "200/200 [==============================] - 0s 425us/step - loss: 0.9372 - accuracy: 0.5700\n",
      "Epoch 322/500\n",
      "200/200 [==============================] - 0s 400us/step - loss: 0.9468 - accuracy: 0.5800\n",
      "Epoch 323/500\n",
      "200/200 [==============================] - 0s 689us/step - loss: 0.9295 - accuracy: 0.5850\n",
      "Epoch 324/500\n",
      "200/200 [==============================] - 0s 500us/step - loss: 0.9811 - accuracy: 0.5550\n",
      "Epoch 325/500\n",
      "200/200 [==============================] - 0s 391us/step - loss: 0.9357 - accuracy: 0.5850\n",
      "Epoch 326/500\n",
      "200/200 [==============================] - 0s 367us/step - loss: 0.9425 - accuracy: 0.5600\n",
      "Epoch 327/500\n",
      "200/200 [==============================] - 0s 380us/step - loss: 0.9826 - accuracy: 0.5550\n",
      "Epoch 328/500\n",
      "200/200 [==============================] - 0s 766us/step - loss: 0.9602 - accuracy: 0.5700\n",
      "Epoch 329/500\n",
      "200/200 [==============================] - 0s 415us/step - loss: 0.9258 - accuracy: 0.5650\n",
      "Epoch 330/500\n",
      "200/200 [==============================] - 0s 476us/step - loss: 0.9148 - accuracy: 0.5750\n",
      "Epoch 331/500\n",
      "200/200 [==============================] - 0s 500us/step - loss: 0.9649 - accuracy: 0.5900\n",
      "Epoch 332/500\n",
      "200/200 [==============================] - 0s 999us/step - loss: 0.9106 - accuracy: 0.5800\n",
      "Epoch 333/500\n",
      "200/200 [==============================] - 0s 447us/step - loss: 0.8962 - accuracy: 0.6050\n",
      "Epoch 334/500\n",
      "200/200 [==============================] - 0s 510us/step - loss: 0.9258 - accuracy: 0.5900\n",
      "Epoch 335/500\n",
      "200/200 [==============================] - 0s 404us/step - loss: 0.9422 - accuracy: 0.5650\n",
      "Epoch 336/500\n",
      "200/200 [==============================] - 0s 575us/step - loss: 0.9196 - accuracy: 0.5550\n",
      "Epoch 337/500\n",
      "200/200 [==============================] - 0s 378us/step - loss: 0.9566 - accuracy: 0.5700\n",
      "Epoch 338/500\n",
      "200/200 [==============================] - 0s 382us/step - loss: 0.9106 - accuracy: 0.5200\n",
      "Epoch 339/500\n",
      "200/200 [==============================] - 0s 391us/step - loss: 0.9588 - accuracy: 0.6100\n",
      "Epoch 340/500\n",
      "200/200 [==============================] - 0s 323us/step - loss: 0.9694 - accuracy: 0.5550\n",
      "Epoch 341/500\n",
      "200/200 [==============================] - 0s 981us/step - loss: 0.9215 - accuracy: 0.5600\n",
      "Epoch 342/500\n",
      "200/200 [==============================] - 0s 391us/step - loss: 0.9290 - accuracy: 0.5900\n",
      "Epoch 343/500\n",
      "200/200 [==============================] - 0s 345us/step - loss: 0.9549 - accuracy: 0.5900\n",
      "Epoch 344/500\n",
      "200/200 [==============================] - 0s 345us/step - loss: 0.9555 - accuracy: 0.5550\n",
      "Epoch 345/500\n",
      "200/200 [==============================] - 0s 525us/step - loss: 0.9637 - accuracy: 0.5900\n",
      "Epoch 346/500\n",
      "200/200 [==============================] - 0s 408us/step - loss: 0.9216 - accuracy: 0.5650\n",
      "Epoch 347/500\n",
      "200/200 [==============================] - 0s 345us/step - loss: 0.8937 - accuracy: 0.6150\n",
      "Epoch 348/500\n",
      "200/200 [==============================] - 0s 501us/step - loss: 0.9521 - accuracy: 0.5750\n",
      "Epoch 349/500\n",
      "200/200 [==============================] - 0s 501us/step - loss: 0.9269 - accuracy: 0.5750\n",
      "Epoch 350/500\n",
      "200/200 [==============================] - 0s 871us/step - loss: 0.9657 - accuracy: 0.5600\n",
      "Epoch 351/500\n",
      "200/200 [==============================] - 0s 364us/step - loss: 0.9215 - accuracy: 0.5700\n",
      "Epoch 352/500\n",
      "200/200 [==============================] - 0s 345us/step - loss: 0.9373 - accuracy: 0.5750\n",
      "Epoch 353/500\n",
      "200/200 [==============================] - 0s 351us/step - loss: 0.9119 - accuracy: 0.5800\n",
      "Epoch 354/500\n",
      "200/200 [==============================] - 0s 379us/step - loss: 0.9599 - accuracy: 0.5550\n",
      "Epoch 355/500\n",
      "200/200 [==============================] - 0s 604us/step - loss: 0.9316 - accuracy: 0.5950\n",
      "Epoch 356/500\n",
      "200/200 [==============================] - 0s 337us/step - loss: 0.9333 - accuracy: 0.5700\n",
      "Epoch 357/500\n",
      "200/200 [==============================] - 0s 312us/step - loss: 0.9492 - accuracy: 0.5700\n",
      "Epoch 358/500\n",
      "200/200 [==============================] - 0s 392us/step - loss: 0.9562 - accuracy: 0.5600\n",
      "Epoch 359/500\n",
      "200/200 [==============================] - 0s 438us/step - loss: 0.9717 - accuracy: 0.5600\n",
      "Epoch 360/500\n",
      "200/200 [==============================] - 0s 937us/step - loss: 0.8947 - accuracy: 0.6250\n",
      "Epoch 361/500\n",
      "200/200 [==============================] - 0s 365us/step - loss: 0.9152 - accuracy: 0.5800\n",
      "Epoch 362/500\n",
      "200/200 [==============================] - 0s 484us/step - loss: 0.9258 - accuracy: 0.5600\n",
      "Epoch 363/500\n",
      "200/200 [==============================] - 0s 416us/step - loss: 0.9590 - accuracy: 0.5650\n",
      "Epoch 364/500\n",
      "200/200 [==============================] - 0s 810us/step - loss: 0.9441 - accuracy: 0.5950\n",
      "Epoch 365/500\n",
      "200/200 [==============================] - 0s 347us/step - loss: 0.9509 - accuracy: 0.5500\n",
      "Epoch 366/500\n",
      "200/200 [==============================] - 0s 345us/step - loss: 0.9392 - accuracy: 0.5600\n",
      "Epoch 367/500\n",
      "200/200 [==============================] - 0s 423us/step - loss: 0.9239 - accuracy: 0.5800\n",
      "Epoch 368/500\n",
      "200/200 [==============================] - 0s 458us/step - loss: 0.9462 - accuracy: 0.5800\n",
      "Epoch 369/500\n",
      "200/200 [==============================] - 0s 780us/step - loss: 0.8973 - accuracy: 0.6150\n",
      "Epoch 370/500\n",
      "200/200 [==============================] - 0s 501us/step - loss: 0.9589 - accuracy: 0.5450\n",
      "Epoch 371/500\n",
      "200/200 [==============================] - 0s 345us/step - loss: 0.9189 - accuracy: 0.5750\n",
      "Epoch 372/500\n",
      "200/200 [==============================] - 0s 345us/step - loss: 0.9386 - accuracy: 0.5700\n",
      "Epoch 373/500\n",
      "200/200 [==============================] - 0s 772us/step - loss: 0.9525 - accuracy: 0.5600\n",
      "Epoch 374/500\n",
      "200/200 [==============================] - 0s 463us/step - loss: 0.9346 - accuracy: 0.5700\n",
      "Epoch 375/500\n",
      "200/200 [==============================] - 0s 444us/step - loss: 0.9245 - accuracy: 0.6000\n",
      "Epoch 376/500\n",
      "200/200 [==============================] - 0s 381us/step - loss: 0.9231 - accuracy: 0.6050\n",
      "Epoch 377/500\n",
      "200/200 [==============================] - 0s 718us/step - loss: 0.9659 - accuracy: 0.5600\n",
      "Epoch 378/500\n",
      "200/200 [==============================] - 0s 324us/step - loss: 0.9187 - accuracy: 0.5750\n",
      "Epoch 379/500\n",
      "200/200 [==============================] - 0s 458us/step - loss: 0.9374 - accuracy: 0.5650\n",
      "Epoch 380/500\n",
      "200/200 [==============================] - 0s 423us/step - loss: 0.9081 - accuracy: 0.5900\n",
      "Epoch 381/500\n",
      "200/200 [==============================] - 0s 629us/step - loss: 0.9255 - accuracy: 0.5500\n",
      "Epoch 382/500\n",
      "200/200 [==============================] - 0s 661us/step - loss: 0.9491 - accuracy: 0.5350\n",
      "Epoch 383/500\n",
      "200/200 [==============================] - 0s 401us/step - loss: 0.9349 - accuracy: 0.5750\n",
      "Epoch 384/500\n",
      "200/200 [==============================] - 0s 469us/step - loss: 0.9321 - accuracy: 0.5950\n",
      "Epoch 385/500\n",
      "200/200 [==============================] - 0s 361us/step - loss: 0.9297 - accuracy: 0.5850\n",
      "Epoch 386/500\n",
      "200/200 [==============================] - 0s 1ms/step - loss: 0.9040 - accuracy: 0.5700\n",
      "Epoch 387/500\n",
      "200/200 [==============================] - 0s 422us/step - loss: 0.8905 - accuracy: 0.6000\n",
      "Epoch 388/500\n",
      "200/200 [==============================] - 0s 516us/step - loss: 0.9717 - accuracy: 0.5650\n",
      "Epoch 389/500\n",
      "200/200 [==============================] - 0s 825us/step - loss: 0.9299 - accuracy: 0.5700\n",
      "Epoch 390/500\n",
      "200/200 [==============================] - 0s 380us/step - loss: 0.9422 - accuracy: 0.5800\n",
      "Epoch 391/500\n",
      "200/200 [==============================] - 0s 345us/step - loss: 0.9577 - accuracy: 0.5600\n",
      "Epoch 392/500\n",
      "200/200 [==============================] - 0s 343us/step - loss: 0.9138 - accuracy: 0.5550\n",
      "Epoch 393/500\n",
      "200/200 [==============================] - 0s 921us/step - loss: 0.9446 - accuracy: 0.5350\n",
      "Epoch 394/500\n",
      "200/200 [==============================] - 0s 447us/step - loss: 0.9299 - accuracy: 0.5750\n",
      "Epoch 395/500\n",
      "200/200 [==============================] - 0s 449us/step - loss: 0.9470 - accuracy: 0.5650\n",
      "Epoch 396/500\n",
      "200/200 [==============================] - 0s 882us/step - loss: 0.9499 - accuracy: 0.5650\n",
      "Epoch 397/500\n",
      "200/200 [==============================] - 0s 473us/step - loss: 0.8878 - accuracy: 0.5650\n",
      "Epoch 398/500\n",
      "200/200 [==============================] - 0s 378us/step - loss: 0.9338 - accuracy: 0.5500\n",
      "Epoch 399/500\n",
      "200/200 [==============================] - 0s 396us/step - loss: 0.9163 - accuracy: 0.5650\n",
      "Epoch 400/500\n",
      "200/200 [==============================] - 0s 501us/step - loss: 0.9295 - accuracy: 0.5800\n",
      "Epoch 401/500\n",
      "200/200 [==============================] - 0s 391us/step - loss: 0.9035 - accuracy: 0.5700\n",
      "Epoch 402/500\n",
      "200/200 [==============================] - 0s 427us/step - loss: 0.9204 - accuracy: 0.5900\n",
      "Epoch 403/500\n",
      "200/200 [==============================] - 0s 351us/step - loss: 0.9332 - accuracy: 0.5300\n",
      "Epoch 404/500\n",
      "200/200 [==============================] - 0s 299us/step - loss: 0.9392 - accuracy: 0.5700\n",
      "Epoch 405/500\n",
      "200/200 [==============================] - 0s 923us/step - loss: 0.9044 - accuracy: 0.5500\n",
      "Epoch 406/500\n",
      "200/200 [==============================] - 0s 501us/step - loss: 0.9220 - accuracy: 0.5900\n",
      "Epoch 407/500\n",
      "200/200 [==============================] - 0s 390us/step - loss: 0.9429 - accuracy: 0.5750\n",
      "Epoch 408/500\n",
      "200/200 [==============================] - 0s 299us/step - loss: 0.8937 - accuracy: 0.5700\n",
      "Epoch 409/500\n",
      "200/200 [==============================] - 0s 656us/step - loss: 0.8896 - accuracy: 0.5850\n",
      "Epoch 410/500\n",
      "200/200 [==============================] - 0s 423us/step - loss: 0.9329 - accuracy: 0.5800\n",
      "Epoch 411/500\n",
      "200/200 [==============================] - 0s 423us/step - loss: 0.9249 - accuracy: 0.5850\n",
      "Epoch 412/500\n",
      "200/200 [==============================] - 0s 345us/step - loss: 0.9483 - accuracy: 0.5250\n",
      "Epoch 413/500\n",
      "200/200 [==============================] - 0s 543us/step - loss: 0.9071 - accuracy: 0.5450\n",
      "Epoch 414/500\n",
      "200/200 [==============================] - 0s 612us/step - loss: 0.9228 - accuracy: 0.5800\n",
      "Epoch 415/500\n",
      "200/200 [==============================] - 0s 423us/step - loss: 0.9470 - accuracy: 0.5800\n",
      "Epoch 416/500\n",
      "200/200 [==============================] - 0s 501us/step - loss: 0.9203 - accuracy: 0.6000\n",
      "Epoch 417/500\n",
      "200/200 [==============================] - 0s 345us/step - loss: 0.9088 - accuracy: 0.5850\n",
      "Epoch 418/500\n",
      "200/200 [==============================] - 0s 498us/step - loss: 0.9164 - accuracy: 0.5650\n",
      "Epoch 419/500\n",
      "200/200 [==============================] - 0s 423us/step - loss: 0.9107 - accuracy: 0.5850\n",
      "Epoch 420/500\n",
      "200/200 [==============================] - 0s 500us/step - loss: 0.9162 - accuracy: 0.5850\n",
      "Epoch 421/500\n",
      "200/200 [==============================] - 0s 499us/step - loss: 0.9197 - accuracy: 0.5650\n",
      "Epoch 422/500\n",
      "200/200 [==============================] - 0s 762us/step - loss: 0.9343 - accuracy: 0.5400\n",
      "Epoch 423/500\n",
      "200/200 [==============================] - 0s 474us/step - loss: 0.9143 - accuracy: 0.5950\n",
      "Epoch 424/500\n",
      "200/200 [==============================] - 0s 423us/step - loss: 0.9586 - accuracy: 0.5800\n",
      "Epoch 425/500\n",
      "200/200 [==============================] - 0s 481us/step - loss: 0.9073 - accuracy: 0.5750\n",
      "Epoch 426/500\n",
      "200/200 [==============================] - 0s 593us/step - loss: 0.8910 - accuracy: 0.5900\n",
      "Epoch 427/500\n",
      "200/200 [==============================] - 0s 484us/step - loss: 0.9427 - accuracy: 0.5750\n",
      "Epoch 428/500\n",
      "200/200 [==============================] - 0s 578us/step - loss: 0.9241 - accuracy: 0.5850\n",
      "Epoch 429/500\n",
      "200/200 [==============================] - 0s 421us/step - loss: 0.9227 - accuracy: 0.5800\n",
      "Epoch 430/500\n",
      "200/200 [==============================] - 0s 423us/step - loss: 0.9243 - accuracy: 0.5800\n",
      "Epoch 431/500\n",
      "200/200 [==============================] - 0s 683us/step - loss: 0.9240 - accuracy: 0.5400\n",
      "Epoch 432/500\n",
      "200/200 [==============================] - 0s 474us/step - loss: 0.8990 - accuracy: 0.5650\n",
      "Epoch 433/500\n",
      "200/200 [==============================] - 0s 423us/step - loss: 0.9115 - accuracy: 0.5850\n",
      "Epoch 434/500\n",
      "200/200 [==============================] - 0s 450us/step - loss: 0.9700 - accuracy: 0.5650\n",
      "Epoch 435/500\n",
      "200/200 [==============================] - 0s 749us/step - loss: 0.9366 - accuracy: 0.5600\n",
      "Epoch 436/500\n",
      "200/200 [==============================] - 0s 483us/step - loss: 0.8783 - accuracy: 0.5900\n",
      "Epoch 437/500\n",
      "200/200 [==============================] - 0s 500us/step - loss: 0.9859 - accuracy: 0.5750\n",
      "Epoch 438/500\n",
      "200/200 [==============================] - 0s 469us/step - loss: 0.9236 - accuracy: 0.5650\n",
      "Epoch 439/500\n",
      "200/200 [==============================] - 0s 657us/step - loss: 0.9119 - accuracy: 0.5850\n",
      "Epoch 440/500\n",
      "200/200 [==============================] - 0s 479us/step - loss: 0.9249 - accuracy: 0.5800\n",
      "Epoch 441/500\n",
      "200/200 [==============================] - 0s 506us/step - loss: 0.8981 - accuracy: 0.5750\n",
      "Epoch 442/500\n",
      "200/200 [==============================] - 0s 590us/step - loss: 0.9547 - accuracy: 0.5650\n",
      "Epoch 443/500\n",
      "200/200 [==============================] - 0s 416us/step - loss: 0.9032 - accuracy: 0.5750\n",
      "Epoch 444/500\n",
      "200/200 [==============================] - 0s 312us/step - loss: 0.9406 - accuracy: 0.5500\n",
      "Epoch 445/500\n",
      "200/200 [==============================] - 0s 479us/step - loss: 0.9470 - accuracy: 0.5850\n",
      "Epoch 446/500\n",
      "200/200 [==============================] - 0s 443us/step - loss: 0.9139 - accuracy: 0.6000\n",
      "Epoch 447/500\n",
      "200/200 [==============================] - 0s 769us/step - loss: 0.9312 - accuracy: 0.5400\n",
      "Epoch 448/500\n",
      "200/200 [==============================] - 0s 423us/step - loss: 0.8824 - accuracy: 0.6100\n",
      "Epoch 449/500\n",
      "200/200 [==============================] - 0s 423us/step - loss: 0.9232 - accuracy: 0.5600\n",
      "Epoch 450/500\n",
      "200/200 [==============================] - 0s 391us/step - loss: 0.9329 - accuracy: 0.5650\n",
      "Epoch 451/500\n",
      "200/200 [==============================] - 0s 461us/step - loss: 0.9396 - accuracy: 0.5700\n",
      "Epoch 452/500\n",
      "200/200 [==============================] - 0s 439us/step - loss: 0.9421 - accuracy: 0.5650\n",
      "Epoch 453/500\n",
      "200/200 [==============================] - 0s 381us/step - loss: 0.9093 - accuracy: 0.5750\n",
      "Epoch 454/500\n",
      "200/200 [==============================] - 0s 411us/step - loss: 0.9487 - accuracy: 0.5600\n",
      "Epoch 455/500\n",
      "200/200 [==============================] - 0s 423us/step - loss: 0.9101 - accuracy: 0.5800\n",
      "Epoch 456/500\n",
      "200/200 [==============================] - 0s 768us/step - loss: 0.8693 - accuracy: 0.6050\n",
      "Epoch 457/500\n",
      "200/200 [==============================] - 0s 391us/step - loss: 0.8971 - accuracy: 0.5850\n",
      "Epoch 458/500\n",
      "200/200 [==============================] - 0s 345us/step - loss: 0.9269 - accuracy: 0.5500\n",
      "Epoch 459/500\n",
      "200/200 [==============================] - 0s 423us/step - loss: 0.9182 - accuracy: 0.5850\n",
      "Epoch 460/500\n",
      "200/200 [==============================] - 0s 423us/step - loss: 0.8930 - accuracy: 0.6150\n",
      "Epoch 461/500\n",
      "200/200 [==============================] - 0s 739us/step - loss: 0.9109 - accuracy: 0.5900\n",
      "Epoch 462/500\n",
      "200/200 [==============================] - 0s 340us/step - loss: 0.8610 - accuracy: 0.6250\n",
      "Epoch 463/500\n",
      "200/200 [==============================] - 0s 524us/step - loss: 0.9185 - accuracy: 0.5350\n",
      "Epoch 464/500\n",
      "200/200 [==============================] - 0s 554us/step - loss: 0.8798 - accuracy: 0.6150\n",
      "Epoch 465/500\n",
      "200/200 [==============================] - 0s 946us/step - loss: 0.9393 - accuracy: 0.5350\n",
      "Epoch 466/500\n",
      "200/200 [==============================] - 0s 476us/step - loss: 0.9125 - accuracy: 0.5900\n",
      "Epoch 467/500\n",
      "200/200 [==============================] - 0s 351us/step - loss: 0.9114 - accuracy: 0.5700\n",
      "Epoch 468/500\n",
      "200/200 [==============================] - 0s 416us/step - loss: 0.8973 - accuracy: 0.5900\n",
      "Epoch 469/500\n",
      "200/200 [==============================] - 0s 530us/step - loss: 0.8958 - accuracy: 0.5950\n",
      "Epoch 470/500\n",
      "200/200 [==============================] - 0s 534us/step - loss: 0.9167 - accuracy: 0.5900\n",
      "Epoch 471/500\n",
      "200/200 [==============================] - 0s 593us/step - loss: 0.9357 - accuracy: 0.5700\n",
      "Epoch 472/500\n",
      "200/200 [==============================] - 0s 406us/step - loss: 0.9282 - accuracy: 0.5800\n",
      "Epoch 473/500\n",
      "200/200 [==============================] - 0s 423us/step - loss: 0.9078 - accuracy: 0.5950\n",
      "Epoch 474/500\n",
      "200/200 [==============================] - 0s 847us/step - loss: 0.8913 - accuracy: 0.5850\n",
      "Epoch 475/500\n",
      "200/200 [==============================] - 0s 396us/step - loss: 0.8988 - accuracy: 0.6150\n",
      "Epoch 476/500\n",
      "200/200 [==============================] - 0s 337us/step - loss: 0.9319 - accuracy: 0.5350\n",
      "Epoch 477/500\n",
      "200/200 [==============================] - 0s 345us/step - loss: 0.8964 - accuracy: 0.5800\n",
      "Epoch 478/500\n",
      "200/200 [==============================] - 0s 345us/step - loss: 0.8768 - accuracy: 0.5600\n",
      "Epoch 479/500\n",
      "200/200 [==============================] - 0s 735us/step - loss: 0.9111 - accuracy: 0.5850\n",
      "Epoch 480/500\n",
      "200/200 [==============================] - 0s 468us/step - loss: 0.8940 - accuracy: 0.5850\n",
      "Epoch 481/500\n",
      "200/200 [==============================] - 0s 378us/step - loss: 0.9349 - accuracy: 0.5650\n",
      "Epoch 482/500\n",
      "200/200 [==============================] - 0s 362us/step - loss: 0.8975 - accuracy: 0.5800\n",
      "Epoch 483/500\n",
      "200/200 [==============================] - 0s 617us/step - loss: 0.8966 - accuracy: 0.6000\n",
      "Epoch 484/500\n",
      "200/200 [==============================] - 0s 426us/step - loss: 0.8976 - accuracy: 0.6050\n",
      "Epoch 485/500\n",
      "200/200 [==============================] - 0s 423us/step - loss: 0.9228 - accuracy: 0.6000\n",
      "Epoch 486/500\n",
      "200/200 [==============================] - 0s 312us/step - loss: 0.9349 - accuracy: 0.5600\n",
      "Epoch 487/500\n",
      "200/200 [==============================] - 0s 345us/step - loss: 0.9105 - accuracy: 0.5700\n",
      "Epoch 488/500\n",
      "200/200 [==============================] - 0s 869us/step - loss: 0.8685 - accuracy: 0.6000\n",
      "Epoch 489/500\n",
      "200/200 [==============================] - 0s 532us/step - loss: 0.9138 - accuracy: 0.5800\n",
      "Epoch 490/500\n",
      "200/200 [==============================] - 0s 346us/step - loss: 0.9299 - accuracy: 0.5500\n",
      "Epoch 491/500\n",
      "200/200 [==============================] - 0s 345us/step - loss: 0.9140 - accuracy: 0.5900\n",
      "Epoch 492/500\n",
      "200/200 [==============================] - 0s 391us/step - loss: 0.8876 - accuracy: 0.5900\n",
      "Epoch 493/500\n",
      "200/200 [==============================] - 0s 768us/step - loss: 0.9242 - accuracy: 0.5750\n",
      "Epoch 494/500\n",
      "200/200 [==============================] - 0s 345us/step - loss: 0.9383 - accuracy: 0.5550\n",
      "Epoch 495/500\n",
      "200/200 [==============================] - 0s 312us/step - loss: 0.8994 - accuracy: 0.5600\n",
      "Epoch 496/500\n",
      "200/200 [==============================] - 0s 345us/step - loss: 0.9382 - accuracy: 0.5600\n",
      "Epoch 497/500\n",
      "200/200 [==============================] - 0s 610us/step - loss: 0.9212 - accuracy: 0.5650\n",
      "Epoch 498/500\n",
      "200/200 [==============================] - 0s 499us/step - loss: 0.9026 - accuracy: 0.5800\n",
      "Epoch 499/500\n",
      "200/200 [==============================] - 0s 501us/step - loss: 0.9154 - accuracy: 0.5750\n",
      "Epoch 500/500\n",
      "200/200 [==============================] - 0s 312us/step - loss: 0.8950 - accuracy: 0.5700\n"
     ]
    },
    {
     "data": {
      "text/plain": [
       "<keras.callbacks.callbacks.History at 0x21aaf33cf98>"
      ]
     },
     "execution_count": 164,
     "metadata": {},
     "output_type": "execute_result"
    }
   ],
   "source": [
    "INPUT_DIM = 9\n",
    "\n",
    "# Create a 1 layer deep neural network   \n",
    "net = Sequential()\n",
    "net.add(Dense(16, input_dim = INPUT_DIM, activation = \"relu\"))\n",
    "net.add(Dense(32, activation = \"relu\"))\n",
    "net.add(Dropout(0.5))\n",
    "net.add(Dense(10,activation='softmax'))\n",
    "net.compile(loss = 'categorical_crossentropy' #\"mean_squared_error\"\n",
    "            ,optimizer='sgd', metrics=['accuracy'] #optimizer = Adam(lr = 0.01)\n",
    "           )\n",
    "# Train Model\n",
    "net.fit(X_train, y_train #X, one_hot_target,\n",
    "        ,epochs=500\n",
    "        ,batch_size=3\n",
    "       ,verbose=1)"
   ]
  },
  {
   "cell_type": "code",
   "execution_count": 165,
   "metadata": {
    "collapsed": false
   },
   "outputs": [
    {
     "name": "stdout",
     "output_type": "stream",
     "text": [
      "16/16 [==============================] - 0s 7ms/step\n"
     ]
    },
    {
     "data": {
      "text/plain": [
       "[4.353511639350927, 0.3125]"
      ]
     },
     "execution_count": 165,
     "metadata": {},
     "output_type": "execute_result"
    }
   ],
   "source": [
    "net.evaluate(X_test, y_test, batch_size=1)"
   ]
  },
  {
   "cell_type": "markdown",
   "metadata": {},
   "source": [
    "# Predict\n",
    "***"
   ]
  },
  {
   "cell_type": "code",
   "execution_count": 248,
   "metadata": {
    "collapsed": false
   },
   "outputs": [
    {
     "data": {
      "text/plain": [
       "array([8], dtype=int64)"
      ]
     },
     "execution_count": 248,
     "metadata": {},
     "output_type": "execute_result"
    }
   ],
   "source": [
    "# chocolate\n",
    "X_test = np.array([[1,0,1,0,1,0,0,1,0]])\n",
    "\n",
    "net.predict_classes(X_test)"
   ]
  },
  {
   "cell_type": "code",
   "execution_count": null,
   "metadata": {
    "collapsed": true
   },
   "outputs": [],
   "source": []
  },
  {
   "cell_type": "code",
   "execution_count": null,
   "metadata": {
    "collapsed": true
   },
   "outputs": [],
   "source": []
  },
  {
   "cell_type": "code",
   "execution_count": null,
   "metadata": {
    "collapsed": true
   },
   "outputs": [],
   "source": []
  },
  {
   "cell_type": "code",
   "execution_count": null,
   "metadata": {
    "collapsed": true
   },
   "outputs": [],
   "source": []
  }
 ],
 "metadata": {
  "anaconda-cloud": {},
  "kernelspec": {
   "display_name": "Python [conda env:tfEnv]",
   "language": "python",
   "name": "conda-env-tfEnv-py"
  },
  "language_info": {
   "codemirror_mode": {
    "name": "ipython",
    "version": 3
   },
   "file_extension": ".py",
   "mimetype": "text/x-python",
   "name": "python",
   "nbconvert_exporter": "python",
   "pygments_lexer": "ipython3",
   "version": "3.6.7"
  }
 },
 "nbformat": 4,
 "nbformat_minor": 1
}
